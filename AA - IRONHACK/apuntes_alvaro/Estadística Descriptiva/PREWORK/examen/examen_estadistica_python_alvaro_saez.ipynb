{
 "cells": [
  {
   "cell_type": "code",
   "execution_count": 107,
   "id": "01678718",
   "metadata": {},
   "outputs": [],
   "source": [
    "def escape():\n",
    "    # Assign problem data to variables with representative names\n",
    "    # well height, daily advance, night retreat, accumulated distance\n",
    "    daily_climb = [30, 21, 33, 77, 44, 45, 23, 45, 12, 34, 55]\n",
    "    well_height = 125\n",
    "    nightly_fall = 20\n",
    "    total_distance = 0\n",
    "    # Assign 0 to the variable that represents the solution\n",
    "    total_days = 0\n",
    "    for ascending_climb_day in daily_climb:\n",
    "        total_distance += ascending_climb_day\n",
    "        total_days+=1\n",
    "        if total_distance>=well_height: \n",
    "            return total_days\n",
    "        total_distance -= nightly_fall\n",
    "\n",
    "    # YOUR SOLUTION HERE\n"
   ]
  },
  {
   "cell_type": "code",
   "execution_count": 108,
   "id": "a2bf3519",
   "metadata": {},
   "outputs": [
    {
     "data": {
      "text/plain": [
       "5"
      ]
     },
     "execution_count": 108,
     "metadata": {},
     "output_type": "execute_result"
    }
   ],
   "source": [
    "escape()"
   ]
  },
  {
   "cell_type": "code",
   "execution_count": 109,
   "id": "ea3fef45",
   "metadata": {},
   "outputs": [],
   "source": [
    "# What is its maximum displacement in one day? \n",
    "def max_displacement():\n",
    "    daily_climb = [30, 21, 33, 77, 44, 45, 23, 45, 12, 34, 55]\n",
    "    well_height = 125\n",
    "    nightly_fall = 20\n",
    "    total_distance = 0\n",
    "    # YOUR SOLUTION HERE\n",
    "    max_displacement_list =[]\n",
    "    for ascending_climb_day in daily_climb:\n",
    "        daily_distance = ascending_climb_day - nightly_fall\n",
    "        max_displacement_list.append(daily_distance)\n",
    "        total_distance += daily_distance\n",
    "        if total_distance>=well_height:\n",
    "            return max(max_displacement_list)"
   ]
  },
  {
   "cell_type": "code",
   "execution_count": 110,
   "id": "192ee4f8",
   "metadata": {},
   "outputs": [
    {
     "data": {
      "text/plain": [
       "57"
      ]
     },
     "execution_count": 110,
     "metadata": {},
     "output_type": "execute_result"
    }
   ],
   "source": [
    "max_displacement()"
   ]
  },
  {
   "cell_type": "code",
   "execution_count": 111,
   "id": "6ed1eba8",
   "metadata": {},
   "outputs": [],
   "source": [
    "# And its minimum displacement in one day?\n",
    "def min_displacement():\n",
    "    daily_climb = [30, 21, 33, 77, 44, 45, 23, 45, 12, 34, 55]\n",
    "    well_height = 125\n",
    "    nightly_fall = 20\n",
    "    total_distance = 0\n",
    "    # YOUR SOLUTION HERE\n",
    "    min_displacement_list =[]\n",
    "    for ascending_climb_day in daily_climb:\n",
    "        daily_distance = ascending_climb_day - nightly_fall\n",
    "        min_displacement_list.append(daily_distance)\n",
    "        total_distance += daily_distance\n",
    "        if total_distance>=well_height:\n",
    "            return min(min_displacement_list)"
   ]
  },
  {
   "cell_type": "code",
   "execution_count": 112,
   "id": "661dd7e1",
   "metadata": {},
   "outputs": [
    {
     "data": {
      "text/plain": [
       "1"
      ]
     },
     "execution_count": 112,
     "metadata": {},
     "output_type": "execute_result"
    }
   ],
   "source": [
    "min_displacement()"
   ]
  },
  {
   "cell_type": "code",
   "execution_count": 113,
   "id": "9a47bcca",
   "metadata": {},
   "outputs": [],
   "source": [
    "import statistics as stats\n",
    "def avg_speed():   \n",
    "    daily_climb = [30, 21, 33, 77, 44, 45, 23, 45, 12, 34, 55]\n",
    "    well_height = 125\n",
    "    nightly_fall = 20\n",
    "    total_distance = 0\n",
    "    # YOUR SOLUTION HERE\n",
    "    avg_displacement_list =[]\n",
    "    for day in range(0,escape()):\n",
    "        daily_climb_variable = daily_climb[day]\n",
    "        daily_distance = daily_climb_variable-nightly_fall\n",
    "        avg_displacement_list.append(daily_distance)\n",
    "    return round(stats.mean(avg_displacement_list),1)\n",
    "        "
   ]
  },
  {
   "cell_type": "code",
   "execution_count": 114,
   "id": "eb0d11ce",
   "metadata": {},
   "outputs": [
    {
     "data": {
      "text/plain": [
       "21"
      ]
     },
     "execution_count": 114,
     "metadata": {},
     "output_type": "execute_result"
    }
   ],
   "source": [
    "avg_speed()"
   ]
  },
  {
   "cell_type": "code",
   "execution_count": 129,
   "id": "8c6d0c50",
   "metadata": {},
   "outputs": [],
   "source": [
    "# What is the standard deviation of its displacement during the day? Round off your solution to two decimal places. \n",
    "import statistics as stats\n",
    "import numpy as np\n",
    "def standard_deviation():\n",
    "    daily_climb = [30, 21, 33, 77, 44, 45, 23, 45, 12, 34, 55]\n",
    "    well_height = 125\n",
    "    nightly_fall = 20\n",
    "    total_distance = 0\n",
    "    # YOUR SOLUTION HERE\n",
    "    std_displacement_list =[]\n",
    "    for day in range(0,escape()):\n",
    "        daily_climb_variable = daily_climb[day]\n",
    "        daily_distance = daily_climb_variable-nightly_fall\n",
    "        std_displacement_list.append(daily_distance)\n",
    "    return round(np.std(std_displacement_list),2)\n",
    "\n"
   ]
  },
  {
   "cell_type": "code",
   "execution_count": 130,
   "id": "42adc7f0",
   "metadata": {},
   "outputs": [
    {
     "data": {
      "text/plain": [
       "19.44"
      ]
     },
     "execution_count": 130,
     "metadata": {},
     "output_type": "execute_result"
    }
   ],
   "source": [
    "standard_deviation()"
   ]
  },
  {
   "cell_type": "code",
   "execution_count": null,
   "id": "f0cf0f00",
   "metadata": {},
   "outputs": [],
   "source": []
  }
 ],
 "metadata": {
  "kernelspec": {
   "display_name": "Python 3",
   "language": "python",
   "name": "python3"
  },
  "language_info": {
   "codemirror_mode": {
    "name": "ipython",
    "version": 3
   },
   "file_extension": ".py",
   "mimetype": "text/x-python",
   "name": "python",
   "nbconvert_exporter": "python",
   "pygments_lexer": "ipython3",
   "version": "3.8.8"
  }
 },
 "nbformat": 4,
 "nbformat_minor": 5
}
