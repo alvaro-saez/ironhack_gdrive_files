{
 "cells": [
  {
   "cell_type": "code",
   "execution_count": 5,
   "id": "4fde631b",
   "metadata": {},
   "outputs": [],
   "source": [
    "#Measures of Dispersion\n",
    "\n",
    "#1.1 What is the range for the data set?\n",
    "\n",
    "points = [-4, 17, 25, 19, 6, 11, 7]\n",
    "\n",
    "import statistics as stats\n"
   ]
  },
  {
   "cell_type": "code",
   "execution_count": 6,
   "id": "5c941961",
   "metadata": {},
   "outputs": [
    {
     "name": "stdout",
     "output_type": "stream",
     "text": [
      "29\n"
     ]
    }
   ],
   "source": [
    "points_range = max(points)-min(points)\n",
    "print(points_range)"
   ]
  },
  {
   "cell_type": "code",
   "execution_count": 8,
   "id": "6e5572ed",
   "metadata": {},
   "outputs": [],
   "source": [
    "#1.2 You are given the following dataset:\n",
    "data = [2,4,7,1,6,8]\n",
    "\n",
    "#How does the standard deviation change when 6 is replaced with 12? Does it increase, or decrease, or it remains the same?\n"
   ]
  },
  {
   "cell_type": "code",
   "execution_count": 9,
   "id": "0f59ecd3",
   "metadata": {},
   "outputs": [
    {
     "data": {
      "text/plain": [
       "2.804757862395017"
      ]
     },
     "execution_count": 9,
     "metadata": {},
     "output_type": "execute_result"
    }
   ],
   "source": [
    "stats.stdev(data)"
   ]
  },
  {
   "cell_type": "code",
   "execution_count": 11,
   "id": "121fa041",
   "metadata": {},
   "outputs": [
    {
     "name": "stdout",
     "output_type": "stream",
     "text": [
      "[2, 4, 7, 1, 8, 12]\n"
     ]
    }
   ],
   "source": [
    "new_data_list=[]\n",
    "\n",
    "for new_data in data:\n",
    "    if new_data != 6:\n",
    "        new_data_list.append(new_data)\n",
    "new_data_list.append(12)\n",
    "print(new_data_list)"
   ]
  },
  {
   "cell_type": "code",
   "execution_count": 12,
   "id": "bc11c409",
   "metadata": {},
   "outputs": [
    {
     "data": {
      "text/plain": [
       "4.131182235954578"
      ]
     },
     "execution_count": 12,
     "metadata": {},
     "output_type": "execute_result"
    }
   ],
   "source": [
    "stats.stdev(new_data_list)"
   ]
  },
  {
   "cell_type": "markdown",
   "id": "f28fccf6",
   "metadata": {},
   "source": [
    "--> it increase because the difference with the mean is higher"
   ]
  },
  {
   "cell_type": "code",
   "execution_count": 13,
   "id": "4ddaa50e",
   "metadata": {},
   "outputs": [],
   "source": [
    "#Is is possible to have a dataset with 0 standard deviation or variance? If yes, can you think of any dataset with 6 data points that have 0 standard deviation?"
   ]
  },
  {
   "cell_type": "code",
   "execution_count": 14,
   "id": "aa3f7ee9",
   "metadata": {},
   "outputs": [
    {
     "data": {
      "text/plain": [
       "6"
      ]
     },
     "execution_count": 14,
     "metadata": {},
     "output_type": "execute_result"
    }
   ],
   "source": [
    "cero_data = [6,6,6,6,6,6]\n",
    "\n",
    "stats.mean(cero_data)"
   ]
  },
  {
   "cell_type": "code",
   "execution_count": 16,
   "id": "2f5472e7",
   "metadata": {},
   "outputs": [
    {
     "data": {
      "text/plain": [
       "0.0"
      ]
     },
     "execution_count": 16,
     "metadata": {},
     "output_type": "execute_result"
    }
   ],
   "source": [
    "stats.stdev(cero_data)"
   ]
  },
  {
   "cell_type": "code",
   "execution_count": 17,
   "id": "d3948034",
   "metadata": {},
   "outputs": [
    {
     "data": {
      "text/plain": [
       "0"
      ]
     },
     "execution_count": 17,
     "metadata": {},
     "output_type": "execute_result"
    }
   ],
   "source": [
    "stats.variance(cero_data)"
   ]
  },
  {
   "cell_type": "markdown",
   "id": "b48045fa",
   "metadata": {},
   "source": [
    "--> it is possible. When the mean is equal to all the values of the list"
   ]
  },
  {
   "cell_type": "code",
   "execution_count": 18,
   "id": "9652fa25",
   "metadata": {},
   "outputs": [],
   "source": [
    "#We know that standard deviation is a measure of spread in the dataset. What is meant by deviation here? What is the formula for calculating deviation? Can deviation be negative?"
   ]
  },
  {
   "cell_type": "markdown",
   "id": "0f8df282",
   "metadata": {},
   "source": [
    "(Xn-mean)=deviation --> When you are subtracting the mean from each individual observation you are calculating the deviation.\n",
    "\n",
    "A deviation can be negative"
   ]
  },
  {
   "cell_type": "code",
   "execution_count": 19,
   "id": "2d1368fb",
   "metadata": {},
   "outputs": [],
   "source": [
    "#1.5 Given the dataset in the list:\n",
    "\n",
    "last_data = [23, 12, 34, 65, 34, 81]\n",
    "\n",
    "#What is the deviation from the mean for each of the points in the list? Write a for loop and print each of the values.\n"
   ]
  },
  {
   "cell_type": "code",
   "execution_count": 20,
   "id": "04a103c5",
   "metadata": {},
   "outputs": [
    {
     "name": "stdout",
     "output_type": "stream",
     "text": [
      "41.5\n"
     ]
    }
   ],
   "source": [
    "mean_last_data = stats.mean(last_data)\n",
    "print(mean_last_data)"
   ]
  },
  {
   "cell_type": "code",
   "execution_count": 21,
   "id": "abc69b3f",
   "metadata": {},
   "outputs": [
    {
     "name": "stdout",
     "output_type": "stream",
     "text": [
      "-18.5\n",
      "-29.5\n",
      "-7.5\n",
      "23.5\n",
      "-7.5\n",
      "39.5\n"
     ]
    }
   ],
   "source": [
    "for last_data_variable in last_data:\n",
    "    individual_deviation = last_data_variable - mean_last_data\n",
    "    print(individual_deviation)"
   ]
  },
  {
   "cell_type": "code",
   "execution_count": 22,
   "id": "a9fa3866",
   "metadata": {},
   "outputs": [],
   "source": [
    "#How is standard deviation different than variance?"
   ]
  },
  {
   "cell_type": "code",
   "execution_count": 23,
   "id": "54962b9b",
   "metadata": {},
   "outputs": [
    {
     "data": {
      "text/plain": [
       "687.5"
      ]
     },
     "execution_count": 23,
     "metadata": {},
     "output_type": "execute_result"
    }
   ],
   "source": [
    "stats.variance(last_data)"
   ]
  },
  {
   "cell_type": "code",
   "execution_count": 24,
   "id": "44e9650f",
   "metadata": {},
   "outputs": [
    {
     "data": {
      "text/plain": [
       "26.22022120425379"
      ]
     },
     "execution_count": 24,
     "metadata": {},
     "output_type": "execute_result"
    }
   ],
   "source": [
    "stats.stdev(last_data)"
   ]
  },
  {
   "cell_type": "code",
   "execution_count": 25,
   "id": "539649f2",
   "metadata": {},
   "outputs": [
    {
     "data": {
      "text/plain": [
       "687.5"
      ]
     },
     "execution_count": 25,
     "metadata": {},
     "output_type": "execute_result"
    }
   ],
   "source": [
    "stats.stdev(last_data)*stats.stdev(last_data)"
   ]
  },
  {
   "cell_type": "markdown",
   "id": "07f5b74c",
   "metadata": {},
   "source": [
    "--> we can see how the variance is the square of the standard deviation"
   ]
  },
  {
   "cell_type": "code",
   "execution_count": null,
   "id": "bd4ce2ca",
   "metadata": {},
   "outputs": [],
   "source": []
  }
 ],
 "metadata": {
  "kernelspec": {
   "display_name": "Python 3",
   "language": "python",
   "name": "python3"
  },
  "language_info": {
   "codemirror_mode": {
    "name": "ipython",
    "version": 3
   },
   "file_extension": ".py",
   "mimetype": "text/x-python",
   "name": "python",
   "nbconvert_exporter": "python",
   "pygments_lexer": "ipython3",
   "version": "3.8.8"
  }
 },
 "nbformat": 4,
 "nbformat_minor": 5
}
