{
 "cells": [
  {
   "cell_type": "code",
   "execution_count": 1,
   "id": "ed8b9f9a",
   "metadata": {},
   "outputs": [
    {
     "data": {
      "text/plain": [
       "float"
      ]
     },
     "execution_count": 1,
     "metadata": {},
     "output_type": "execute_result"
    }
   ],
   "source": [
    "#EJERCICIO1\n",
    "\n",
    "x1 = 1.1\n",
    "\n",
    "x2 = \"Ironhack\"\n",
    "\n",
    "x3 = \"1.1\"\n",
    "\n",
    "x4 = True \n",
    "\n",
    "x5 = \"True\"\n",
    "\n",
    "x6 = -1\n",
    "\n",
    "type(x1)"
   ]
  },
  {
   "cell_type": "code",
   "execution_count": 2,
   "id": "7560f1b3",
   "metadata": {},
   "outputs": [
    {
     "data": {
      "text/plain": [
       "str"
      ]
     },
     "execution_count": 2,
     "metadata": {},
     "output_type": "execute_result"
    }
   ],
   "source": [
    "type(x2)"
   ]
  },
  {
   "cell_type": "code",
   "execution_count": 3,
   "id": "15726c24",
   "metadata": {},
   "outputs": [
    {
     "data": {
      "text/plain": [
       "str"
      ]
     },
     "execution_count": 3,
     "metadata": {},
     "output_type": "execute_result"
    }
   ],
   "source": [
    "type(x3)"
   ]
  },
  {
   "cell_type": "code",
   "execution_count": 4,
   "id": "bc66fe90",
   "metadata": {},
   "outputs": [
    {
     "data": {
      "text/plain": [
       "bool"
      ]
     },
     "execution_count": 4,
     "metadata": {},
     "output_type": "execute_result"
    }
   ],
   "source": [
    "type(x4)"
   ]
  },
  {
   "cell_type": "code",
   "execution_count": 5,
   "id": "9580cc2a",
   "metadata": {},
   "outputs": [
    {
     "data": {
      "text/plain": [
       "str"
      ]
     },
     "execution_count": 5,
     "metadata": {},
     "output_type": "execute_result"
    }
   ],
   "source": [
    "type(x5)"
   ]
  },
  {
   "cell_type": "code",
   "execution_count": 6,
   "id": "9f30c53e",
   "metadata": {},
   "outputs": [
    {
     "data": {
      "text/plain": [
       "int"
      ]
     },
     "execution_count": 6,
     "metadata": {},
     "output_type": "execute_result"
    }
   ],
   "source": [
    "type(x6)"
   ]
  },
  {
   "cell_type": "code",
   "execution_count": 8,
   "id": "c06914fd",
   "metadata": {},
   "outputs": [],
   "source": [
    "#exercise 1.2\n",
    "\n",
    "#x1 is a float variable because it is a number with decimals\n",
    "#x3 is a string variable because it stores a group of characters encapsulated in double quotes"
   ]
  },
  {
   "cell_type": "code",
   "execution_count": 9,
   "id": "685a8088",
   "metadata": {},
   "outputs": [],
   "source": [
    "#exercise 1.3\n",
    "\n",
    "#x4 is a boolean variable with a True value\n",
    "#x5 is a string variable because it stores a group of characters encapsulated in double quotes"
   ]
  },
  {
   "cell_type": "code",
   "execution_count": 16,
   "id": "f982f171",
   "metadata": {},
   "outputs": [
    {
     "name": "stdout",
     "output_type": "stream",
     "text": [
      "Please enter an integer number: 8\n",
      "Please enter another integer number9\n"
     ]
    }
   ],
   "source": [
    "#exercise 2.1\n",
    "x1 = input(\"Please enter an integer number: \")\n",
    "\n",
    "x2 = input(\"Please enter another integer number\")\n"
   ]
  },
  {
   "cell_type": "code",
   "execution_count": 11,
   "id": "c4b7d630",
   "metadata": {},
   "outputs": [
    {
     "data": {
      "text/plain": [
       "str"
      ]
     },
     "execution_count": 11,
     "metadata": {},
     "output_type": "execute_result"
    }
   ],
   "source": [
    "type(x1)"
   ]
  },
  {
   "cell_type": "code",
   "execution_count": 12,
   "id": "51b30c8a",
   "metadata": {},
   "outputs": [
    {
     "data": {
      "text/plain": [
       "str"
      ]
     },
     "execution_count": 12,
     "metadata": {},
     "output_type": "execute_result"
    }
   ],
   "source": [
    "type(x2)"
   ]
  },
  {
   "cell_type": "code",
   "execution_count": 14,
   "id": "c0674082",
   "metadata": {},
   "outputs": [
    {
     "data": {
      "text/plain": [
       "int"
      ]
     },
     "execution_count": 14,
     "metadata": {},
     "output_type": "execute_result"
    }
   ],
   "source": [
    "x1 = int(x1)\n",
    "type(x1)\n"
   ]
  },
  {
   "cell_type": "code",
   "execution_count": 15,
   "id": "114c57a3",
   "metadata": {},
   "outputs": [
    {
     "data": {
      "text/plain": [
       "int"
      ]
     },
     "execution_count": 15,
     "metadata": {},
     "output_type": "execute_result"
    }
   ],
   "source": [
    "x2 = int(x2)\n",
    "type(x2)"
   ]
  },
  {
   "cell_type": "code",
   "execution_count": 17,
   "id": "5a5f6325",
   "metadata": {},
   "outputs": [
    {
     "data": {
      "text/plain": [
       "False"
      ]
     },
     "execution_count": 17,
     "metadata": {},
     "output_type": "execute_result"
    }
   ],
   "source": [
    "#exercise 2.1\n",
    "x1 == x2"
   ]
  },
  {
   "cell_type": "code",
   "execution_count": 18,
   "id": "347e927b",
   "metadata": {},
   "outputs": [
    {
     "data": {
      "text/plain": [
       "False"
      ]
     },
     "execution_count": 18,
     "metadata": {},
     "output_type": "execute_result"
    }
   ],
   "source": [
    "x1 > x2"
   ]
  },
  {
   "cell_type": "code",
   "execution_count": 19,
   "id": "0849dde7",
   "metadata": {},
   "outputs": [
    {
     "data": {
      "text/plain": [
       "True"
      ]
     },
     "execution_count": 19,
     "metadata": {},
     "output_type": "execute_result"
    }
   ],
   "source": [
    "x2 > x1"
   ]
  },
  {
   "cell_type": "code",
   "execution_count": 20,
   "id": "3216d12c",
   "metadata": {},
   "outputs": [
    {
     "data": {
      "text/plain": [
       "True"
      ]
     },
     "execution_count": 20,
     "metadata": {},
     "output_type": "execute_result"
    }
   ],
   "source": [
    "x1!=x2\n"
   ]
  },
  {
   "cell_type": "code",
   "execution_count": 23,
   "id": "e1453027",
   "metadata": {},
   "outputs": [],
   "source": [
    "x1 = 8\n",
    "x2 = 9"
   ]
  },
  {
   "cell_type": "code",
   "execution_count": 25,
   "id": "69d95c1e",
   "metadata": {},
   "outputs": [],
   "source": [
    "c = x1\n",
    "c-= x2"
   ]
  },
  {
   "cell_type": "code",
   "execution_count": 26,
   "id": "aaecb98a",
   "metadata": {},
   "outputs": [
    {
     "name": "stdout",
     "output_type": "stream",
     "text": [
      "-1\n"
     ]
    }
   ],
   "source": [
    "print(c)"
   ]
  },
  {
   "cell_type": "code",
   "execution_count": 27,
   "id": "2a1b20f7",
   "metadata": {},
   "outputs": [],
   "source": [
    "x1 = x1 + (x2-x1)"
   ]
  },
  {
   "cell_type": "code",
   "execution_count": 28,
   "id": "0dc446e2",
   "metadata": {},
   "outputs": [
    {
     "data": {
      "text/plain": [
       "True"
      ]
     },
     "execution_count": 28,
     "metadata": {},
     "output_type": "execute_result"
    }
   ],
   "source": [
    "x1==x2"
   ]
  },
  {
   "cell_type": "code",
   "execution_count": 29,
   "id": "3d7e50da",
   "metadata": {},
   "outputs": [],
   "source": [
    "#exercise 2.2\n",
    "x1 = 8\n",
    "x2 = 9"
   ]
  },
  {
   "cell_type": "code",
   "execution_count": 32,
   "id": "20eb4e45",
   "metadata": {},
   "outputs": [],
   "source": [
    "import math"
   ]
  },
  {
   "cell_type": "code",
   "execution_count": 34,
   "id": "d9b7aaa7",
   "metadata": {},
   "outputs": [
    {
     "data": {
      "text/plain": [
       "False"
      ]
     },
     "execution_count": 34,
     "metadata": {},
     "output_type": "execute_result"
    }
   ],
   "source": [
    "math.isnan(x1)\n",
    "#Return True if x is a NaN (not a number), and False otherwise."
   ]
  },
  {
   "cell_type": "code",
   "execution_count": 35,
   "id": "bd31876d",
   "metadata": {},
   "outputs": [
    {
     "data": {
      "text/plain": [
       "1.0"
      ]
     },
     "execution_count": 35,
     "metadata": {},
     "output_type": "execute_result"
    }
   ],
   "source": [
    "math.fabs(c)\n",
    "#Return the absolute value of x."
   ]
  },
  {
   "cell_type": "code",
   "execution_count": 36,
   "id": "6633c548",
   "metadata": {},
   "outputs": [
    {
     "data": {
      "text/plain": [
       "True"
      ]
     },
     "execution_count": 36,
     "metadata": {},
     "output_type": "execute_result"
    }
   ],
   "source": [
    "math.isfinite(x1)\n",
    "#Return True if x is neither an infinity nor a NaN, and False otherwise. (Note that 0.0 is considered finite.)"
   ]
  },
  {
   "cell_type": "code",
   "execution_count": null,
   "id": "9cd0c5c7",
   "metadata": {},
   "outputs": [],
   "source": []
  }
 ],
 "metadata": {
  "kernelspec": {
   "display_name": "Python 3",
   "language": "python",
   "name": "python3"
  },
  "language_info": {
   "codemirror_mode": {
    "name": "ipython",
    "version": 3
   },
   "file_extension": ".py",
   "mimetype": "text/x-python",
   "name": "python",
   "nbconvert_exporter": "python",
   "pygments_lexer": "ipython3",
   "version": "3.8.8"
  }
 },
 "nbformat": 4,
 "nbformat_minor": 5
}
