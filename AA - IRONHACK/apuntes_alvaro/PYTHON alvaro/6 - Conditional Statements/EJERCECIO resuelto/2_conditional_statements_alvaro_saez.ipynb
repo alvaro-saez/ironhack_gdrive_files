{
 "cells": [
  {
   "cell_type": "code",
   "execution_count": 1,
   "id": "ed9f4747",
   "metadata": {},
   "outputs": [],
   "source": [
    "#1. Exercise - Conditional Statements\n",
    "\n",
    "#1.1 Ask the user to input a number (should be integer). Check if the number is even or odd. Remember that 0 is neither even nor odd.\n"
   ]
  },
  {
   "cell_type": "code",
   "execution_count": 3,
   "id": "0c9ad603",
   "metadata": {},
   "outputs": [
    {
     "name": "stdout",
     "output_type": "stream",
     "text": [
      "enter a number please: 8\n",
      "8 is even\n"
     ]
    }
   ],
   "source": [
    "x = int(input(\"enter a number please: \"))\n",
    "\n",
    "if (x%2) == 0:\n",
    "    print(\"{0} is even\".format(x))\n",
    "else:\n",
    "    print(\"{0} is odd\".format(x))"
   ]
  },
  {
   "cell_type": "code",
   "execution_count": 4,
   "id": "55e7482b",
   "metadata": {},
   "outputs": [],
   "source": [
    "#1.2 Ask the user to input a number (should be integer). Check whether the number is zero, positive or negative.\n"
   ]
  },
  {
   "cell_type": "code",
   "execution_count": 5,
   "id": "188859e7",
   "metadata": {},
   "outputs": [
    {
     "name": "stdout",
     "output_type": "stream",
     "text": [
      "enter a number: -3\n",
      "-3 is  NEGATIVE\n"
     ]
    }
   ],
   "source": [
    "x = int(input(\"enter a number: \"))\n",
    "if x>0:\n",
    "    print(\"{0} is POSITIVE\".format(x))\n",
    "elif x == 0:\n",
    "    print(\"{0} is ZERO\".format(x))\n",
    "else:\n",
    "    print(\"{0} is  NEGATIVE\".format(x))\n",
    "    "
   ]
  },
  {
   "cell_type": "code",
   "execution_count": 6,
   "id": "85f939c5",
   "metadata": {},
   "outputs": [
    {
     "name": "stdout",
     "output_type": "stream",
     "text": [
      "enter a number: 0\n",
      "0 is ZERO\n"
     ]
    }
   ],
   "source": [
    "x = int(input(\"enter a number: \"))\n",
    "if x>0:\n",
    "    print(\"{0} is POSITIVE\".format(x))\n",
    "elif x == 0:\n",
    "    print(\"{0} is ZERO\".format(x))\n",
    "else:\n",
    "    print(\"{0} is  NEGATIVE\".format(x))"
   ]
  },
  {
   "cell_type": "code",
   "execution_count": 7,
   "id": "64ac90d5",
   "metadata": {},
   "outputs": [
    {
     "name": "stdout",
     "output_type": "stream",
     "text": [
      "enter a number: 2\n",
      "2 is POSITIVE\n"
     ]
    }
   ],
   "source": [
    "x = int(input(\"enter a number: \"))\n",
    "if x>0:\n",
    "    print(\"{0} is POSITIVE\".format(x))\n",
    "elif x == 0:\n",
    "    print(\"{0} is ZERO\".format(x))\n",
    "else:\n",
    "    print(\"{0} is  NEGATIVE\".format(x))"
   ]
  },
  {
   "cell_type": "code",
   "execution_count": 8,
   "id": "62416005",
   "metadata": {},
   "outputs": [],
   "source": [
    "#1.3 A school has following grading system:\n",
    "\n",
    "#a. Below 25 - F\n",
    "#b. 25 to 45 - E\n",
    "#c. 45 to 60 - D\n",
    "#d. 60 to 75 - C\n",
    "#e. 75 to 90 - B\n",
    "#f. Above 90 - A\n",
    "\n",
    "#Ask user to enter marks (assuming the marks are between 0 and 100) and print the corresponding grade.\n",
    "\n"
   ]
  },
  {
   "cell_type": "code",
   "execution_count": 9,
   "id": "8528c056",
   "metadata": {},
   "outputs": [
    {
     "name": "stdout",
     "output_type": "stream",
     "text": [
      "enter your mark please: 99\n",
      "99 is Above 90 - A)\n"
     ]
    }
   ],
   "source": [
    "x = int(input(\"enter your mark please: \"))\n",
    "\n",
    "if x < 25:\n",
    "   print(\"{0} is bellow 25 - F\".format(x))    \n",
    "elif x>= 25 and x<45:\n",
    "   print(\"{0} is 25 to 45 - E\".format(x))\n",
    "elif x>= 45 and x<60:\n",
    "   print(\"{0} is 45 to 60 - D)\".format(x))\n",
    "elif x>= 60 and x<75:\n",
    "   print(\"{0} is 60 to 75 - C)\".format(x))\n",
    "elif x>= 75 and x<90:\n",
    "   print(\"{0} is 75 to 90 - B)\".format(x))\n",
    "else:\n",
    "   print(\"{0} is Above 90 - A)\".format(x))"
   ]
  },
  {
   "cell_type": "code",
   "execution_count": 10,
   "id": "71a41292",
   "metadata": {},
   "outputs": [
    {
     "name": "stdout",
     "output_type": "stream",
     "text": [
      "enter your mark please: 6\n",
      "6 is bellow 25 - F\n"
     ]
    }
   ],
   "source": [
    "x = int(input(\"enter your mark please: \"))\n",
    "\n",
    "if x < 25:\n",
    "   print(\"{0} is bellow 25 - F\".format(x))    \n",
    "elif x>= 25 and x<45:\n",
    "   print(\"{0} is 25 to 45 - E\".format(x))\n",
    "elif x>= 45 and x<60:\n",
    "   print(\"{0} is 45 to 60 - D)\".format(x))\n",
    "elif x>= 60 and x<75:\n",
    "   print(\"{0} is 60 to 75 - C)\".format(x))\n",
    "elif x>= 75 and x<90:\n",
    "   print(\"{0} is 75 to 90 - B)\".format(x))\n",
    "else:\n",
    "   print(\"{0} is Above 90 - A)\".format(x))"
   ]
  },
  {
   "cell_type": "code",
   "execution_count": 19,
   "id": "90e82360",
   "metadata": {},
   "outputs": [],
   "source": [
    "#bonus: In the problem 1.1, we asked you to write a code to enter an integer and then check if that number is even or not. What if the user inputs a letter or some symbol instead? If we don’t handle this properly, code will break. We should prompt the user if the input entered was incorrect."
   ]
  },
  {
   "cell_type": "code",
   "execution_count": 20,
   "id": "0cbcc319",
   "metadata": {},
   "outputs": [
    {
     "name": "stdout",
     "output_type": "stream",
     "text": [
      "enter a number please: 8\n",
      "8.0 is even\n"
     ]
    }
   ],
   "source": [
    "x = input(\"enter a number please: \")\n",
    "\n",
    "if x.replace(\".\",\"\",1).isdigit():\n",
    "    x = float(x)\n",
    "    if (x%2)==0:\n",
    "        print (\"{0} is even\".format(x))\n",
    "    else:\n",
    "        print (\"{0} is odd\".format(x))\n",
    "else: \n",
    "    print(\"{0} is not a number\".format(x))"
   ]
  },
  {
   "cell_type": "code",
   "execution_count": 21,
   "id": "01048f94",
   "metadata": {},
   "outputs": [
    {
     "name": "stdout",
     "output_type": "stream",
     "text": [
      "enter a number please: hi\n",
      "hi is not a number\n"
     ]
    }
   ],
   "source": [
    "x = input(\"enter a number please: \")\n",
    "\n",
    "if x.replace(\".\",\"\",1).isdigit():\n",
    "    x = float(x)\n",
    "    if (x%2)==0:\n",
    "        print (\"{0} is even\".format(x))\n",
    "    else:\n",
    "        print (\"{0} is odd\".format(x))\n",
    "else: \n",
    "    print(\"{0} is not a number\".format(x))"
   ]
  },
  {
   "cell_type": "code",
   "execution_count": null,
   "id": "41414091",
   "metadata": {},
   "outputs": [],
   "source": []
  }
 ],
 "metadata": {
  "kernelspec": {
   "display_name": "Python 3",
   "language": "python",
   "name": "python3"
  },
  "language_info": {
   "codemirror_mode": {
    "name": "ipython",
    "version": 3
   },
   "file_extension": ".py",
   "mimetype": "text/x-python",
   "name": "python",
   "nbconvert_exporter": "python",
   "pygments_lexer": "ipython3",
   "version": "3.8.8"
  }
 },
 "nbformat": 4,
 "nbformat_minor": 5
}
