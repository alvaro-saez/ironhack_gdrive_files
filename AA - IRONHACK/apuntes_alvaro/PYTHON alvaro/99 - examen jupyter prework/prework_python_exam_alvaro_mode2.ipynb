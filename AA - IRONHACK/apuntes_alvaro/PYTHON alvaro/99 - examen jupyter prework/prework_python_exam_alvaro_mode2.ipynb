{
 "cells": [
  {
   "cell_type": "code",
   "execution_count": 1,
   "id": "be042124",
   "metadata": {},
   "outputs": [
    {
     "name": "stdout",
     "output_type": "stream",
     "text": [
      "gandalf wins the clash\n",
      "saruman wins the clash\n",
      "gandalf wins the clash\n",
      "saruman wins the clash\n",
      "gandalf wins the clash\n",
      "saruman wins the clash\n",
      "gandalf wins the clash\n",
      "gandalf wins the clash\n",
      "gandalf wins the clash\n",
      "gandalf wins the battle\n"
     ]
    }
   ],
   "source": [
    "# DO NOT CHANGE THE FUNCTION SIGNATURE IN THE SOLUTION AREA\n",
    "import numpy as np\n",
    "# Which sorcerer won the battle - Gandalf or Saruman?\n",
    "def battle():\n",
    "    power = {\n",
    "    'Fireball': 50, \n",
    "    'Lightning bolt': 40, \n",
    "    'Magic arrow': 10, \n",
    "    'Black Tentacles': 25, \n",
    "    'Contagion': 45\n",
    "    }\n",
    "    gandalf = ['Fireball', 'Lightning bolt', 'Lightning bolt', 'Magic arrow', 'Fireball', 'Magic arrow', 'Lightning bolt', 'Fireball', 'Fireball', 'Fireball']\n",
    "\n",
    "    saruman = ['Contagion', 'Contagion', 'Black Tentacles', 'Fireball', 'Black Tentacles', 'Lightning bolt', 'Magic arrow', 'Contagion', 'Magic arrow', 'Magic arrow']\n",
    "    \n",
    "    gandalf_counter = 0\n",
    "    saruman_counter = 0\n",
    "    gandalf_counter_no_consecutive = 0\n",
    "    saruman_counter_no_consecutive = 0\n",
    "    \n",
    "    for spell_gandalf, spell_saruman in zip(gandalf, saruman):\n",
    "        if power[spell_gandalf] > power[spell_saruman]:\n",
    "            gandalf_counter = gandalf_counter + 1\n",
    "            saruman_counter = 0\n",
    "            gandalf_counter_no_consecutive = gandalf_counter_no_consecutive + 1\n",
    "            saruman_counter_no_consecutive = saruman_counter_no_consecutive + 0\n",
    "            print(\"gandalf wins the clash\")\n",
    "        elif power[spell_saruman] > power[spell_gandalf]:\n",
    "            saruman_counter = saruman_counter + 1\n",
    "            gandalf_counter = 0\n",
    "            saruman_counter_no_consecutive = saruman_counter_no_consecutive + 1\n",
    "            gandalf_counter_no_consecutive = gandalf_counter_no_consecutive + 0\n",
    "            print(\"saruman wins the clash\")\n",
    "        else: \n",
    "            saruman_counter = 0\n",
    "            gandalf_counter = 0\n",
    "            saruman_counter_no_consecutive = saruman_counter_no_consecutive + 0\n",
    "            gandalf_counter_no_consecutive = gandalf_counter_no_consecutive + 0\n",
    "            print(\"clash ends in a tie\")\n",
    "            \n",
    "        if saruman_counter==3:\n",
    "            print(\"saruman wins the battle\")\n",
    "            return \"Saruman\"\n",
    "        elif gandalf_counter==3:\n",
    "            print(\"gandalf wins the battle\")\n",
    "            return \"Gandalf\"\n",
    "    if saruman_counter!=3 and gandalf_counter!=3:\n",
    "        print(\"no consecutive winning\")\n",
    "        if saruman_counter_no_consecutive > gandalf_counter_no_consecutive:\n",
    "            print(\"saruman wins the battle\")\n",
    "            return \"Saruman\"\n",
    "        elif gandalf_counter_no_consecutive > saruman_counter_no_consecutive:\n",
    "            print(\"gandalf wins the battle\")\n",
    "            return \"Gandalf\"\n",
    "        else:\n",
    "            print(\"battle ends in a tie\")\n",
    "            return \"tie\"\n",
    "winner = battle()\n",
    "  \n",
    "#  Average of the spells in the lists? Round off your result to one decimal place.\n",
    "def avg_spells(winner):\n",
    "    power = {\n",
    "    'Fireball': 50, \n",
    "    'Lightning bolt': 40, \n",
    "    'Magic arrow': 10, \n",
    "    'Black Tentacles': 25, \n",
    "    'Contagion': 45\n",
    "    }\n",
    "    gandalf = ['Fireball', 'Lightning bolt', 'Lightning bolt', 'Magic arrow', 'Fireball', 'Magic arrow', 'Lightning bolt', 'Fireball', 'Fireball', 'Fireball']\n",
    "\n",
    "    saruman = ['Contagion', 'Contagion', 'Black Tentacles', 'Fireball', 'Black Tentacles', 'Lightning bolt', 'Magic arrow', 'Contagion', 'Magic arrow', 'Magic arrow']\n",
    "\n",
    "    if winner == \"Gandalf\":\n",
    "        list_final_gandalf=[]\n",
    "        for spell_gandalf in gandalf:\n",
    "            list_final_gandalf.append(power[spell_gandalf])\n",
    "        return round(np.mean(list_final_gandalf),1)\n",
    "    elif winner ==\"Saruman\":\n",
    "        list_final_saruman=[]\n",
    "        for spell_saruman in saruman:\n",
    "            list_final_saruman.append(power[spell_saruman]) \n",
    "        return round(np.mean(list_final_saruman),1)\n",
    "    \n",
    "    else:\n",
    "        print(\"tie\")\n",
    "        return \"tie, no value of spells\"\n",
    "#  Standard deviation of the spells in the lists? Round off your result to one decimal place.\n",
    "def stdev_spells(winner):\n",
    "    power = {\n",
    "    'Fireball': 50, \n",
    "    'Lightning bolt': 40, \n",
    "    'Magic arrow': 10, \n",
    "    'Black Tentacles': 25, \n",
    "    'Contagion': 45\n",
    "    }\n",
    "    gandalf = ['Fireball', 'Lightning bolt', 'Lightning bolt', 'Magic arrow', 'Fireball', 'Magic arrow', 'Lightning bolt', 'Fireball', 'Fireball', 'Fireball']\n",
    "\n",
    "    saruman = ['Contagion', 'Contagion', 'Black Tentacles', 'Fireball', 'Black Tentacles', 'Lightning bolt', 'Magic arrow', 'Contagion', 'Magic arrow', 'Magic arrow']\n",
    "\n",
    "    if winner == \"Gandalf\":\n",
    "        list_final_gandalf=[]\n",
    "        for spell_gandalf in gandalf:\n",
    "            list_final_gandalf.append(power[spell_gandalf])\n",
    "        return round(np.std(list_final_gandalf),1)\n",
    "    elif winner ==\"Saruman\":\n",
    "        list_final_saruman=[]\n",
    "        for spell_saruman in saruman:\n",
    "            list_final_saruman.append(power[spell_saruman]) \n",
    "        return round(np.std(list_final_saruman),1)\n",
    "    \n",
    "    else:\n",
    "        print(\"tie\")\n",
    "        return \"tie, no value of spells\""
   ]
  },
  {
   "cell_type": "code",
   "execution_count": 2,
   "id": "e35b1c2b",
   "metadata": {},
   "outputs": [
    {
     "data": {
      "text/plain": [
       "39.0"
      ]
     },
     "execution_count": 2,
     "metadata": {},
     "output_type": "execute_result"
    }
   ],
   "source": [
    "avg_spells(winner)"
   ]
  },
  {
   "cell_type": "code",
   "execution_count": 3,
   "id": "97c2faf9",
   "metadata": {},
   "outputs": [
    {
     "data": {
      "text/plain": [
       "15.1"
      ]
     },
     "execution_count": 3,
     "metadata": {},
     "output_type": "execute_result"
    }
   ],
   "source": [
    "stdev_spells(winner)"
   ]
  },
  {
   "cell_type": "code",
   "execution_count": null,
   "id": "29b7ac62",
   "metadata": {},
   "outputs": [],
   "source": []
  }
 ],
 "metadata": {
  "kernelspec": {
   "display_name": "Python 3",
   "language": "python",
   "name": "python3"
  },
  "language_info": {
   "codemirror_mode": {
    "name": "ipython",
    "version": 3
   },
   "file_extension": ".py",
   "mimetype": "text/x-python",
   "name": "python",
   "nbconvert_exporter": "python",
   "pygments_lexer": "ipython3",
   "version": "3.8.8"
  }
 },
 "nbformat": 4,
 "nbformat_minor": 5
}
