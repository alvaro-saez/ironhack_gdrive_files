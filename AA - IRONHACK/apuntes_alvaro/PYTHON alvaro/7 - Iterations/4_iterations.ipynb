{
 "cells": [
  {
   "cell_type": "markdown",
   "source": [
    "## Iterations "
   ],
   "metadata": {}
  },
  {
   "cell_type": "markdown",
   "source": [
    "Iterations are used to execute a block of code repeatedly. Python provides **FOR LOOPS** and **WHILE LOOPS** to \n",
    "perform iterations.   \n",
    "In this lesson we will talk about **FOR LOOP** and we will touch briefly **WHILE LOOPS**."
   ],
   "metadata": {}
  },
  {
   "cell_type": "markdown",
   "source": [
    "**IMPORTANT!!!**\n",
    "\n",
    "When should we use the **FOR LOOP**, and when the **WHILE LOOP**?\n",
    "The *rule of thumb is* depends on the number of repeats:\n",
    "\n",
    "* If you know how many times ( no matter how many ) you want to repeat your code **USE A FOOR LOOP**\n",
    "* If the number of times you want to repeat your code is not fixed and is based on a condition **USE A WHILE LOOP**\n",
    "\n",
    "A couple of examples will clarify this distinction. \n",
    "\n",
    "Do you remember the school times when someone was punished to write 500 times: \"I will pay attention to the teacher lessons\"? In this case, you already know beforehand how many times the student has to write the sentence (500). Therefore, you should use a **FOR LOOP**\n",
    "\n",
    "On the other hand, imagine that you're preparing for an exam. How long you should be studying the lesson? You don't know it beforehand, you will be studying until you master the lesson. Then, in this case, you don't know how much time you will need to go over and over the lesson. You have a stoping conditing which is: \"mastering the lesson\". Therefore you should **USE A WHILE LOOP**."
   ],
   "metadata": {}
  },
  {
   "cell_type": "markdown",
   "source": [
    "**This is the general syntax of the FOR loop in Python:**"
   ],
   "metadata": {}
  },
  {
   "cell_type": "raw",
   "source": [
    "for <variable> in <iterable>:\n",
    "    <statement>\n",
    "    <statement>\n",
    "    <statement>"
   ],
   "metadata": {}
  },
  {
   "cell_type": "markdown",
   "source": [
    "Pay attention to a couple of things here. \n",
    "- First the `:` after the `<iterable>` as this indicates an entry point of a \"block\" of statements (there can be as many as you need \"statement\" blocks). This \"block\" contains the instructions you want to repeat shown as `<statement>`. \n",
    "- The second is that the `<statement>` **is not left-aligned**. As you can see, they are a bit shifted to the right, and this is done automatically by the Jupyter notebook or Google collab."
   ],
   "metadata": {}
  },
  {
   "cell_type": "markdown",
   "source": [
    "In the **FOR LOOP**, you can replace `<variable>` with a variable you may want to use ( typically any variable you haven't used before in the code, otherwise, you will overwrite the content of the variable ). On the other hand `<iterable>` is typically a sequence of elements like a list. \n",
    "    \n",
    "In a **FOR LOOP**, the value of the `<variable>` will be replaced by each of the elements of the `<iterable>` until all the values stored in the `<iterable>` are used. \n",
    "In short, the first time content of `<variable>` will be replaced by the value of the first element in the `<iterable>`. Then Python will execute all the statements inside the \"block\". Next, the content of the `<variable>` will be replaced by the next value of the `<iterable>` and all the statements below will be executed again. This process will be repeated until the `<variable>` has been replaced by all the values contained in the `<iterable>`. Therefore, the statements under the **FOR LOOP will be repeated as many times as elements contained in the `<iterable>`**. \n",
    "\n",
    "Thus, if the `<iterable>` contains five elements, then statements below the **FOR LOOP** will be repeated five times.\n",
    "If the `<iterable>` has seven elements, then then the statements below the **FOR LOOP** will be repeated seven times and so on. This is why you will use a **FOR LOOP when you know beforehand the number of times that you want to repeat a piece of code.**"
   ],
   "metadata": {}
  },
  {
   "cell_type": "code",
   "execution_count": 1,
   "source": [
    "# We are using the range function to execute the block of statements (here only a single print command) 10 times\n",
    "# Just like the IF ELIF ELSE conditional statements, all the lines of code with the same indentation are executed\n",
    "\n",
    "for i in range(10):    # Note: here we are using the membership operator \"IN\" \n",
    "    print(i)\n",
    "    print('hello')\n",
    "    # dummy line 1  # Lines of code with the same indentation. \n",
    "    # dummy line 2\n",
    "    # .\n",
    "    #..\n",
    "    # ..."
   ],
   "outputs": [
    {
     "output_type": "stream",
     "name": "stdout",
     "text": [
      "0\n",
      "hello\n",
      "1\n",
      "hello\n",
      "2\n",
      "hello\n",
      "3\n",
      "hello\n",
      "4\n",
      "hello\n",
      "5\n",
      "hello\n",
      "6\n",
      "hello\n",
      "7\n",
      "hello\n",
      "8\n",
      "hello\n",
      "9\n",
      "hello\n"
     ]
    }
   ],
   "metadata": {}
  },
  {
   "cell_type": "markdown",
   "source": [
    "**Here, we will see how the value of \"i\" changes when we use the `range()` function.**  \n",
    "By default, the values are generated starting with 0 and until one is less than the value mentioned in the range() function.  \n",
    "In this case, from 0 to 9."
   ],
   "metadata": {}
  },
  {
   "cell_type": "code",
   "execution_count": 2,
   "source": [
    "# \"i\" is the variable here. It takes on values from the range() function from 0 to 9, iteratively\n",
    "for i in range(10):  \n",
    "    print(i)"
   ],
   "outputs": [
    {
     "output_type": "stream",
     "name": "stdout",
     "text": [
      "0\n",
      "1\n",
      "2\n",
      "3\n",
      "4\n",
      "5\n",
      "6\n",
      "7\n",
      "8\n",
      "9\n"
     ]
    }
   ],
   "metadata": {}
  },
  {
   "cell_type": "markdown",
   "source": [
    "In the following example, we will use **conditional statement** in the **for** loop to print only the even numbers."
   ],
   "metadata": {}
  },
  {
   "cell_type": "code",
   "execution_count": 3,
   "source": [
    "for i in range(10):\n",
    "    if i%2==0:\n",
    "        print(i)"
   ],
   "outputs": [
    {
     "output_type": "stream",
     "name": "stdout",
     "text": [
      "0\n",
      "2\n",
      "4\n",
      "6\n",
      "8\n"
     ]
    }
   ],
   "metadata": {}
  },
  {
   "cell_type": "markdown",
   "source": [
    "Pay attention to the flow of the code and the indentation. `IF` condition is executed 10 times, but \"i\" is only printed when the condition is met because it is contained inside the `IF` statement."
   ],
   "metadata": {}
  },
  {
   "cell_type": "markdown",
   "source": [
    "When we used the `range` function earlier, we mentioned that the values are generated starting from 0.   \n",
    "However, the `range` function can also be used in a couple of other ways. Observe the outputs in the following code:"
   ],
   "metadata": {}
  },
  {
   "cell_type": "code",
   "execution_count": 4,
   "source": [
    "for i in range(3, 10):  # In this case, the iteration starts on 3 until 9\n",
    "    print(i)"
   ],
   "outputs": [
    {
     "output_type": "stream",
     "name": "stdout",
     "text": [
      "3\n",
      "4\n",
      "5\n",
      "6\n",
      "7\n",
      "8\n",
      "9\n"
     ]
    }
   ],
   "metadata": {}
  },
  {
   "cell_type": "code",
   "execution_count": 5,
   "source": [
    "for i in range(0, 10, 2):  # In this case, the iteration starts on 0 until 9 in steps of 2 \n",
    "    print(i)"
   ],
   "outputs": [
    {
     "output_type": "stream",
     "name": "stdout",
     "text": [
      "0\n",
      "2\n",
      "4\n",
      "6\n",
      "8\n"
     ]
    }
   ],
   "metadata": {}
  },
  {
   "cell_type": "markdown",
   "source": [
    "In this example, we will increment the value of `a` variable by a constant at each iteration.  \n",
    "Then, we will print the values of `a` at each iteration. In the end, we will print the final value of `a` after `for` loop ends."
   ],
   "metadata": {}
  },
  {
   "cell_type": "code",
   "execution_count": 6,
   "source": [
    "a = 0\n",
    "constant = 5\n",
    "for i in range(10):\n",
    "    a = a + constant\n",
    "    print(\"Value of a at step\", i, \"is\", a)\n",
    "print(\"This is the final value of a\", a)"
   ],
   "outputs": [
    {
     "output_type": "stream",
     "name": "stdout",
     "text": [
      "Value of a at step 0 is 5\n",
      "Value of a at step 1 is 10\n",
      "Value of a at step 2 is 15\n",
      "Value of a at step 3 is 20\n",
      "Value of a at step 4 is 25\n",
      "Value of a at step 5 is 30\n",
      "Value of a at step 6 is 35\n",
      "Value of a at step 7 is 40\n",
      "Value of a at step 8 is 45\n",
      "Value of a at step 9 is 50\n",
      "This is the final value of a 50\n"
     ]
    }
   ],
   "metadata": {}
  },
  {
   "cell_type": "markdown",
   "source": [
    "-----------------------------"
   ],
   "metadata": {}
  },
  {
   "cell_type": "markdown",
   "source": [
    "### Exercise - Simple Iterations "
   ],
   "metadata": {}
  },
  {
   "cell_type": "markdown",
   "source": [
    "1. Use the `for` loop to print integers from 10 to 30."
   ],
   "metadata": {}
  },
  {
   "cell_type": "code",
   "execution_count": 7,
   "source": [
    "# your code here"
   ],
   "outputs": [],
   "metadata": {}
  },
  {
   "cell_type": "markdown",
   "source": [
    "2. Update the previous code to print all the numbers from 10 to 30 that are multiples of 5. (These are: 5,10, 15,...)"
   ],
   "metadata": {}
  },
  {
   "cell_type": "code",
   "execution_count": 8,
   "source": [
    "# your code here"
   ],
   "outputs": [],
   "metadata": {}
  },
  {
   "cell_type": "markdown",
   "source": [
    "3. Write a code to print this pattern. Modify the print statement in the dummy code provided:\n",
    "\n",
    "    #### Pattern\n",
    "    \n",
    "    ```\n",
    "    *\n",
    "    ***\n",
    "    *****\n",
    "    ```\n",
    "\n",
    "    #### Dummy Code\n",
    "\n",
    "    ```python\n",
    "    for i in range(1, _, _):\n",
    "        print(___)\n",
    "    ```"
   ],
   "metadata": {}
  },
  {
   "cell_type": "code",
   "execution_count": 9,
   "source": [
    "# your code here"
   ],
   "outputs": [],
   "metadata": {}
  },
  {
   "cell_type": "markdown",
   "source": [
    "4. Update the previous code to print the following pattern:\n",
    "\n",
    "    ```\n",
    "      *\n",
    "     ***\n",
    "    *****\n",
    "    ```"
   ],
   "metadata": {}
  },
  {
   "cell_type": "code",
   "execution_count": 10,
   "source": [
    "# your code here"
   ],
   "outputs": [],
   "metadata": {}
  },
  {
   "cell_type": "markdown",
   "source": [
    "5. Take a positve integer input from the user. Find the factorial of that number. Use the factorial method \n",
    "provided in the math library to check if your result is correct or not. You can use the math library to \n",
    "calculate the factorial as follows:\n",
    "\n",
    "    ```py\n",
    "    import math\n",
    "    math.factorial(n) # n is the postive integer for which we want to calculate the factorial \n",
    "    ```\n",
    "\n",
    "    Note: Factorial is defined as:\n",
    "\n",
    "    ```py\n",
    "    5! = 5*4*3*2*1    # \" ! \" is the mathematical notation for factorial\n",
    "    \n",
    "    n! = n*(n-1)*(n-2)*..........*1\n",
    "    ```"
   ],
   "metadata": {}
  },
  {
   "cell_type": "code",
   "execution_count": null,
   "source": [
    "# your code here"
   ],
   "outputs": [],
   "metadata": {}
  },
  {
   "cell_type": "markdown",
   "source": [
    "-----------------------------"
   ],
   "metadata": {}
  },
  {
   "cell_type": "markdown",
   "source": [
    "### Iterating on Lists\n",
    "\n",
    "We talked about lists and dictionaries before. You can also iterate the items of a list or a dictionaries.   \n",
    "Find below some examples of its implementation."
   ],
   "metadata": {}
  },
  {
   "cell_type": "markdown",
   "source": [
    "Here we have a list with some integer values. We will use the operator `IN` to iterate on the values. \n",
    "\n",
    "The `item` variable takes the values from the list starting with index 0 until the length of the list:"
   ],
   "metadata": {}
  },
  {
   "cell_type": "code",
   "execution_count": 1,
   "source": [
    "x = [12, 43, 4, 1, 6, 343, 10]\n",
    "for item in x:\n",
    "    print(item)"
   ],
   "outputs": [
    {
     "output_type": "stream",
     "name": "stdout",
     "text": [
      "12\n",
      "43\n",
      "4\n",
      "1\n",
      "6\n",
      "343\n",
      "10\n"
     ]
    }
   ],
   "metadata": {}
  },
  {
   "cell_type": "markdown",
   "source": [
    "We can iterate on the elements of the list, irrespective of the data type. An example is shown below:"
   ],
   "metadata": {}
  },
  {
   "cell_type": "code",
   "execution_count": 2,
   "source": [
    "fruits = ['apple', 'orange', 'banana', 'grapes', 'pineapple']\n",
    "for fruit in fruits:\n",
    "    print(fruit)"
   ],
   "outputs": [
    {
     "output_type": "stream",
     "name": "stdout",
     "text": [
      "apple\n",
      "orange\n",
      "banana\n",
      "grapes\n",
      "pineapple\n"
     ]
    }
   ],
   "metadata": {}
  },
  {
   "cell_type": "markdown",
   "source": [
    "Here is a simple example to add the elements of a list. We do it in several steps. \n",
    "\n",
    "1. We define the list.\n",
    "2. We define the variable `total` to store the sum of all the list elements.\n",
    "3. As we know how many elements we want to add, we use a **FOR LOOP** to go through all the elements in the list.\n",
    "4. We update the value of the `total` variable."
   ],
   "metadata": {}
  },
  {
   "cell_type": "code",
   "execution_count": null,
   "source": [
    "num_list = [34, 12, 93, 783, 330, 896, 1, 55]\n",
    "total = 0\n",
    "\n",
    "for i in num_list:\n",
    "    total += i  # total = total + i\n",
    "    print(\"Total at step\",i, \"is\", total)\n",
    "    \n",
    "print('\\n')  # to add an empty line (this is new line operator, it moves the cursor to the next line)\n",
    "print(\"The final total is \", total)"
   ],
   "outputs": [],
   "metadata": {}
  },
  {
   "cell_type": "markdown",
   "source": [
    "### Add elements to an empty list"
   ],
   "metadata": {}
  },
  {
   "cell_type": "markdown",
   "source": [
    "In the following example, we will show how to define an empty list and add elements to it using iterations.  \n",
    "\n",
    "**Problem statement is:** we are given a list with some integer elements. We want to create a new list that will consist of the squares of each element of the list. \n",
    "\n",
    "For this purpose, we can use the function `append()` that only works when it's applied to a list. It can add any kind of element to the end of a given list."
   ],
   "metadata": {}
  },
  {
   "cell_type": "code",
   "execution_count": null,
   "source": [
    "data = [1, 2, 3, 4, 5, 6, 7, 8, 9, 10]\n",
    "new_list = [] # Defining an empty list \n",
    "\n",
    "for item in data:\n",
    "    new_list.append(item**2)  # at each iteration, square for the value is calculated and appended to the list \n",
    "print(new_list)"
   ],
   "outputs": [],
   "metadata": {}
  },
  {
   "cell_type": "markdown",
   "source": [
    "-----------------------------"
   ],
   "metadata": {}
  },
  {
   "cell_type": "markdown",
   "source": [
    "### Exercise : Iterations on Lists"
   ],
   "metadata": {}
  },
  {
   "cell_type": "markdown",
   "source": [
    "1. Given the list:\n",
    "\n",
    "    ```py\n",
    "    x = [12, 43, 4, 1, 6, 343, 10, 34, 12, 93, 783, 330, 896, 1, 55]\n",
    "    ```\n",
    "\n",
    "   - Write a code to find only those numbers that are divisible by 3.  \n",
    "   - Write a code to find only those numbers in the list that end with the digit 3. Store the results in an empty list called \"output_list\".\n",
    "   - Find the minimum in the list `x`. Conduct your own research to see if you can use any function directly.\n",
    "   - Find the maximum in the list `x`. Conduct your own research to see if you can use any function directly."
   ],
   "metadata": {}
  },
  {
   "cell_type": "code",
   "execution_count": null,
   "source": [
    "# your code here"
   ],
   "outputs": [],
   "metadata": {}
  },
  {
   "cell_type": "markdown",
   "source": [
    "-----------------------------"
   ],
   "metadata": {}
  },
  {
   "cell_type": "markdown",
   "source": [
    "### Iterating on Dictionaries\n",
    "\n",
    "Similarly we can also iterate on the elements of a dictionary. A simple example is shown below:"
   ],
   "metadata": {}
  },
  {
   "cell_type": "code",
   "execution_count": null,
   "source": [
    "#example 1"
   ],
   "outputs": [],
   "metadata": {}
  },
  {
   "cell_type": "code",
   "execution_count": 3,
   "source": [
    "x = {'key1': 100 , 'key2': 200 , 'key3':300}"
   ],
   "outputs": [],
   "metadata": {}
  },
  {
   "cell_type": "code",
   "execution_count": 4,
   "source": [
    "print(x.keys())"
   ],
   "outputs": [
    {
     "output_type": "stream",
     "name": "stdout",
     "text": [
      "dict_keys(['key1', 'key2', 'key3'])\n"
     ]
    }
   ],
   "metadata": {}
  },
  {
   "cell_type": "code",
   "execution_count": 5,
   "source": [
    "for key in x.keys():\n",
    "    print(x[key])"
   ],
   "outputs": [
    {
     "output_type": "stream",
     "name": "stdout",
     "text": [
      "100\n",
      "200\n",
      "300\n"
     ]
    }
   ],
   "metadata": {}
  },
  {
   "cell_type": "markdown",
   "source": [
    "When we apply the function `keys()` over a dictionary, it gives back an `<iterable>` that we can use in a for loop."
   ],
   "metadata": {}
  },
  {
   "cell_type": "code",
   "execution_count": null,
   "source": [
    "# example 2"
   ],
   "outputs": [],
   "metadata": {}
  },
  {
   "cell_type": "code",
   "execution_count": 6,
   "source": [
    "for key, value in x.items():\n",
    "    print(\"For \", key, \" the value is: \", value)"
   ],
   "outputs": [
    {
     "output_type": "stream",
     "name": "stdout",
     "text": [
      "For  key1  the value is:  100\n",
      "For  key2  the value is:  200\n",
      "For  key3  the value is:  300\n"
     ]
    }
   ],
   "metadata": {
    "scrolled": true
   }
  },
  {
   "cell_type": "markdown",
   "source": [
    "When we apply the function `items()` over a dictionary, it gives back an `<iterable>` of pair of key-value pairs that we can use in a for loop."
   ],
   "metadata": {}
  },
  {
   "cell_type": "code",
   "execution_count": null,
   "source": [
    "# example 3"
   ],
   "outputs": [],
   "metadata": {}
  },
  {
   "cell_type": "code",
   "execution_count": 7,
   "source": [
    "ages = {'Brian':23, 'Amy':22, 'Darlene':47, 'Ralph':32, 'Jordan':28, 'Stephanie':35}\n",
    "\n",
    "for name, age in ages.items():\n",
    "    print(name, \"is\", age, \"years old.\")"
   ],
   "outputs": [
    {
     "output_type": "stream",
     "name": "stdout",
     "text": [
      "Brian is 23 years old.\n",
      "Amy is 22 years old.\n",
      "Darlene is 47 years old.\n",
      "Ralph is 32 years old.\n",
      "Jordan is 28 years old.\n",
      "Stephanie is 35 years old.\n"
     ]
    }
   ],
   "metadata": {}
  },
  {
   "cell_type": "markdown",
   "source": [
    "**Note:** Dictionaries are a very nice type of variable as it allows you to group several variables together. They are specially suited to count different things as you can set each counter as a **key** and the count as the corresponding **value**.\n",
    "\n",
    "Let's see an example."
   ],
   "metadata": {}
  },
  {
   "cell_type": "markdown",
   "source": [
    "#### Exercise: Iterations on Dictionaries"
   ],
   "metadata": {}
  },
  {
   "cell_type": "markdown",
   "source": [
    "1. Given this dictionary:"
   ],
   "metadata": {}
  },
  {
   "cell_type": "code",
   "execution_count": null,
   "source": [
    "word_freq = {'love': 25, 'conversation': 1, 'every': 6, \"we're\": 1, 'plate': 1, 'sour': 1, 'jukebox': 1, 'now': 11, 'taxi': 1, 'fast': 1, 'bag': 1, 'man': 1, 'push': 3, 'baby': 14, 'going': 1, 'you': 16, \"don't\": 2, 'one': 1, 'mind': 2, 'backseat': 1, 'friends': 1, 'then': 3, 'know': 2}"
   ],
   "outputs": [],
   "metadata": {}
  },
  {
   "cell_type": "markdown",
   "source": [
    "- Iterate on the items of this dictionary to print only those keys where the freqeuncy of the word is less than 3?\n",
    "- Which is the word with the highest frequency?"
   ],
   "metadata": {}
  },
  {
   "cell_type": "code",
   "execution_count": null,
   "source": [
    "# your code here"
   ],
   "outputs": [],
   "metadata": {}
  },
  {
   "cell_type": "markdown",
   "source": [
    "## While Loops  "
   ],
   "metadata": {}
  },
  {
   "cell_type": "markdown",
   "source": [
    "While loop executes a block of statement **until the condition is true**. As soon as the condition is false, flow of the code jumps out of the while loop and starts executing the code after the while loop. \n",
    "\n",
    "**BEWARE!!!** You need to make sure that the condition of the **WHILE LOOP** will change sooner or later as otherwsie the Python code will never end.\n",
    "\n",
    "The general structure of a while loop is:"
   ],
   "metadata": {}
  },
  {
   "cell_type": "raw",
   "source": [
    "while <condition>:\n",
    "    <statement>\n",
    "    <statement>\n",
    "    <statement>"
   ],
   "metadata": {}
  },
  {
   "cell_type": "markdown",
   "source": [
    "where:\n",
    "- `<condition>` is any Python logical conditionm and \n",
    "- `<statement>` is any Python instruction you want to repeat while `<condition>` is true."
   ],
   "metadata": {}
  },
  {
   "cell_type": "markdown",
   "source": [
    "Similarly to the **FOR LOOP** a couple of things are worth of paying attention here. \n",
    "\n",
    "First the `:` after the `<condition>` as this indicates an entry point of a \"block\" of statements (it can contain as many as you want). This \"block\" contain the instructions you want to repeat shown as `<statement>`. \n",
    "\n",
    "The second is that the `<statement>` **are not left aligned**. As you can see they are a bit shifted to the right and this is done automatically by the jupyter notebook or Google colab."
   ],
   "metadata": {}
  },
  {
   "cell_type": "code",
   "execution_count": null,
   "source": [
    "i = 0 \n",
    "while i<10:\n",
    "    print(\"Hello\")\n",
    "    print(i)\n",
    "    i = i+1 # we update the value of i depending on how many times or how we want the while loop to work "
   ],
   "outputs": [],
   "metadata": {}
  },
  {
   "cell_type": "markdown",
   "source": [
    "We initialize a variable `i` that we put a condition on in the `WHILE` statement. \n",
    "We use it to control the execution of the iterations. \n",
    "\n",
    "**Beware** that we need to change the value of  the variable `i` inside the while loop as otherwise the loop will never end ad `i<10` will allways be true."
   ],
   "metadata": {}
  },
  {
   "cell_type": "code",
   "execution_count": null,
   "source": [
    "i = 0\n",
    "while i<10:\n",
    "    print(\"Hello\")\n",
    "    print(i)\n",
    "    i = i + 3 # we update the value of i depending on how many times or how we want the while loop to work "
   ],
   "outputs": [],
   "metadata": {}
  },
  {
   "cell_type": "code",
   "execution_count": 13,
   "source": [
    "word = \"IRONHACK\"\n",
    "i = 0\n",
    "while i < len(word): # Here, the `len()` function returns how many elements (letters or blanck spaces) contains the string.\n",
    "    print(word[i])\n",
    "    i=i+1"
   ],
   "outputs": [
    {
     "output_type": "stream",
     "name": "stdout",
     "text": [
      "I\n",
      "R\n",
      "O\n",
      "N\n",
      "H\n",
      "A\n",
      "C\n",
      "K\n"
     ]
    }
   ],
   "metadata": {}
  },
  {
   "cell_type": "code",
   "execution_count": null,
   "source": [],
   "outputs": [],
   "metadata": {}
  },
  {
   "cell_type": "markdown",
   "source": [
    "**Please go through a guided example to understand how the while loop can be used to solve a problem**"
   ],
   "metadata": {}
  },
  {
   "cell_type": "markdown",
   "source": [
    "**Also please pay attention to this problem, we will ask you a similar question in the assessment as well !!**"
   ],
   "metadata": {}
  },
  {
   "cell_type": "markdown",
   "source": [
    "### Snail and well\n",
    "\n",
    "A snail falls at the bottom of a 125 cm well. Each day the snail rises 30 cm. But at night, while sleeping, the snail slides 20 cm because the walls are wet. \n",
    "\n",
    "How many days does it take to escape from the well?"
   ],
   "metadata": {}
  },
  {
   "cell_type": "markdown",
   "source": [
    "**The things to keep in mind when solving this problem**:\n",
    "\n",
    "1. Do you know beforehand, how many days it will take the snail to climb the well? *Hint*: Use the corresponding loop.\n",
    "   \n",
    "2. You will need to keep track of the snail's progress. *Hint*: Therefore, you need a variable to store the total distance climbed.\n",
    "   \n",
    "3. You will need to update the progress variable with the daily climb and the nightly fall.\n",
    "   \n",
    "4. You need to compare the snail distance against the well's height.\n",
    "   \n",
    "5. Finally, you need to keep track of the (number of) days until the snail climbed the wall."
   ],
   "metadata": {}
  },
  {
   "cell_type": "code",
   "execution_count": 12,
   "source": [
    "# Assign problem data to variables with representative names\n",
    "# well height, daily advance, night retreat, accumulated distance\n",
    "well_height = 125\n",
    "daily_climb = 30\n",
    "nightly_fall = 20\n",
    "total_distance = 0\n",
    "\n",
    "# Assign 0 to the variable that represents the solution\n",
    "total_days = 0\n",
    "\n",
    "# Assume we begin during the day, we use this boolean to determine if it is day or night\n",
    "is_day = True\n",
    "\n",
    "# Write the code that solves the problem\n",
    "while (total_distance < well_height):\n",
    "    if (is_day):\n",
    "        total_distance += daily_climb\n",
    "        total_days += 1\n",
    "        is_day = False\n",
    "    else:\n",
    "        total_distance -= nightly_fall\n",
    "        is_day = True\n",
    "        # Assume we only add days at end of night\n",
    "        \n",
    "    \n",
    "# Print the result with print('Days =', days)\n",
    "print('Days =', total_days)"
   ],
   "outputs": [
    {
     "output_type": "stream",
     "name": "stdout",
     "text": [
      "Days = 11\n"
     ]
    }
   ],
   "metadata": {}
  },
  {
   "cell_type": "code",
   "execution_count": null,
   "source": [],
   "outputs": [],
   "metadata": {}
  }
 ],
 "metadata": {
  "kernelspec": {
   "name": "python3",
   "display_name": "Python 2.7.16 64-bit"
  },
  "language_info": {
   "codemirror_mode": {
    "name": "ipython",
    "version": 3
   },
   "file_extension": ".py",
   "mimetype": "text/x-python",
   "name": "python",
   "nbconvert_exporter": "python",
   "pygments_lexer": "ipython3",
   "version": "2.7.16"
  },
  "interpreter": {
   "hash": "767d51c1340bd893661ea55ea3124f6de3c7a262a8b4abca0554b478b1e2ff90"
  }
 },
 "nbformat": 4,
 "nbformat_minor": 2
}