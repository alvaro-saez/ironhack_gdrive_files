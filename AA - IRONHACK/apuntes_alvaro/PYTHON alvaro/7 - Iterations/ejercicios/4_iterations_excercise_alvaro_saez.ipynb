{
 "cells": [
  {
   "cell_type": "code",
   "execution_count": 1,
   "id": "681b94b0",
   "metadata": {},
   "outputs": [],
   "source": [
    "#Python: Iterations\n",
    "#1. Exercise - Simple Iterations\n",
    "#1.1 Write a simple for loop to print integers from 10 to 30. Also write a code to print those numbers in steps of 3."
   ]
  },
  {
   "cell_type": "code",
   "execution_count": 14,
   "id": "3382c15c",
   "metadata": {},
   "outputs": [
    {
     "name": "stdout",
     "output_type": "stream",
     "text": [
      "10\n",
      "11\n",
      "12\n",
      "13\n",
      "14\n",
      "15\n",
      "16\n",
      "17\n",
      "18\n",
      "19\n",
      "20\n",
      "21\n",
      "22\n",
      "23\n",
      "24\n",
      "25\n",
      "26\n",
      "27\n",
      "28\n",
      "29\n"
     ]
    }
   ],
   "source": [
    "#integers from 10 to 30\n",
    "for i in range(10,30):\n",
    "    print(i)"
   ]
  },
  {
   "cell_type": "code",
   "execution_count": 15,
   "id": "fa00023e",
   "metadata": {},
   "outputs": [
    {
     "name": "stdout",
     "output_type": "stream",
     "text": [
      "10\n",
      "13\n",
      "16\n",
      "19\n",
      "22\n",
      "25\n",
      "28\n"
     ]
    }
   ],
   "source": [
    "#in steps of 3\n",
    "for i in range (10,30,3):\n",
    "    print(i)"
   ]
  },
  {
   "cell_type": "code",
   "execution_count": 10,
   "id": "90254cd1",
   "metadata": {},
   "outputs": [],
   "source": [
    "#1.2 Update the previous code to print all the numbers from 10 to 30 that are multiples of 5."
   ]
  },
  {
   "cell_type": "code",
   "execution_count": 21,
   "id": "bfacbd24",
   "metadata": {},
   "outputs": [
    {
     "name": "stdout",
     "output_type": "stream",
     "text": [
      "10\n",
      "15\n",
      "20\n",
      "25\n"
     ]
    }
   ],
   "source": [
    "#multiples of 5 in the range from 10 to 30\n",
    "for i in range (10,30,5):\n",
    "    print(i)"
   ]
  },
  {
   "cell_type": "code",
   "execution_count": 24,
   "id": "d045a70e",
   "metadata": {},
   "outputs": [],
   "source": [
    "#1.3 Write a code to print this pattern. Modify the print statement in the dummy code provided:\n",
    "# ***\n",
    "# ***"
   ]
  },
  {
   "cell_type": "code",
   "execution_count": 78,
   "id": "f939aec7",
   "metadata": {},
   "outputs": [
    {
     "name": "stdout",
     "output_type": "stream",
     "text": [
      "***\n",
      "***\n"
     ]
    }
   ],
   "source": [
    "for i in range(1, 3, 1):\n",
    "    print(\"***\")"
   ]
  },
  {
   "cell_type": "code",
   "execution_count": 46,
   "id": "cef061b4",
   "metadata": {},
   "outputs": [],
   "source": [
    "#1.4 Update the previous code to print the following pattern:\n",
    "# ****\n",
    "# ****"
   ]
  },
  {
   "cell_type": "code",
   "execution_count": 77,
   "id": "03dd0028",
   "metadata": {},
   "outputs": [
    {
     "name": "stdout",
     "output_type": "stream",
     "text": [
      "****\n",
      "****\n"
     ]
    }
   ],
   "source": [
    "for i in range(1, 3, 1):\n",
    "    print(\"****\")"
   ]
  },
  {
   "cell_type": "code",
   "execution_count": 66,
   "id": "fc33fc5f",
   "metadata": {},
   "outputs": [],
   "source": [
    "#1.5 Take a positive integer input from the user. Find the factorial of that number. Use the factorial method provided in the math library to check if your result is correct or not. You can use the math library to calculate the factorial as follows:"
   ]
  },
  {
   "cell_type": "code",
   "execution_count": 80,
   "id": "aee772d8",
   "metadata": {},
   "outputs": [],
   "source": [
    "import math"
   ]
  },
  {
   "cell_type": "code",
   "execution_count": 95,
   "id": "b5a8c51f",
   "metadata": {},
   "outputs": [
    {
     "name": "stdout",
     "output_type": "stream",
     "text": [
      "enter a positive integer: 5\n",
      "Thank you, 5.0 is POSITIVE, its factorial is:\n",
      "120\n"
     ]
    }
   ],
   "source": [
    "x = input(\"enter a positive integer: \")\n",
    "\n",
    "if x.replace(\".\",\"\",1).isdigit():\n",
    "    x = float(x) \n",
    "    if x>=0:\n",
    "        print(\"Thank you, {0} is POSITIVE, its factorial is:\".format(x)) \n",
    "        print(math.factorial(x))\n",
    "    else:\n",
    "        print(\"{0} is  NEGATIVE, please enter a POSITIVE integer\".format(x))\n",
    "else: \n",
    "    print(\"{0} is not a number, please enter a POSITIVE integer\".format(x))"
   ]
  },
  {
   "cell_type": "code",
   "execution_count": 96,
   "id": "b2b7a34a",
   "metadata": {},
   "outputs": [],
   "source": [
    "#2. Exercise - Iterations on Lists\n",
    "#2.1 Given the list:\n",
    "x = [12,43,4,1,6,343,10, 34, 12, 93, 783, 330, 896, 1, 55]\n"
   ]
  },
  {
   "cell_type": "code",
   "execution_count": 97,
   "id": "b7b322d2",
   "metadata": {},
   "outputs": [
    {
     "name": "stdout",
     "output_type": "stream",
     "text": [
      "[12, 6, 12, 93, 783, 330]\n"
     ]
    }
   ],
   "source": [
    "#Write a code to find only those numbers that are divisible by 3.\n",
    "new_list =[]\n",
    "for i in x:\n",
    "    if i%3==0:\n",
    "        new_list.append(i)\n",
    "print(new_list)\n",
    "    "
   ]
  },
  {
   "cell_type": "code",
   "execution_count": 98,
   "id": "413385e8",
   "metadata": {},
   "outputs": [],
   "source": [
    "#Write a code to find only those numbers in the list that end with the digit 3. Note: for this one you might have to convert the integers to string and then use its index to find the last digit. A simple example to use indexes with string is shown below:"
   ]
  },
  {
   "cell_type": "code",
   "execution_count": 108,
   "id": "ddc2a56f",
   "metadata": {},
   "outputs": [
    {
     "name": "stdout",
     "output_type": "stream",
     "text": [
      "['43', '343', '93', '783']\n"
     ]
    }
   ],
   "source": [
    "second_list=[]\n",
    "for i in x:\n",
    "    b = str(i)\n",
    "\n",
    "    if b.endswith(\"3\"):\n",
    "        second_list.append(b)\n",
    "print(second_list)\n",
    "    "
   ]
  },
  {
   "cell_type": "code",
   "execution_count": 109,
   "id": "811fc5ef",
   "metadata": {},
   "outputs": [],
   "source": [
    "#Find the minimum in the list x. Conduct your own research to see if you can use any function directly."
   ]
  },
  {
   "cell_type": "code",
   "execution_count": 110,
   "id": "380185e6",
   "metadata": {},
   "outputs": [
    {
     "data": {
      "text/plain": [
       "1"
      ]
     },
     "execution_count": 110,
     "metadata": {},
     "output_type": "execute_result"
    }
   ],
   "source": [
    "min(x)"
   ]
  },
  {
   "cell_type": "code",
   "execution_count": 111,
   "id": "301a54ea",
   "metadata": {},
   "outputs": [
    {
     "data": {
      "text/plain": [
       "896"
      ]
     },
     "execution_count": 111,
     "metadata": {},
     "output_type": "execute_result"
    }
   ],
   "source": [
    "#Find the maximum in the list x. Conduct your own research to see if you can use any function directly.\n",
    "max(x)"
   ]
  },
  {
   "cell_type": "code",
   "execution_count": 112,
   "id": "1d4727b9",
   "metadata": {},
   "outputs": [],
   "source": [
    "#3. Exercise - Iterations on Dictionaries\n",
    "#3.1 Given this dictionary:\n",
    "word_freq = {'love': 25, 'conversation': 1, 'every': 6, \"we're\": 1, 'plate': 1, 'sour': 1, 'jukebox': 1, 'now': 11, 'taxi': 1, 'fast': 1, 'bag': 1, 'man': 1, 'push': 3, 'baby': 14, 'going': 1, 'you': 16, \"don't\": 2, 'one': 1, 'mind': 2, 'backseat': 1, 'friends': 1, 'then': 3, 'know': 2}\n"
   ]
  },
  {
   "cell_type": "code",
   "execution_count": 113,
   "id": "0f1f8cfb",
   "metadata": {},
   "outputs": [],
   "source": [
    "#Iterate on the items of this dictionary to print only those keys where the frequency of the word is less than 3."
   ]
  },
  {
   "cell_type": "code",
   "execution_count": 114,
   "id": "f7511b3a",
   "metadata": {},
   "outputs": [
    {
     "name": "stdout",
     "output_type": "stream",
     "text": [
      "['conversation', \"we're\", 'plate', 'sour', 'jukebox', 'taxi', 'fast', 'bag', 'man', 'going', \"don't\", 'one', 'mind', 'backseat', 'friends', 'know']\n"
     ]
    }
   ],
   "source": [
    "new_list_freq_less3 = []\n",
    "for key, value in word_freq.items():\n",
    "    if value<3:\n",
    "        new_list_freq_less3.append(key)\n",
    "print(new_list_freq_less3)"
   ]
  },
  {
   "cell_type": "code",
   "execution_count": 115,
   "id": "a3c32f71",
   "metadata": {},
   "outputs": [],
   "source": [
    "#Which is the word with the highest frequency?\n"
   ]
  },
  {
   "cell_type": "code",
   "execution_count": 116,
   "id": "6ab12319",
   "metadata": {},
   "outputs": [
    {
     "data": {
      "text/plain": [
       "[25, 1, 6, 1, 1, 1, 1, 11, 1, 1, 1, 1, 3, 14, 1, 16, 2, 1, 2, 1, 1, 3, 2]"
      ]
     },
     "execution_count": 116,
     "metadata": {},
     "output_type": "execute_result"
    }
   ],
   "source": [
    "list(word_freq.values())\n"
   ]
  },
  {
   "cell_type": "code",
   "execution_count": 117,
   "id": "90391593",
   "metadata": {},
   "outputs": [
    {
     "data": {
      "text/plain": [
       "25"
      ]
     },
     "execution_count": 117,
     "metadata": {},
     "output_type": "execute_result"
    }
   ],
   "source": [
    "max(list(word_freq.values()))"
   ]
  },
  {
   "cell_type": "code",
   "execution_count": 118,
   "id": "563c06e2",
   "metadata": {},
   "outputs": [
    {
     "data": {
      "text/plain": [
       "25"
      ]
     },
     "execution_count": 118,
     "metadata": {},
     "output_type": "execute_result"
    }
   ],
   "source": [
    "max(word_freq.values())"
   ]
  },
  {
   "cell_type": "code",
   "execution_count": 120,
   "id": "2120dcdf",
   "metadata": {},
   "outputs": [
    {
     "name": "stdout",
     "output_type": "stream",
     "text": [
      "['love']\n"
     ]
    }
   ],
   "source": [
    "new_list_highest_freq = []\n",
    "for key, value in word_freq.items():\n",
    "    if value==max(word_freq.values()):\n",
    "       new_list_highest_freq.append(key) \n",
    "print(new_list_highest_freq)"
   ]
  },
  {
   "cell_type": "code",
   "execution_count": null,
   "id": "8d5cacd6",
   "metadata": {},
   "outputs": [],
   "source": []
  }
 ],
 "metadata": {
  "kernelspec": {
   "display_name": "Python 3",
   "language": "python",
   "name": "python3"
  },
  "language_info": {
   "codemirror_mode": {
    "name": "ipython",
    "version": 3
   },
   "file_extension": ".py",
   "mimetype": "text/x-python",
   "name": "python",
   "nbconvert_exporter": "python",
   "pygments_lexer": "ipython3",
   "version": "3.8.8"
  }
 },
 "nbformat": 4,
 "nbformat_minor": 5
}
