{
 "cells": [
  {
   "cell_type": "code",
   "execution_count": 1,
   "id": "5090a01b",
   "metadata": {},
   "outputs": [],
   "source": [
    "#Python: pseudocódigo\n",
    "\n",
    "#1. Exercise - Writing Pseudocode\n",
    "\n",
    "gandalf = [10, 11, 13, 30, 22, 11, 10, 33, 22, 22]\n",
    "saruman = [23, 66, 12, 43, 12, 10, 44, 23, 12, 17]\n",
    "\n",
    "#You will create two variables, one for each sorcerer, where the total of number of clashes won by each sorcerer will be stored. Depending on which variable is greater at the end of the duel, you will show one of the following three results on the screen:\n",
    "#Write pseudocode to solve this problem and then code it!"
   ]
  },
  {
   "cell_type": "markdown",
   "id": "095aa765",
   "metadata": {},
   "source": [
    "PSEUDOCODE\n",
    "step 1: Create 2 empty variables to store who wins in each battle (the winner gets a 1 value): gandalf_counter, saruman_counter\n",
    "\n",
    "step 2: obtain the total of elements of each list\n",
    "\n",
    "step 3: as we will look for into the list using index, we will create new variables (g and s) with 0 value and a constant with 1 value.\n",
    "\n",
    "\n",
    "step 4: we will create a FOR LOOP with a range(10) and make each fight (gandalf index value less saruman index value). With an \"if\" we will define the winner of each battle and sum +1 to their counter\n",
    "\n",
    "step 4: make the same after loop"
   ]
  },
  {
   "cell_type": "code",
   "execution_count": 3,
   "id": "012e97bd",
   "metadata": {},
   "outputs": [],
   "source": [
    "gandalf = [10, 11, 13, 30, 22, 11, 10, 33, 22, 22]\n",
    "saruman = [23, 66, 12, 43, 12, 10, 44, 23, 12, 17]\n",
    "len = len(gandalf)"
   ]
  },
  {
   "cell_type": "code",
   "execution_count": 5,
   "id": "a89db2ba",
   "metadata": {},
   "outputs": [
    {
     "name": "stdout",
     "output_type": "stream",
     "text": [
      "gandalf wins:  6  to  4 , with a differece of  2\n"
     ]
    }
   ],
   "source": [
    "gandalf_counter = 0\n",
    "saruman_counter = 0\n",
    "\n",
    "g=-1\n",
    "s=-1\n",
    "const=1\n",
    "\n",
    "for i in range(len):\n",
    "\n",
    "    g=g+const\n",
    "    s=s+const\n",
    "    result_battle=saruman[s]-gandalf[g]\n",
    "    if result_battle == 0: #nobody wins\n",
    "        gandalf_counter = gandalf_counter+0\n",
    "        saruman_counter = saruman_counter+0\n",
    "    elif result_battle > 0: #saruman wins\n",
    "        gandalf_counter = gandalf_counter+0\n",
    "        saruman_counter = saruman_counter+1 \n",
    "    else: # gandalf wins\n",
    "        gandalf_counter = gandalf_counter+1\n",
    "        saruman_counter = saruman_counter+0 \n",
    "\n",
    "if gandalf_counter > saruman_counter:\n",
    "    final_result = gandalf_counter - saruman_counter\n",
    "    print(\"gandalf wins: \", gandalf_counter, \" to \", saruman_counter, \", with a differece of \",final_result)\n",
    "\n",
    "if saruman_counter > gandalf_counter:\n",
    "    final_result = saruman_counter - gandalf_counter\n",
    "    print(\"saruman wins: \", saruman_counter, \" to \", gandalf_counter, \", with a differece of \",final_result)\n",
    "    \n",
    "if saruman_counter == gandalf_counter:\n",
    "    final_result = 0\n",
    "    print(\"nobody wins\")\n"
   ]
  },
  {
   "cell_type": "code",
   "execution_count": null,
   "id": "cd9d1bec",
   "metadata": {},
   "outputs": [],
   "source": []
  }
 ],
 "metadata": {
  "kernelspec": {
   "display_name": "Python 3",
   "language": "python",
   "name": "python3"
  },
  "language_info": {
   "codemirror_mode": {
    "name": "ipython",
    "version": 3
   },
   "file_extension": ".py",
   "mimetype": "text/x-python",
   "name": "python",
   "nbconvert_exporter": "python",
   "pygments_lexer": "ipython3",
   "version": "3.8.8"
  }
 },
 "nbformat": 4,
 "nbformat_minor": 5
}
