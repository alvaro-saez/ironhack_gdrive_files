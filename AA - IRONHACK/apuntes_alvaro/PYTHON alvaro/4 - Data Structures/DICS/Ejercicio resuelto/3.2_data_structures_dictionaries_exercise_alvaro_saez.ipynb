{
 "cells": [
  {
   "cell_type": "code",
   "execution_count": 1,
   "id": "6b758c07",
   "metadata": {},
   "outputs": [],
   "source": [
    "#Python: Data structures - Dictionaries\n",
    "#1. Exercise - Dictionaries"
   ]
  },
  {
   "cell_type": "code",
   "execution_count": 2,
   "id": "1f1f3a15",
   "metadata": {},
   "outputs": [],
   "source": [
    "#1.2 Can a dictionary have two key-value pairs with the same key?\n",
    "\n",
    "#ANSWER: No, all the keys in a dictionary are always unique, the values can be repeated. "
   ]
  },
  {
   "cell_type": "code",
   "execution_count": 3,
   "id": "3d6f7c73",
   "metadata": {},
   "outputs": [],
   "source": [
    "#1.3 Can a dictionary have two key-value pairs with the same value but different keys?\n",
    "\n",
    "#ANSWER: Yes, because they are different Keys, so thery are different key-value pairs."
   ]
  },
  {
   "cell_type": "code",
   "execution_count": 4,
   "id": "2c856ac9",
   "metadata": {},
   "outputs": [],
   "source": [
    "#1.1 You are given this dictionary."
   ]
  },
  {
   "cell_type": "code",
   "execution_count": 5,
   "id": "b20e2d84",
   "metadata": {},
   "outputs": [],
   "source": [
    "word_freq = {\n",
    "  'love': 25,\n",
    "  'conversation': 1,\n",
    "  'every': 6,\n",
    "  \"we're\": 1,\n",
    "  'plate': 1,\n",
    "  'sour': 1,\n",
    "  'jukebox': 1,\n",
    "  'now': 11,\n",
    "  'taxi': 1,\n",
    "  'fast': 1,\n",
    "  'bag': 1,\n",
    "  'man': 1,\n",
    "  'push': 3,\n",
    "  'baby': 14,\n",
    "  'going': 1,\n",
    "  'you': 16,\n",
    "  \"don't\": 2,\n",
    "  'one': 1,\n",
    "  'mind': 2,\n",
    "  'backseat': 1,\n",
    "  'friends': 1,\n",
    "  'then': 3,\n",
    "  'know': 2\n",
    "}\n"
   ]
  },
  {
   "cell_type": "code",
   "execution_count": 6,
   "id": "88c08bfd",
   "metadata": {},
   "outputs": [],
   "source": [
    "#How many key-value pairs are in this dictionary?"
   ]
  },
  {
   "cell_type": "code",
   "execution_count": 7,
   "id": "383e6130",
   "metadata": {},
   "outputs": [
    {
     "data": {
      "text/plain": [
       "23"
      ]
     },
     "execution_count": 7,
     "metadata": {},
     "output_type": "execute_result"
    }
   ],
   "source": [
    "len(word_freq)"
   ]
  },
  {
   "cell_type": "code",
   "execution_count": 8,
   "id": "4857ffc7",
   "metadata": {},
   "outputs": [],
   "source": [
    "#What keys are present in this list?"
   ]
  },
  {
   "cell_type": "code",
   "execution_count": 9,
   "id": "d777d2f4",
   "metadata": {},
   "outputs": [
    {
     "data": {
      "text/plain": [
       "dict_keys(['love', 'conversation', 'every', \"we're\", 'plate', 'sour', 'jukebox', 'now', 'taxi', 'fast', 'bag', 'man', 'push', 'baby', 'going', 'you', \"don't\", 'one', 'mind', 'backseat', 'friends', 'then', 'know'])"
      ]
     },
     "execution_count": 9,
     "metadata": {},
     "output_type": "execute_result"
    }
   ],
   "source": [
    "word_freq.keys()"
   ]
  },
  {
   "cell_type": "code",
   "execution_count": 11,
   "id": "3c4214a2",
   "metadata": {},
   "outputs": [],
   "source": [
    "#What is the frequency of following words in the dictionary:\n",
    "#friends\n",
    "#taxi\n",
    "#jukebox"
   ]
  },
  {
   "cell_type": "code",
   "execution_count": 12,
   "id": "9aac42e4",
   "metadata": {},
   "outputs": [
    {
     "data": {
      "text/plain": [
       "1"
      ]
     },
     "execution_count": 12,
     "metadata": {},
     "output_type": "execute_result"
    }
   ],
   "source": [
    "word_freq[\"friends\"]\n"
   ]
  },
  {
   "cell_type": "code",
   "execution_count": 13,
   "id": "eec013a6",
   "metadata": {},
   "outputs": [
    {
     "data": {
      "text/plain": [
       "1"
      ]
     },
     "execution_count": 13,
     "metadata": {},
     "output_type": "execute_result"
    }
   ],
   "source": [
    "word_freq[\"taxi\"]"
   ]
  },
  {
   "cell_type": "code",
   "execution_count": 14,
   "id": "be26b4bf",
   "metadata": {},
   "outputs": [
    {
     "data": {
      "text/plain": [
       "1"
      ]
     },
     "execution_count": 14,
     "metadata": {},
     "output_type": "execute_result"
    }
   ],
   "source": [
    "word_freq[\"jukebox\"]"
   ]
  },
  {
   "cell_type": "code",
   "execution_count": 15,
   "id": "9b9df04b",
   "metadata": {},
   "outputs": [],
   "source": [
    "#Is the word begin present in the dictionary?"
   ]
  },
  {
   "cell_type": "code",
   "execution_count": 22,
   "id": "390aebbf",
   "metadata": {},
   "outputs": [
    {
     "ename": "KeyError",
     "evalue": "'begin'",
     "output_type": "error",
     "traceback": [
      "\u001b[1;31m---------------------------------------------------------------------------\u001b[0m",
      "\u001b[1;31mKeyError\u001b[0m                                  Traceback (most recent call last)",
      "\u001b[1;32m<ipython-input-22-065fdf7f94c6>\u001b[0m in \u001b[0;36m<module>\u001b[1;34m\u001b[0m\n\u001b[1;32m----> 1\u001b[1;33m \u001b[0mword_freq\u001b[0m\u001b[1;33m[\u001b[0m\u001b[1;34m\"begin\"\u001b[0m\u001b[1;33m]\u001b[0m\u001b[1;33m\u001b[0m\u001b[1;33m\u001b[0m\u001b[0m\n\u001b[0m",
      "\u001b[1;31mKeyError\u001b[0m: 'begin'"
     ]
    }
   ],
   "source": [
    "word_freq[\"begin\"]"
   ]
  },
  {
   "cell_type": "code",
   "execution_count": 23,
   "id": "9180d740",
   "metadata": {},
   "outputs": [],
   "source": [
    "#Add the following words and their frequencies to the dictionary:\n",
    "#‘begin’: 1\n",
    "#‘start’: 2\n",
    "#‘over’: 1\n",
    "#‘body’: 17"
   ]
  },
  {
   "cell_type": "code",
   "execution_count": 24,
   "id": "4032e799",
   "metadata": {},
   "outputs": [],
   "source": [
    "word_freq[\"begin\"] = 1"
   ]
  },
  {
   "cell_type": "code",
   "execution_count": 25,
   "id": "00250d20",
   "metadata": {},
   "outputs": [
    {
     "name": "stdout",
     "output_type": "stream",
     "text": [
      "{'love': 25, 'conversation': 1, 'every': 6, \"we're\": 1, 'plate': 1, 'sour': 1, 'jukebox': 1, 'now': 11, 'taxi': 1, 'fast': 1, 'bag': 1, 'man': 1, 'push': 3, 'baby': 14, 'going': 1, 'you': 16, \"don't\": 2, 'one': 1, 'mind': 2, 'backseat': 1, 'friends': 1, 'then': 3, 'know': 2, 'begin': 1}\n"
     ]
    }
   ],
   "source": [
    "print(word_freq)"
   ]
  },
  {
   "cell_type": "code",
   "execution_count": 27,
   "id": "40fcd9cd",
   "metadata": {},
   "outputs": [],
   "source": [
    "word_freq[\"start\"] = 2"
   ]
  },
  {
   "cell_type": "code",
   "execution_count": 30,
   "id": "8f2cccb3",
   "metadata": {},
   "outputs": [],
   "source": [
    "word_freq[\"over\"] = 1\n",
    "word_freq[\"body\"] = 17"
   ]
  },
  {
   "cell_type": "code",
   "execution_count": 32,
   "id": "5fa890a4",
   "metadata": {},
   "outputs": [
    {
     "name": "stdout",
     "output_type": "stream",
     "text": [
      "{'love': 25, 'conversation': 1, 'every': 6, \"we're\": 1, 'plate': 1, 'sour': 1, 'jukebox': 1, 'now': 11, 'taxi': 1, 'fast': 1, 'bag': 1, 'man': 1, 'push': 3, 'baby': 14, 'going': 1, 'you': 16, \"don't\": 2, 'one': 1, 'mind': 2, 'backseat': 1, 'friends': 1, 'then': 3, 'know': 2, 'begin': 1, 'start': 2, 'over': 1, 'body': 17}\n"
     ]
    }
   ],
   "source": [
    "print(word_freq)"
   ]
  },
  {
   "cell_type": "code",
   "execution_count": 33,
   "id": "0636d636",
   "metadata": {},
   "outputs": [
    {
     "data": {
      "text/plain": [
       "['love',\n",
       " 'conversation',\n",
       " 'every',\n",
       " \"we're\",\n",
       " 'plate',\n",
       " 'sour',\n",
       " 'jukebox',\n",
       " 'now',\n",
       " 'taxi',\n",
       " 'fast',\n",
       " 'bag',\n",
       " 'man',\n",
       " 'push',\n",
       " 'baby',\n",
       " 'going',\n",
       " 'you',\n",
       " \"don't\",\n",
       " 'one',\n",
       " 'mind',\n",
       " 'backseat',\n",
       " 'friends',\n",
       " 'then',\n",
       " 'know',\n",
       " 'begin',\n",
       " 'start',\n",
       " 'over',\n",
       " 'body']"
      ]
     },
     "execution_count": 33,
     "metadata": {},
     "output_type": "execute_result"
    }
   ],
   "source": [
    "#Use the following code to convert the result from word_freq.keys() to a list: list(word_freq.keys())\n",
    "list(word_freq.keys())"
   ]
  },
  {
   "cell_type": "code",
   "execution_count": 34,
   "id": "ea062a98",
   "metadata": {},
   "outputs": [],
   "source": [
    "#Store the results of the above code in a variable called word.\n"
   ]
  },
  {
   "cell_type": "code",
   "execution_count": 36,
   "id": "e14ffdea",
   "metadata": {},
   "outputs": [],
   "source": [
    "word = list(word_freq.keys())"
   ]
  },
  {
   "cell_type": "code",
   "execution_count": 37,
   "id": "dfefe6f0",
   "metadata": {},
   "outputs": [
    {
     "name": "stdout",
     "output_type": "stream",
     "text": [
      "['love', 'conversation', 'every', \"we're\", 'plate', 'sour', 'jukebox', 'now', 'taxi', 'fast', 'bag', 'man', 'push', 'baby', 'going', 'you', \"don't\", 'one', 'mind', 'backseat', 'friends', 'then', 'know', 'begin', 'start', 'over', 'body']\n"
     ]
    }
   ],
   "source": [
    "print(word)"
   ]
  },
  {
   "cell_type": "code",
   "execution_count": 38,
   "id": "dc7b6b5c",
   "metadata": {},
   "outputs": [],
   "source": [
    "#What is the first word in the dictionary? What is the frequency of that word?\n"
   ]
  },
  {
   "cell_type": "code",
   "execution_count": 39,
   "id": "6560291e",
   "metadata": {},
   "outputs": [
    {
     "data": {
      "text/plain": [
       "'love'"
      ]
     },
     "execution_count": 39,
     "metadata": {},
     "output_type": "execute_result"
    }
   ],
   "source": [
    "word[0]"
   ]
  },
  {
   "cell_type": "code",
   "execution_count": 42,
   "id": "9f57f2eb",
   "metadata": {},
   "outputs": [
    {
     "data": {
      "text/plain": [
       "'love'"
      ]
     },
     "execution_count": 42,
     "metadata": {},
     "output_type": "execute_result"
    }
   ],
   "source": [
    "list(word_freq.keys())[0]"
   ]
  },
  {
   "cell_type": "code",
   "execution_count": 46,
   "id": "2270f300",
   "metadata": {},
   "outputs": [
    {
     "data": {
      "text/plain": [
       "25"
      ]
     },
     "execution_count": 46,
     "metadata": {},
     "output_type": "execute_result"
    }
   ],
   "source": [
    "word_freq[\"love\"]"
   ]
  },
  {
   "cell_type": "code",
   "execution_count": 47,
   "id": "a4002a83",
   "metadata": {},
   "outputs": [],
   "source": [
    "#What is the last word in the dictionary? What is the frequency of that word?"
   ]
  },
  {
   "cell_type": "code",
   "execution_count": 49,
   "id": "fe20c74f",
   "metadata": {},
   "outputs": [
    {
     "data": {
      "text/plain": [
       "27"
      ]
     },
     "execution_count": 49,
     "metadata": {},
     "output_type": "execute_result"
    }
   ],
   "source": [
    "len(word)"
   ]
  },
  {
   "cell_type": "code",
   "execution_count": 50,
   "id": "745fef2d",
   "metadata": {},
   "outputs": [
    {
     "data": {
      "text/plain": [
       "'body'"
      ]
     },
     "execution_count": 50,
     "metadata": {},
     "output_type": "execute_result"
    }
   ],
   "source": [
    "word[26]"
   ]
  },
  {
   "cell_type": "code",
   "execution_count": 52,
   "id": "0a94a0e0",
   "metadata": {},
   "outputs": [
    {
     "data": {
      "text/plain": [
       "'body'"
      ]
     },
     "execution_count": 52,
     "metadata": {},
     "output_type": "execute_result"
    }
   ],
   "source": [
    "word[len(word)-1]"
   ]
  },
  {
   "cell_type": "code",
   "execution_count": 53,
   "id": "1b654aff",
   "metadata": {},
   "outputs": [
    {
     "data": {
      "text/plain": [
       "'body'"
      ]
     },
     "execution_count": 53,
     "metadata": {},
     "output_type": "execute_result"
    }
   ],
   "source": [
    "list(word_freq.keys())[len(list(word_freq.keys()))-1]"
   ]
  },
  {
   "cell_type": "code",
   "execution_count": 54,
   "id": "55a321ec",
   "metadata": {},
   "outputs": [
    {
     "data": {
      "text/plain": [
       "17"
      ]
     },
     "execution_count": 54,
     "metadata": {},
     "output_type": "execute_result"
    }
   ],
   "source": [
    "word_freq[\"body\"]"
   ]
  }
 ],
 "metadata": {
  "kernelspec": {
   "display_name": "Python 3",
   "language": "python",
   "name": "python3"
  },
  "language_info": {
   "codemirror_mode": {
    "name": "ipython",
    "version": 3
   },
   "file_extension": ".py",
   "mimetype": "text/x-python",
   "name": "python",
   "nbconvert_exporter": "python",
   "pygments_lexer": "ipython3",
   "version": "3.8.8"
  }
 },
 "nbformat": 4,
 "nbformat_minor": 5
}
