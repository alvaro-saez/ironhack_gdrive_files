{
 "cells": [
  {
   "cell_type": "code",
   "execution_count": 1,
   "id": "58a2725f",
   "metadata": {},
   "outputs": [],
   "source": [
    "# Python: Data structures - Lists\n",
    "# 1. Exercise - Lists\n",
    "# 1.1 Given the list:"
   ]
  },
  {
   "cell_type": "code",
   "execution_count": 2,
   "id": "b34ad516",
   "metadata": {},
   "outputs": [],
   "source": [
    "lst = [1,2,34,5,3,12,9, 8, 67, 89, 98, 90, 39, 21, 45, 46, 23, 13]\n"
   ]
  },
  {
   "cell_type": "code",
   "execution_count": 4,
   "id": "755e3125",
   "metadata": {},
   "outputs": [],
   "source": [
    "#How many elements are in the list?"
   ]
  },
  {
   "cell_type": "code",
   "execution_count": 5,
   "id": "4f4eddf5",
   "metadata": {},
   "outputs": [
    {
     "data": {
      "text/plain": [
       "18"
      ]
     },
     "execution_count": 5,
     "metadata": {},
     "output_type": "execute_result"
    }
   ],
   "source": [
    "len(lst)"
   ]
  },
  {
   "cell_type": "code",
   "execution_count": 6,
   "id": "72edf8aa",
   "metadata": {},
   "outputs": [],
   "source": [
    "#Using indexes, find out which is the first element in the list?"
   ]
  },
  {
   "cell_type": "code",
   "execution_count": 7,
   "id": "9f840a57",
   "metadata": {},
   "outputs": [
    {
     "data": {
      "text/plain": [
       "1"
      ]
     },
     "execution_count": 7,
     "metadata": {},
     "output_type": "execute_result"
    }
   ],
   "source": [
    "lst[0]"
   ]
  },
  {
   "cell_type": "code",
   "execution_count": 8,
   "id": "64710a69",
   "metadata": {},
   "outputs": [],
   "source": [
    "#Using indexes, find out which is the last element in the list?"
   ]
  },
  {
   "cell_type": "code",
   "execution_count": 9,
   "id": "79bac692",
   "metadata": {},
   "outputs": [],
   "source": [
    "x = len(lst)-1"
   ]
  },
  {
   "cell_type": "code",
   "execution_count": 10,
   "id": "50b1983d",
   "metadata": {},
   "outputs": [
    {
     "name": "stdout",
     "output_type": "stream",
     "text": [
      "17\n"
     ]
    }
   ],
   "source": [
    "print(x)"
   ]
  },
  {
   "cell_type": "code",
   "execution_count": 11,
   "id": "3b793598",
   "metadata": {},
   "outputs": [
    {
     "data": {
      "text/plain": [
       "13"
      ]
     },
     "execution_count": 11,
     "metadata": {},
     "output_type": "execute_result"
    }
   ],
   "source": [
    "lst[17]"
   ]
  },
  {
   "cell_type": "code",
   "execution_count": 13,
   "id": "fcbf14f8",
   "metadata": {},
   "outputs": [
    {
     "data": {
      "text/plain": [
       "13"
      ]
     },
     "execution_count": 13,
     "metadata": {},
     "output_type": "execute_result"
    }
   ],
   "source": [
    "#more simple\n",
    "\n",
    "lst[len(lst)-1]"
   ]
  },
  {
   "cell_type": "code",
   "execution_count": 14,
   "id": "ce6c50ae",
   "metadata": {},
   "outputs": [],
   "source": [
    "#What is the index of element 90 in the list?"
   ]
  },
  {
   "cell_type": "code",
   "execution_count": 15,
   "id": "f3fcad1f",
   "metadata": {},
   "outputs": [
    {
     "data": {
      "text/plain": [
       "11"
      ]
     },
     "execution_count": 15,
     "metadata": {},
     "output_type": "execute_result"
    }
   ],
   "source": [
    "lst.index(90)"
   ]
  },
  {
   "cell_type": "code",
   "execution_count": 16,
   "id": "4f7246dd",
   "metadata": {},
   "outputs": [],
   "source": [
    "#Which are the first 8 elements in the list?"
   ]
  },
  {
   "cell_type": "code",
   "execution_count": 18,
   "id": "d11ee97e",
   "metadata": {},
   "outputs": [
    {
     "data": {
      "text/plain": [
       "[1, 2, 34, 5, 3, 12, 9, 8]"
      ]
     },
     "execution_count": 18,
     "metadata": {},
     "output_type": "execute_result"
    }
   ],
   "source": [
    "lst[0:8]"
   ]
  },
  {
   "cell_type": "code",
   "execution_count": 19,
   "id": "efeb167d",
   "metadata": {},
   "outputs": [],
   "source": [
    "#Append elements 100 and 110 to the list?"
   ]
  },
  {
   "cell_type": "code",
   "execution_count": 21,
   "id": "6a5cd739",
   "metadata": {},
   "outputs": [],
   "source": [
    "lst.append(\"100\")"
   ]
  },
  {
   "cell_type": "code",
   "execution_count": 22,
   "id": "25845b91",
   "metadata": {},
   "outputs": [],
   "source": [
    "lst.append(\"110\")"
   ]
  },
  {
   "cell_type": "code",
   "execution_count": 23,
   "id": "abcb2998",
   "metadata": {},
   "outputs": [
    {
     "name": "stdout",
     "output_type": "stream",
     "text": [
      "[1, 2, 34, 5, 3, 12, 9, 8, 67, 89, 98, 90, 39, 21, 45, 46, 23, 13, '100', '110']\n"
     ]
    }
   ],
   "source": [
    "print(lst)"
   ]
  },
  {
   "cell_type": "code",
   "execution_count": 26,
   "id": "67e4e10c",
   "metadata": {},
   "outputs": [],
   "source": [
    "new_lst = [\"hola\", \"hola\", 1, 1, 1.1, 1.1, True, True ]"
   ]
  },
  {
   "cell_type": "code",
   "execution_count": 27,
   "id": "c516be91",
   "metadata": {},
   "outputs": [
    {
     "name": "stdout",
     "output_type": "stream",
     "text": [
      "['hola', 'hola', 1, 1, 1.1, 1.1, True, True]\n"
     ]
    }
   ],
   "source": [
    "print(new_lst)"
   ]
  },
  {
   "cell_type": "code",
   "execution_count": 28,
   "id": "8503ad9f",
   "metadata": {},
   "outputs": [
    {
     "data": {
      "text/plain": [
       "8"
      ]
     },
     "execution_count": 28,
     "metadata": {},
     "output_type": "execute_result"
    }
   ],
   "source": [
    "len(new_lst)"
   ]
  },
  {
   "cell_type": "code",
   "execution_count": 29,
   "id": "46d60052",
   "metadata": {},
   "outputs": [
    {
     "data": {
      "text/plain": [
       "['hola', 'hola', 1, 1, 1.1, 1.1, True, True]"
      ]
     },
     "execution_count": 29,
     "metadata": {},
     "output_type": "execute_result"
    }
   ],
   "source": [
    "new_lst[0:8]"
   ]
  },
  {
   "cell_type": "code",
   "execution_count": 31,
   "id": "83af0890",
   "metadata": {},
   "outputs": [
    {
     "data": {
      "text/plain": [
       "2"
      ]
     },
     "execution_count": 31,
     "metadata": {},
     "output_type": "execute_result"
    }
   ],
   "source": [
    "new_lst.index(True)"
   ]
  },
  {
   "cell_type": "code",
   "execution_count": 32,
   "id": "69f4a128",
   "metadata": {},
   "outputs": [
    {
     "data": {
      "text/plain": [
       "0"
      ]
     },
     "execution_count": 32,
     "metadata": {},
     "output_type": "execute_result"
    }
   ],
   "source": [
    "new_lst.index(\"hola\")"
   ]
  },
  {
   "cell_type": "code",
   "execution_count": 33,
   "id": "7a5f24e6",
   "metadata": {},
   "outputs": [
    {
     "data": {
      "text/plain": [
       "2"
      ]
     },
     "execution_count": 33,
     "metadata": {},
     "output_type": "execute_result"
    }
   ],
   "source": [
    "new_lst.index(1)"
   ]
  },
  {
   "cell_type": "code",
   "execution_count": 34,
   "id": "ea4668a5",
   "metadata": {},
   "outputs": [
    {
     "data": {
      "text/plain": [
       "4"
      ]
     },
     "execution_count": 34,
     "metadata": {},
     "output_type": "execute_result"
    }
   ],
   "source": [
    "new_lst.index(1.1)"
   ]
  },
  {
   "cell_type": "code",
   "execution_count": 35,
   "id": "29992972",
   "metadata": {},
   "outputs": [],
   "source": [
    "new_lst.append(\"more hi\")"
   ]
  },
  {
   "cell_type": "code",
   "execution_count": 36,
   "id": "2c19b4ac",
   "metadata": {},
   "outputs": [
    {
     "name": "stdout",
     "output_type": "stream",
     "text": [
      "['hola', 'hola', 1, 1, 1.1, 1.1, True, True, 'more hi']\n"
     ]
    }
   ],
   "source": [
    "print(new_lst)"
   ]
  },
  {
   "cell_type": "code",
   "execution_count": 37,
   "id": "13fcb385",
   "metadata": {},
   "outputs": [],
   "source": [
    "#it works but we can not use the index function to see the second value"
   ]
  },
  {
   "cell_type": "code",
   "execution_count": 38,
   "id": "fa78834c",
   "metadata": {},
   "outputs": [
    {
     "data": {
      "text/plain": [
       "8"
      ]
     },
     "execution_count": 38,
     "metadata": {},
     "output_type": "execute_result"
    }
   ],
   "source": [
    "new_lst.index(\"more hi\")"
   ]
  },
  {
   "cell_type": "code",
   "execution_count": 39,
   "id": "8e4bb8ea",
   "metadata": {},
   "outputs": [
    {
     "data": {
      "text/plain": [
       "2"
      ]
     },
     "execution_count": 39,
     "metadata": {},
     "output_type": "execute_result"
    }
   ],
   "source": [
    "new_lst.index(True)"
   ]
  },
  {
   "cell_type": "code",
   "execution_count": 40,
   "id": "ccccea9f",
   "metadata": {},
   "outputs": [
    {
     "data": {
      "text/plain": [
       "True"
      ]
     },
     "execution_count": 40,
     "metadata": {},
     "output_type": "execute_result"
    }
   ],
   "source": [
    "new_lst[6]"
   ]
  },
  {
   "cell_type": "code",
   "execution_count": null,
   "id": "bc65cddb",
   "metadata": {},
   "outputs": [],
   "source": [
    "#it seems the boolean attribute can not be used with the index function"
   ]
  }
 ],
 "metadata": {
  "kernelspec": {
   "display_name": "Python 3",
   "language": "python",
   "name": "python3"
  },
  "language_info": {
   "codemirror_mode": {
    "name": "ipython",
    "version": 3
   },
   "file_extension": ".py",
   "mimetype": "text/x-python",
   "name": "python",
   "nbconvert_exporter": "python",
   "pygments_lexer": "ipython3",
   "version": "3.8.8"
  }
 },
 "nbformat": 4,
 "nbformat_minor": 5
}
