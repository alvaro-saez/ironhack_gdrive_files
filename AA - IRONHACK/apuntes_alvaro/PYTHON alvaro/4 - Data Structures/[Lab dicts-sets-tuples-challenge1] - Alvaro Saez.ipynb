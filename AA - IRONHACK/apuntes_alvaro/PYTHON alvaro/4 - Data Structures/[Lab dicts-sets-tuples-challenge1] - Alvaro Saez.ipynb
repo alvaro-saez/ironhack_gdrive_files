{
 "cells": [
  {
   "cell_type": "markdown",
   "metadata": {},
   "source": [
    "## Challenge 1: Tuples\n",
    "\n",
    "#### Do you know you can create tuples with only one element?\n",
    "\n",
    "**In the cell below, define a variable `tup` with a single element `\"I\"`.**\n",
    "\n",
    "*Hint: you need to add a comma (`,`) after the single element.*"
   ]
  },
  {
   "cell_type": "code",
   "execution_count": 43,
   "metadata": {},
   "outputs": [
    {
     "name": "stdout",
     "output_type": "stream",
     "text": [
      "('I',)\n"
     ]
    }
   ],
   "source": [
    "# Your code here\n",
    "alvaro_tup = (\"I\",)\n",
    "print(alvaro_tup)"
   ]
  },
  {
   "cell_type": "markdown",
   "metadata": {},
   "source": [
    "#### Print the type of `tup`. \n",
    "\n",
    "Make sure its type is correct (i.e. *tuple* instead of *str*)."
   ]
  },
  {
   "cell_type": "code",
   "execution_count": 44,
   "metadata": {},
   "outputs": [
    {
     "name": "stdout",
     "output_type": "stream",
     "text": [
      "<class 'tuple'>\n"
     ]
    }
   ],
   "source": [
    "# Your code here\n",
    "print(type(alvaro_tup))"
   ]
  },
  {
   "cell_type": "markdown",
   "metadata": {},
   "source": [
    "#### Now try to append the following elements to `tup`. \n",
    "\n",
    "Are you able to do it? Explain.\n",
    "\n",
    "```\n",
    "\"r\", \"o\", \"n\", \"h\", \"a\", \"c\", \"k',\n",
    "```"
   ]
  },
  {
   "cell_type": "code",
   "execution_count": 45,
   "metadata": {},
   "outputs": [
    {
     "name": "stdout",
     "output_type": "stream",
     "text": [
      "['I', 'r', 'o', 'n', 'h', 'a', 'c', 'k']\n"
     ]
    }
   ],
   "source": [
    "# Your code here\n",
    "alvaro_tup_list = list(alvaro_tup)\n",
    "alvaro_tup_list.extend(\"ronhack\")\n",
    "print(alvaro_tup_list)\n",
    "# Your explanation here\n",
    "# first of all we are going to convert the tuple in a list. Then we will append the elements to the list. Finally, we are going to convert it again to a tuple"
   ]
  },
  {
   "cell_type": "markdown",
   "metadata": {},
   "source": [
    "#### How about re-assign a new value to an existing tuple?\n",
    "\n",
    "Re-assign the following elements to `tup`. Are you able to do it? Explain.\n",
    "\n",
    "```\n",
    "\"I\", \"r\", \"o\", \"n\", \"h\", \"a\", \"c\", \"k\"\n",
    "```"
   ]
  },
  {
   "cell_type": "code",
   "execution_count": 46,
   "metadata": {},
   "outputs": [
    {
     "name": "stdout",
     "output_type": "stream",
     "text": [
      "('I', 'r', 'o', 'n', 'h', 'a', 'c', 'k')\n"
     ]
    }
   ],
   "source": [
    "# Your code here\n",
    "alvaro_new_tuple = (\"I\", \"r\", \"o\", \"n\", \"h\", \"a\", \"c\", \"k\")\n",
    "print(alvaro_new_tuple)\n",
    "# Your explanation here\n",
    "#just creating a new tuple because they are inmutabe"
   ]
  },
  {
   "cell_type": "markdown",
   "metadata": {},
   "source": [
    "#### Split `tup` into `tup1` and `tup2` with 4 elements in each. \n",
    "\n",
    "`tup1` should be `(\"I\", \"r\", \"o\", \"n\")` and `tup2` should be `(\"h\", \"a\", \"c\", \"k\")`.\n",
    "\n",
    "*Hint: use positive index numbers for `tup1` assignment and use negative index numbers for `tup2` assignment. Positive index numbers count from the beginning whereas negative index numbers count from the end of the sequence.*\n",
    "\n",
    "Also print `tup1` and `tup2`."
   ]
  },
  {
   "cell_type": "code",
   "execution_count": 51,
   "metadata": {},
   "outputs": [
    {
     "name": "stdout",
     "output_type": "stream",
     "text": [
      "method 1 - LISTS\n",
      "['I', 'r', 'o', 'n']\n",
      "['h', 'a', 'c', 'k']\n",
      "\n",
      "method 2 - TUPPLES\n",
      "('I', 'r', 'o', 'n')\n",
      "('h', 'a', 'c', 'k')\n"
     ]
    }
   ],
   "source": [
    "# Your code here\n",
    "#method1 LIST: I can iterate the tuple but no change it. In this case I will create a new list. \n",
    "print(\"method 1 - LISTS\")\n",
    "alvaro_list_tup1 = []\n",
    "alvaro_list_tup2 = []\n",
    "for i in range(4):\n",
    "    alvaro_list_tup1.append(alvaro_new_tuple[i])\n",
    "print(alvaro_list_tup1)\n",
    "\n",
    "for e in range(len(alvaro_new_tupple)-4,len(alvaro_new_tupple)):\n",
    "    alvaro_list_tup2.append(alvaro_new_tuple[e])\n",
    "print(alvaro_list_tup2)\n",
    "\n",
    "#method2 new variable ccalling the tupple:\n",
    "print(\"\\nmethod 2 - TUPPLES\")\n",
    "alvaro_tup1 = alvaro_new_tuple[0:4]\n",
    "print(alvaro_tup1)\n",
    "\n",
    "alvaro_tup2 = alvaro_new_tuple[len(alvaro_new_tupple)-4:len(alvaro_new_tuple)]\n",
    "print(alvaro_tup2)"
   ]
  },
  {
   "cell_type": "markdown",
   "metadata": {},
   "source": [
    "#### Add `tup1` and `tup2` into `tup3` using the `+` operator.\n",
    "\n",
    "Then print `tup3` and check if `tup3` equals to `tup`."
   ]
  },
  {
   "cell_type": "code",
   "execution_count": 42,
   "metadata": {},
   "outputs": [
    {
     "name": "stdout",
     "output_type": "stream",
     "text": [
      "('I', 'r', 'o', 'n', 'h', 'a', 'c', 'k')\n"
     ]
    }
   ],
   "source": [
    "# Your code here\n",
    "alvaro_tup3 = alvaro_tup1 + alvaro_tup2\n",
    "print(alvaro_tup3)"
   ]
  },
  {
   "cell_type": "markdown",
   "metadata": {},
   "source": [
    "#### Count the number of elements in `tup1` and `tup2`. Then add the two counts together and check if the sum is the same as the number of elements in `tup3`."
   ]
  },
  {
   "cell_type": "code",
   "execution_count": 57,
   "metadata": {},
   "outputs": [
    {
     "name": "stdout",
     "output_type": "stream",
     "text": [
      "8\n",
      "they have the same number of elements\n"
     ]
    }
   ],
   "source": [
    "# Your code here\n",
    "len(alvaro_tup1)\n",
    "len(alvaro_tup2)\n",
    "alvaro_tup_full_count = len(alvaro_tup1) + len(alvaro_tup1)\n",
    "print(alvaro_tup_full_count)\n",
    "\n",
    "if alvaro_tup_full_count == len(alvaro_new_tupple):\n",
    "    print(\"they have the same number of elements\")\n",
    "elif alvaro_tup_full_count > len(alvaro_new_tupple):\n",
    "    print(\"sum of count is greater than len\")\n",
    "else:\n",
    "    print(\"len is greater than sum of count\")"
   ]
  },
  {
   "cell_type": "markdown",
   "metadata": {},
   "source": [
    "#### What is the index number of `\"h\"` in `tup3`?"
   ]
  },
  {
   "cell_type": "code",
   "execution_count": 58,
   "metadata": {},
   "outputs": [
    {
     "data": {
      "text/plain": [
       "4"
      ]
     },
     "execution_count": 58,
     "metadata": {},
     "output_type": "execute_result"
    }
   ],
   "source": [
    "# Your code here\n",
    "alvaro_tup3.index(\"h\")"
   ]
  },
  {
   "cell_type": "markdown",
   "metadata": {},
   "source": [
    "#### Now, use a FOR loop to check whether each letter in the following list is present in `tup3`:\n",
    "\n",
    "```\n",
    "letters = [\"a\", \"b\", \"c\", \"d\", \"e\"]\n",
    "```\n",
    "\n",
    "For each letter you check, print `True` if it is present in `tup3` otherwise print `False`.\n",
    "\n",
    "*Hint: you only need to loop `letters`. You don't need to loop `tup3` because there is a Python operator `in` you can use. See [reference](https://stackoverflow.com/questions/17920147/how-to-check-if-a-tuple-contains-an-element-in-python).*"
   ]
  },
  {
   "cell_type": "code",
   "execution_count": 64,
   "metadata": {},
   "outputs": [
    {
     "name": "stdout",
     "output_type": "stream",
     "text": [
      "{'a', 'c'}\n",
      "True\n",
      "False\n",
      "True\n",
      "False\n",
      "False\n"
     ]
    }
   ],
   "source": [
    "# Your code here\n",
    "#method 1 (not excercise: using a set)\n",
    "letters = [\"a\", \"b\", \"c\", \"d\", \"e\"]\n",
    "letters_set = set(letters)\n",
    "intersection_alvaro_tup3 = letters_set.intersection(alvaro_tup3)\n",
    "print(intersection_alvaro_tup3) #we make the intersection method for sets\n",
    "\n",
    "#method 2 (excercise: iterate a tuple or list)\n",
    "for iterate_result in letters:\n",
    "    if iterate_result in alvaro_tup3:\n",
    "        print(\"True\")\n",
    "    else:\n",
    "        print(\"False\")"
   ]
  },
  {
   "cell_type": "markdown",
   "metadata": {},
   "source": [
    "#### How many times does each letter in `letters` appear in `tup3`?\n",
    "\n",
    "Print out the number of occurrence of each letter."
   ]
  },
  {
   "cell_type": "code",
   "execution_count": 66,
   "metadata": {},
   "outputs": [
    {
     "name": "stdout",
     "output_type": "stream",
     "text": [
      "{'a': 1, 'b': 0, 'c': 1, 'd': 0, 'e': 0}\n"
     ]
    }
   ],
   "source": [
    "# Your code here\n",
    "letters_count_dic ={} #new dic\n",
    "for iterate_result in letters:\n",
    "    letters_count_dic[iterate_result] = alvaro_tup3.count(iterate_result)\n",
    "print(letters_count_dic)"
   ]
  },
  {
   "cell_type": "code",
   "execution_count": null,
   "metadata": {},
   "outputs": [],
   "source": []
  }
 ],
 "metadata": {
  "kernelspec": {
   "display_name": "Python 3 (ipykernel)",
   "language": "python",
   "name": "python3"
  },
  "language_info": {
   "codemirror_mode": {
    "name": "ipython",
    "version": 3
   },
   "file_extension": ".py",
   "mimetype": "text/x-python",
   "name": "python",
   "nbconvert_exporter": "python",
   "pygments_lexer": "ipython3",
   "version": "3.7.11"
  }
 },
 "nbformat": 4,
 "nbformat_minor": 2
}
