{
 "cells": [
  {
   "cell_type": "code",
   "execution_count": 1,
   "id": "6eda79e2",
   "metadata": {},
   "outputs": [],
   "source": [
    "# Python: Intro to Functions\n",
    "# 1. Exercise - Generation calculator:\n",
    "\n",
    "# Define the function generation calculator & add both parameters to represent both variables we are going to need in this function.\n",
    "# Determine generation as a birth year (we need to know the year to be able to calculate)\n",
    "# Print the results\n",
    "# Write conditionals for each generation. For example, if you were born before 1949 you would be a “silent generation”.\n",
    "# Define variables for each result\n",
    "# Show results\n"
   ]
  },
  {
   "cell_type": "markdown",
   "id": "221858e9",
   "metadata": {},
   "source": [
    "FUNCION =  def generation_calculation (name,birth_year):\n",
    "PARAMETER 1 = NAME\n",
    "PARAMETER 2 = GENERATOR\n",
    "\n",
    "We will use conditionals to determine generation as a birth year \n",
    "\n",
    "We are going to ask to the user for his birth year and it should be an integer \n",
    "\n",
    "The result will be storaged ina variable called generation_result\n",
    "\n",
    "run the cell with each name\n",
    "name1 = \"Jonh\"\n",
    "birth_year1 = 1989\n",
    "\n",
    "name2 = \"Mari\"\n",
    "birth_year2 = 1995\n",
    "\n",
    "name3 = \"Mich\"\n",
    "birth_year3 = 1960"
   ]
  },
  {
   "cell_type": "code",
   "execution_count": 10,
   "id": "9d91d01e",
   "metadata": {},
   "outputs": [
    {
     "name": "stdout",
     "output_type": "stream",
     "text": [
      "Insert your birth year to know your generation: 1960\n",
      "Insert your name year to know your generation: mich\n",
      "thank you mich, you belong to the baby boomer\n"
     ]
    }
   ],
   "source": [
    "#my calculator\n",
    "birth_year = input(\"Insert your birth year to know your generation: \")\n",
    "name = input(\"Insert your name year to know your generation: \")     \n",
    "\n",
    "if birth_year.replace(\".\",\"\",1).isdigit()==True:\n",
    "    birth_year = float(birth_year)\n",
    "    if birth_year > 1900:\n",
    "        if birth_year >= 1994:   \n",
    "            generation_result = \"z generation\"\n",
    "        if birth_year < 1994 and birth_year >=1981:   \n",
    "            generation_result = \"millenial\"   \n",
    "        if birth_year < 1981 and birth_year >=1969:   \n",
    "            generation_result = \"x generation\"            \n",
    "        if birth_year < 1969 and birth_year >= 1949:   \n",
    "            generation_result = \"baby boomer\"\n",
    "        if birth_year < 1949:\n",
    "            generation_result = \"silent generation\"            \n",
    "\n",
    "        def generation_calculation(name,birth_year):\n",
    "            return \"thank you \" + name + \", you belong to the \" + generation_result\n",
    "        \n",
    "        end = generation_calculation(name,birth_year)\n",
    "        print(end)\n",
    "            \n",
    "    else:\n",
    "        print(\"please enter a valid birth year, the birth year you has inserted is to old\")\n",
    "else:\n",
    "    print(\"please enter a valid birth year, it should be a number greater than 1900\")\n",
    "    "
   ]
  },
  {
   "cell_type": "code",
   "execution_count": 29,
   "id": "e2db7d81",
   "metadata": {},
   "outputs": [
    {
     "name": "stdout",
     "output_type": "stream",
     "text": [
      "thank you Jonh, you belong to the millenial\n",
      "thank you Mari, you belong to the z generation\n",
      "thank you Mich, you belong to the baby boomer\n"
     ]
    }
   ],
   "source": [
    "# adding manually the names:\n",
    "def generation_calculation(name,birth_year):\n",
    "        if birth_year >= 1994:   \n",
    "            generation_result = \"z generation\"\n",
    "        if birth_year < 1994 and birth_year >=1981:   \n",
    "            generation_result = \"millenial\"   \n",
    "        if birth_year < 1981 and birth_year >=1969:   \n",
    "            generation_result = \"x generation\"            \n",
    "        if birth_year < 1969 and birth_year >= 1949:   \n",
    "            generation_result = \"baby boomer\"\n",
    "        if birth_year < 1949:\n",
    "            generation_result = \"silent generation\" \n",
    "        return \"thank you \" + name + \", you belong to the \" + generation_result\n",
    "#add data\n",
    "a = generation_calculation(\"Jonh\",1989)\n",
    "print(a)\n",
    "b = generation_calculation(\"Mari\",1995)\n",
    "print(b)\n",
    "b = generation_calculation(\"Mich\",1960)\n",
    "print(b)\n",
    "    "
   ]
  },
  {
   "cell_type": "code",
   "execution_count": 32,
   "id": "9a9ba5f5",
   "metadata": {},
   "outputs": [
    {
     "name": "stdout",
     "output_type": "stream",
     "text": [
      "Insert your birth year to know your generation: 1991\n",
      "Insert your name year to know your generation: alvaro\n",
      "thank you alvaro, you belong to the millenial\n"
     ]
    }
   ],
   "source": [
    "#my calculator more clean\n",
    "\n",
    "def generation_calculation(name,birth_year):\n",
    "        if birth_year >= 1994:   \n",
    "            generation_result = \"z generation\"\n",
    "        if birth_year < 1994 and birth_year >=1981:   \n",
    "            generation_result = \"millenial\"   \n",
    "        if birth_year < 1981 and birth_year >=1969:   \n",
    "            generation_result = \"x generation\"            \n",
    "        if birth_year < 1969 and birth_year >= 1949:   \n",
    "            generation_result = \"baby boomer\"\n",
    "        if birth_year < 1949:\n",
    "            generation_result = \"silent generation\" \n",
    "        return \"thank you \" + name + \", you belong to the \" + generation_result\n",
    "\n",
    "birth_year = input(\"Insert your birth year to know your generation: \")\n",
    "name = input(\"Insert your name year to know your generation: \") \n",
    "\n",
    "if birth_year.replace(\".\",\"\",1).isdigit()==True:\n",
    "    birth_year = float(birth_year)\n",
    "    if birth_year > 1900:\n",
    "        \n",
    "        end = generation_calculation(name,birth_year)\n",
    "        print(end)\n",
    "            \n",
    "    else:\n",
    "        print(\"please enter a valid birth year, the birth year you has inserted is too old\")\n",
    "else:\n",
    "    print(\"please enter a valid birth year, it should be a number greater than 1900\")"
   ]
  },
  {
   "cell_type": "code",
   "execution_count": null,
   "id": "4e7903bb",
   "metadata": {},
   "outputs": [],
   "source": []
  }
 ],
 "metadata": {
  "kernelspec": {
   "display_name": "Python 3",
   "language": "python",
   "name": "python3"
  },
  "language_info": {
   "codemirror_mode": {
    "name": "ipython",
    "version": 3
   },
   "file_extension": ".py",
   "mimetype": "text/x-python",
   "name": "python",
   "nbconvert_exporter": "python",
   "pygments_lexer": "ipython3",
   "version": "3.8.8"
  }
 },
 "nbformat": 4,
 "nbformat_minor": 5
}
