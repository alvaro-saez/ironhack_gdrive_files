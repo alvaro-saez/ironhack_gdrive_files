{
 "cells": [
  {
   "cell_type": "markdown",
   "metadata": {},
   "source": [
    "# Introduction to NumPy\n",
    "\n",
    "\n",
    "#### 1. Import NumPy under the name np."
   ]
  },
  {
   "cell_type": "code",
   "execution_count": 4,
   "metadata": {},
   "outputs": [],
   "source": [
    "# your code here\n",
    "import numpy as np\n",
    "import random"
   ]
  },
  {
   "cell_type": "markdown",
   "metadata": {},
   "source": [
    "#### 2. Print your NumPy version."
   ]
  },
  {
   "cell_type": "code",
   "execution_count": 2,
   "metadata": {},
   "outputs": [
    {
     "name": "stdout",
     "output_type": "stream",
     "text": [
      "1.21.2\n"
     ]
    }
   ],
   "source": [
    "# your code here\n",
    "print(np.__version__)"
   ]
  },
  {
   "cell_type": "markdown",
   "metadata": {},
   "source": [
    "#### 3. Generate a 2x3x5 3-dimensional array with random values. Assign the array to variable *a*.\n",
    "**Challenge**: there are at least three easy ways that use numpy to generate random arrays. How many ways can you find?"
   ]
  },
  {
   "cell_type": "code",
   "execution_count": 57,
   "metadata": {},
   "outputs": [
    {
     "name": "stdout",
     "output_type": "stream",
     "text": [
      "[[[0.33921974 0.10322544 0.15622365 0.97971    0.03551493]\n",
      "  [0.54195183 0.57410827 0.48526008 0.63073353 0.06376895]\n",
      "  [0.1844261  0.77345612 0.3402157  0.97650945 0.15827595]]\n",
      "\n",
      " [[0.17050084 0.56486039 0.10257029 0.26953224 0.06532737]\n",
      "  [0.35890909 0.38336053 0.55739284 0.1357     0.23930907]\n",
      "  [0.13320925 0.77259133 0.03717997 0.87644653 0.09009858]]]\n"
     ]
    }
   ],
   "source": [
    "# Method 1\n",
    "a = np.random.random((2,3,5))\n",
    "print(a)"
   ]
  },
  {
   "cell_type": "code",
   "execution_count": 58,
   "metadata": {},
   "outputs": [
    {
     "name": "stdout",
     "output_type": "stream",
     "text": [
      "[[[0.95494326 0.9644674  0.18708757 0.07089828 0.07984287]\n",
      "  [0.66420935 0.50439704 0.19379635 0.89747129 0.4606857 ]\n",
      "  [0.93479168 0.3787675  0.86899303 0.02665233 0.63118928]]\n",
      "\n",
      " [[0.53453873 0.98016601 0.53080874 0.37558272 0.53939516]\n",
      "  [0.89679725 0.37388539 0.70901438 0.75131484 0.2612758 ]\n",
      "  [0.74471892 0.63120401 0.37381475 0.1244816  0.66594654]]]\n"
     ]
    }
   ],
   "source": [
    "# Method 2\n",
    "c_arr = np.random.rand(2,3,5)\n",
    "print(c_arr)"
   ]
  },
  {
   "cell_type": "code",
   "execution_count": 59,
   "metadata": {},
   "outputs": [
    {
     "name": "stdout",
     "output_type": "stream",
     "text": [
      "[[[65 18 56 54 55]\n",
      "  [75 36 66 87 79]\n",
      "  [85 28 77 10 66]]\n",
      "\n",
      " [[70 97  2 72 66]\n",
      "  [61 54 19 15 34]\n",
      "  [41  0 66 15 18]]]\n"
     ]
    }
   ],
   "source": [
    "# Method 3.1\n",
    "b_arr = [np.random.randint(0,100) for i in range(30)]\n",
    "b_array = np.array(b_arr).reshape(2,3,5)\n",
    "print(b_array)"
   ]
  },
  {
   "cell_type": "code",
   "execution_count": 60,
   "metadata": {},
   "outputs": [
    {
     "name": "stdout",
     "output_type": "stream",
     "text": [
      "[[[22 76 77 57 26]\n",
      "  [10 59 23 91 53]\n",
      "  [52 34 50 61 97]]\n",
      "\n",
      " [[65 53 97 25 70]\n",
      "  [16 98 18 60 91]\n",
      "  [90 62 74 14 45]]]\n"
     ]
    }
   ],
   "source": [
    "# Method 3.2\n",
    "d_arr =np.random.randint(0,100, size=(2,3,5))\n",
    "print(d_arr)"
   ]
  },
  {
   "cell_type": "code",
   "execution_count": 24,
   "metadata": {},
   "outputs": [
    {
     "name": "stdout",
     "output_type": "stream",
     "text": [
      "[[[0.39076996 0.15615743 0.01015129 0.69143001 0.07136375]\n",
      "  [0.79574913 0.11824176 0.7307947  0.39963132 0.17387422]\n",
      "  [0.02978897 0.42063009 0.42877456 0.13421395 0.3911829 ]]\n",
      "\n",
      " [[0.78475941 0.76468082 0.38141975 0.30093008 0.40751264]\n",
      "  [0.5832881  0.7971327  0.30290598 0.9349324  0.13448457]\n",
      "  [0.67808381 0.80942495 0.68766928 0.02702219 0.46377415]]]\n"
     ]
    }
   ],
   "source": []
  },
  {
   "cell_type": "markdown",
   "metadata": {},
   "source": [
    "#### 4. Print *a*.\n"
   ]
  },
  {
   "cell_type": "code",
   "execution_count": 15,
   "metadata": {},
   "outputs": [
    {
     "name": "stdout",
     "output_type": "stream",
     "text": [
      "[2 2 2 2 2]\n"
     ]
    }
   ],
   "source": [
    "# Method 4\n",
    "d = np.random.randint(2,3,5)\n",
    "print(d)"
   ]
  },
  {
   "cell_type": "code",
   "execution_count": 61,
   "metadata": {},
   "outputs": [
    {
     "name": "stdout",
     "output_type": "stream",
     "text": [
      "[[[0.33921974 0.10322544 0.15622365 0.97971    0.03551493]\n",
      "  [0.54195183 0.57410827 0.48526008 0.63073353 0.06376895]\n",
      "  [0.1844261  0.77345612 0.3402157  0.97650945 0.15827595]]\n",
      "\n",
      " [[0.17050084 0.56486039 0.10257029 0.26953224 0.06532737]\n",
      "  [0.35890909 0.38336053 0.55739284 0.1357     0.23930907]\n",
      "  [0.13320925 0.77259133 0.03717997 0.87644653 0.09009858]]]\n"
     ]
    }
   ],
   "source": [
    "# your code here\n",
    "print(a)"
   ]
  },
  {
   "cell_type": "markdown",
   "metadata": {},
   "source": [
    "#### 5. Create a 5x2x3 3-dimensional array with all values equaling 1. Assign the array to variable *b*."
   ]
  },
  {
   "cell_type": "code",
   "execution_count": 62,
   "metadata": {},
   "outputs": [],
   "source": [
    "# your code here\n",
    "b = np.ones((5,2,3))"
   ]
  },
  {
   "cell_type": "markdown",
   "metadata": {},
   "source": [
    "#### 6. Print *b*.\n"
   ]
  },
  {
   "cell_type": "code",
   "execution_count": 63,
   "metadata": {},
   "outputs": [
    {
     "name": "stdout",
     "output_type": "stream",
     "text": [
      "[[[1. 1. 1.]\n",
      "  [1. 1. 1.]]\n",
      "\n",
      " [[1. 1. 1.]\n",
      "  [1. 1. 1.]]\n",
      "\n",
      " [[1. 1. 1.]\n",
      "  [1. 1. 1.]]\n",
      "\n",
      " [[1. 1. 1.]\n",
      "  [1. 1. 1.]]\n",
      "\n",
      " [[1. 1. 1.]\n",
      "  [1. 1. 1.]]]\n"
     ]
    }
   ],
   "source": [
    "# your code here\n",
    "print(b)"
   ]
  },
  {
   "cell_type": "markdown",
   "metadata": {},
   "source": [
    "#### 7. Do *a* and *b* have the same size? How do you prove that in Python code?"
   ]
  },
  {
   "cell_type": "code",
   "execution_count": 68,
   "metadata": {},
   "outputs": [
    {
     "name": "stdout",
     "output_type": "stream",
     "text": [
      "30\n",
      "30\n"
     ]
    }
   ],
   "source": [
    "# your code here\n",
    "print(a.size)\n",
    "print(b.size)\n",
    "#different shape, same size"
   ]
  },
  {
   "cell_type": "markdown",
   "metadata": {},
   "source": [
    "#### 8. Are you able to add *a* and *b*? Why or why not?\n"
   ]
  },
  {
   "cell_type": "code",
   "execution_count": 74,
   "metadata": {},
   "outputs": [
    {
     "ename": "ValueError",
     "evalue": "operands could not be broadcast together with different shapes",
     "output_type": "error",
     "traceback": [
      "\u001b[1;31m---------------------------------------------------------------------------\u001b[0m",
      "\u001b[1;31mValueError\u001b[0m                                Traceback (most recent call last)",
      "\u001b[1;32mC:\\Users\\ALVARO~1\\AppData\\Local\\Temp/ipykernel_17996/2435803518.py\u001b[0m in \u001b[0;36m<module>\u001b[1;34m\u001b[0m\n\u001b[0;32m      1\u001b[0m \u001b[1;31m# your answer here\u001b[0m\u001b[1;33m\u001b[0m\u001b[1;33m\u001b[0m\u001b[1;33m\u001b[0m\u001b[0m\n\u001b[1;32m----> 2\u001b[1;33m \u001b[1;32mraise\u001b[0m \u001b[0mValueError\u001b[0m\u001b[1;33m(\u001b[0m\u001b[1;34m\"operands could not be broadcast together with different shapes\"\u001b[0m\u001b[1;33m)\u001b[0m\u001b[1;33m\u001b[0m\u001b[1;33m\u001b[0m\u001b[0m\n\u001b[0m\u001b[0;32m      3\u001b[0m \u001b[0mprint\u001b[0m\u001b[1;33m(\u001b[0m\u001b[0mnp\u001b[0m\u001b[1;33m.\u001b[0m\u001b[0madd\u001b[0m\u001b[1;33m(\u001b[0m\u001b[0ma\u001b[0m\u001b[1;33m,\u001b[0m\u001b[0mb\u001b[0m\u001b[1;33m)\u001b[0m\u001b[1;33m)\u001b[0m\u001b[1;33m\u001b[0m\u001b[1;33m\u001b[0m\u001b[0m\n",
      "\u001b[1;31mValueError\u001b[0m: operands could not be broadcast together with different shapes"
     ]
    }
   ],
   "source": [
    "# your answer here\n",
    "raise ValueError(\"operands could not be broadcast together with different shapes\")\n",
    "print(np.add(a,b))"
   ]
  },
  {
   "cell_type": "markdown",
   "metadata": {},
   "source": [
    "#### 9. Transpose *b* so that it has the same structure of *a* (i.e. become a 2x3x5 array). Assign the transposed array to variable *c*."
   ]
  },
  {
   "cell_type": "code",
   "execution_count": 98,
   "metadata": {},
   "outputs": [
    {
     "name": "stdout",
     "output_type": "stream",
     "text": [
      "original a\n",
      " [[[0.33921974 0.10322544 0.15622365 0.97971    0.03551493]\n",
      "  [0.54195183 0.57410827 0.48526008 0.63073353 0.06376895]\n",
      "  [0.1844261  0.77345612 0.3402157  0.97650945 0.15827595]]\n",
      "\n",
      " [[0.17050084 0.56486039 0.10257029 0.26953224 0.06532737]\n",
      "  [0.35890909 0.38336053 0.55739284 0.1357     0.23930907]\n",
      "  [0.13320925 0.77259133 0.03717997 0.87644653 0.09009858]]]\n",
      "\n",
      "transpose of b\n",
      " [[[1. 1. 1. 1. 1.]\n",
      "  [1. 1. 1. 1. 1.]]\n",
      "\n",
      " [[1. 1. 1. 1. 1.]\n",
      "  [1. 1. 1. 1. 1.]]\n",
      "\n",
      " [[1. 1. 1. 1. 1.]\n",
      "  [1. 1. 1. 1. 1.]]]\n",
      "\n",
      "reshape of b\n",
      " [[[1. 1. 1. 1. 1.]\n",
      "  [1. 1. 1. 1. 1.]\n",
      "  [1. 1. 1. 1. 1.]]\n",
      "\n",
      " [[1. 1. 1. 1. 1.]\n",
      "  [1. 1. 1. 1. 1.]\n",
      "  [1. 1. 1. 1. 1.]]]\n"
     ]
    }
   ],
   "source": [
    "# your code here\n",
    "print(\"original a\\n\", a)\n",
    "\n",
    "c = b.transpose()\n",
    "print(\"\\ntranspose of b\\n\", c)\n",
    "\n",
    "c_alvaro= b.reshape(2,3,5)\n",
    "print(\"\\nreshape of b\\n\", c_alvaro)"
   ]
  },
  {
   "cell_type": "markdown",
   "metadata": {},
   "source": [
    "#### 10. Try to add *a* and *c*. Now it should work. Assign the sum to variable *d*. But why does it work now?"
   ]
  },
  {
   "cell_type": "code",
   "execution_count": 99,
   "metadata": {},
   "outputs": [],
   "source": [
    "# your code/answer here\n",
    "\n",
    "#d = np.add(a,c)\n",
    "\n",
    "d =np.add(a,c_alvaro)"
   ]
  },
  {
   "cell_type": "markdown",
   "metadata": {},
   "source": [
    "#### 11. Print *a* and *d*. Notice the difference and relation of the two array in terms of the values? Explain."
   ]
  },
  {
   "cell_type": "code",
   "execution_count": 100,
   "metadata": {},
   "outputs": [
    {
     "name": "stdout",
     "output_type": "stream",
     "text": [
      "a\n",
      " [[[0.33921974 0.10322544 0.15622365 0.97971    0.03551493]\n",
      "  [0.54195183 0.57410827 0.48526008 0.63073353 0.06376895]\n",
      "  [0.1844261  0.77345612 0.3402157  0.97650945 0.15827595]]\n",
      "\n",
      " [[0.17050084 0.56486039 0.10257029 0.26953224 0.06532737]\n",
      "  [0.35890909 0.38336053 0.55739284 0.1357     0.23930907]\n",
      "  [0.13320925 0.77259133 0.03717997 0.87644653 0.09009858]]]\n",
      "\n",
      "d\n",
      " [[[1.33921974 1.10322544 1.15622365 1.97971    1.03551493]\n",
      "  [1.54195183 1.57410827 1.48526008 1.63073353 1.06376895]\n",
      "  [1.1844261  1.77345612 1.3402157  1.97650945 1.15827595]]\n",
      "\n",
      " [[1.17050084 1.56486039 1.10257029 1.26953224 1.06532737]\n",
      "  [1.35890909 1.38336053 1.55739284 1.1357     1.23930907]\n",
      "  [1.13320925 1.77259133 1.03717997 1.87644653 1.09009858]]]\n"
     ]
    }
   ],
   "source": [
    "# your code/answer here\n",
    "print(\"a\\n\", a)\n",
    "print(\"\\nd\\n\", d)"
   ]
  },
  {
   "cell_type": "markdown",
   "metadata": {},
   "source": [
    "#### 12. Multiply *a* and *c*. Assign the result to *e*."
   ]
  },
  {
   "cell_type": "code",
   "execution_count": 101,
   "metadata": {},
   "outputs": [
    {
     "name": "stdout",
     "output_type": "stream",
     "text": [
      "[[[0.33921974 0.10322544 0.15622365 0.97971    0.03551493]\n",
      "  [0.54195183 0.57410827 0.48526008 0.63073353 0.06376895]\n",
      "  [0.1844261  0.77345612 0.3402157  0.97650945 0.15827595]]\n",
      "\n",
      " [[0.17050084 0.56486039 0.10257029 0.26953224 0.06532737]\n",
      "  [0.35890909 0.38336053 0.55739284 0.1357     0.23930907]\n",
      "  [0.13320925 0.77259133 0.03717997 0.87644653 0.09009858]]]\n"
     ]
    }
   ],
   "source": [
    "# your code here\n",
    "e = np.multiply(a,c_alvaro)\n",
    "print(e)"
   ]
  },
  {
   "cell_type": "markdown",
   "metadata": {},
   "source": [
    "#### 13. Does *e* equal to *a*? Why or why not?\n"
   ]
  },
  {
   "cell_type": "code",
   "execution_count": 102,
   "metadata": {},
   "outputs": [
    {
     "name": "stdout",
     "output_type": "stream",
     "text": [
      "a\n",
      " [[[0.33921974 0.10322544 0.15622365 0.97971    0.03551493]\n",
      "  [0.54195183 0.57410827 0.48526008 0.63073353 0.06376895]\n",
      "  [0.1844261  0.77345612 0.3402157  0.97650945 0.15827595]]\n",
      "\n",
      " [[0.17050084 0.56486039 0.10257029 0.26953224 0.06532737]\n",
      "  [0.35890909 0.38336053 0.55739284 0.1357     0.23930907]\n",
      "  [0.13320925 0.77259133 0.03717997 0.87644653 0.09009858]]]\n",
      "\n",
      "e\n",
      " [[[0.33921974 0.10322544 0.15622365 0.97971    0.03551493]\n",
      "  [0.54195183 0.57410827 0.48526008 0.63073353 0.06376895]\n",
      "  [0.1844261  0.77345612 0.3402157  0.97650945 0.15827595]]\n",
      "\n",
      " [[0.17050084 0.56486039 0.10257029 0.26953224 0.06532737]\n",
      "  [0.35890909 0.38336053 0.55739284 0.1357     0.23930907]\n",
      "  [0.13320925 0.77259133 0.03717997 0.87644653 0.09009858]]]\n",
      "\n",
      "they are the same because we have mulitplied and devided by one and itself\n"
     ]
    }
   ],
   "source": [
    "# your code/answer here\n",
    "print(\"a\\n\", a)\n",
    "print(\"\\ne\\n\", e)\n",
    "print(\"\\nthey are the same because we have mulitplied and devided by one and itself\")"
   ]
  },
  {
   "cell_type": "markdown",
   "metadata": {},
   "source": [
    "#### 14. Identify the max, min, and mean values in *d*. Assign those values to variables *d_max*, *d_min* and *d_mean*."
   ]
  },
  {
   "cell_type": "code",
   "execution_count": 114,
   "metadata": {},
   "outputs": [
    {
     "name": "stdout",
     "output_type": "stream",
     "text": [
      "d\n",
      " [[[1.33921974 1.10322544 1.15622365 1.97971    1.03551493]\n",
      "  [1.54195183 1.57410827 1.48526008 1.63073353 1.06376895]\n",
      "  [1.1844261  1.77345612 1.3402157  1.97650945 1.15827595]]\n",
      "\n",
      " [[1.17050084 1.56486039 1.10257029 1.26953224 1.06532737]\n",
      "  [1.35890909 1.38336053 1.55739284 1.1357     1.23930907]\n",
      "  [1.13320925 1.77259133 1.03717997 1.87644653 1.09009858]]] \n",
      "\n",
      "max:  1.9797099983671682  =  1.9797099983671682\n",
      "min:  1.0355149314306176\n",
      "mean:  1.3699862681414603\n"
     ]
    }
   ],
   "source": [
    "# your code here\n",
    "print(\"d\\n\",d,\"\\n\")\n",
    "\n",
    "d_max = np.max(d)\n",
    "d_max2=d.max()\n",
    "print(\"max: \",d_max,\" = \",d_max2)\n",
    "\n",
    "d_min = np.amin(d)\n",
    "print(\"min: \",d_min)\n",
    "d_mean = np.mean(d)\n",
    "print(\"mean: \",d_mean)"
   ]
  },
  {
   "cell_type": "markdown",
   "metadata": {},
   "source": [
    "#### 15. Now we want to label the values in *d*. First create an empty array *f* with the same shape (i.e. 2x3x5) as *d* using `np.empty`.\n"
   ]
  },
  {
   "cell_type": "code",
   "execution_count": 119,
   "metadata": {},
   "outputs": [
    {
     "name": "stdout",
     "output_type": "stream",
     "text": [
      "[[[1.33921974 1.10322544 1.15622365 1.97971    1.03551493]\n",
      "  [1.54195183 1.57410827 1.48526008 1.63073353 1.06376895]\n",
      "  [1.1844261  1.77345612 1.3402157  1.97650945 1.15827595]]\n",
      "\n",
      " [[1.17050084 1.56486039 1.10257029 1.26953224 1.06532737]\n",
      "  [1.35890909 1.38336053 1.55739284 1.1357     1.23930907]\n",
      "  [1.13320925 1.77259133 1.03717997 1.87644653 1.09009858]]]\n"
     ]
    }
   ],
   "source": [
    "# your code here\n",
    "f = np.empty([2,3,5])\n",
    "print(f)"
   ]
  },
  {
   "cell_type": "markdown",
   "metadata": {},
   "source": [
    "#### 16. Populate the values in *f*. \n",
    "\n",
    "For each value in *d*, if it's larger than *d_min* but smaller than *d_mean*, assign 25 to the corresponding value in *f*. If a value in *d* is larger than *d_mean* but smaller than *d_max*, assign 75 to the corresponding value in *f*. If a value equals to *d_mean*, assign 50 to the corresponding value in *f*. Assign 0 to the corresponding value(s) in *f* for *d_min* in *d*. Assign 100 to the corresponding value(s) in *f* for *d_max* in *d*. In the end, f should have only the following values: 0, 25, 50, 75, and 100.\n",
    "\n",
    "**Note**: you don't have to use Numpy in this question."
   ]
  },
  {
   "cell_type": "code",
   "execution_count": 181,
   "metadata": {},
   "outputs": [
    {
     "name": "stdout",
     "output_type": "stream",
     "text": [
      "[[[1.33921974 1.10322544 1.15622365 1.97971    1.03551493]\n",
      "  [1.54195183 1.57410827 1.48526008 1.63073353 1.06376895]\n",
      "  [1.1844261  1.77345612 1.3402157  1.97650945 1.15827595]]\n",
      "\n",
      " [[1.17050084 1.56486039 1.10257029 1.26953224 1.06532737]\n",
      "  [1.35890909 1.38336053 1.55739284 1.1357     1.23930907]\n",
      "  [1.13320925 1.77259133 1.03717997 1.87644653 1.09009858]]]\n"
     ]
    }
   ],
   "source": [
    "print(d)\n",
    "# your code here\n",
    "def values_to_f(f,d,d_min,d_max,d_mean):\n",
    "    for i in range(2):\n",
    "        for j in range(3):\n",
    "            for k in range(5):\n",
    "                if d[i,j,k] > d_min and d[i,j,k] < d_mean:\n",
    "                    f[i,j,k] = 25\n",
    "                elif d[i,j,k] > d_mean and d[i,j,k] < d_max:\n",
    "                    f[i,j,k] = 75\n",
    "                elif d[i,j,k] == d_mean:\n",
    "                    f[i,j,k] = 50\n",
    "                elif d[i,j,k] == d_min:\n",
    "                    f[i,j,k] = 0\n",
    "                elif d[i,j,k] == d_max:\n",
    "                    f[i,j,k] = 100\n",
    "    "
   ]
  },
  {
   "cell_type": "code",
   "execution_count": 182,
   "metadata": {},
   "outputs": [
    {
     "name": "stdout",
     "output_type": "stream",
     "text": [
      "[[[ 25.  25.  25. 100.   0.]\n",
      "  [ 75.  75.  75.  75.  25.]\n",
      "  [ 25.  75.  25.  75.  25.]]\n",
      "\n",
      " [[ 25.  75.  25.  25.  25.]\n",
      "  [ 25.  75.  75.  25.  25.]\n",
      "  [ 25.  75.  25.  75.  25.]]]\n"
     ]
    }
   ],
   "source": [
    "values_to_f(f,d,d_min,d_max,d_mean)\n",
    "print(f)"
   ]
  },
  {
   "cell_type": "markdown",
   "metadata": {},
   "source": [
    "#### 17. Print *d* and *f*. Do you have your expected *f*?\n",
    "For instance, if your *d* is:\n",
    "```python\n",
    "[[[1.85836099, 1.67064465, 1.62576044, 1.40243961, 1.88454931],\n",
    "[1.75354326, 1.69403643, 1.36729252, 1.61415071, 1.12104981],\n",
    "[1.72201435, 1.1862918 , 1.87078449, 1.7726778 , 1.88180042]],\n",
    "[[1.44747908, 1.31673383, 1.02000951, 1.52218947, 1.97066381],\n",
    "[1.79129243, 1.74983003, 1.96028037, 1.85166831, 1.65450881],\n",
    "[1.18068344, 1.9587381 , 1.00656599, 1.93402165, 1.73514584]]]\n",
    "```\n",
    "Your *f* should be:\n",
    "```python\n",
    "[[[ 75.,  75.,  75.,  25.,  75.],\n",
    "[ 75.,  75.,  25.,  25.,  25.],\n",
    "[ 75.,  25.,  75.,  75.,  75.]],\n",
    "[[ 25.,  25.,  25.,  25., 100.],\n",
    "[ 75.,  75.,  75.,  75.,  75.],\n",
    "[ 25.,  75.,   0.,  75.,  75.]]]\n",
    "```"
   ]
  },
  {
   "cell_type": "code",
   "execution_count": 183,
   "metadata": {},
   "outputs": [
    {
     "name": "stdout",
     "output_type": "stream",
     "text": [
      "[[[ 75.  75.  75.  25.  75.]\n",
      "  [ 75.  75.  25.  25.  25.]\n",
      "  [ 75.  25.  75.  75.  75.]]\n",
      "\n",
      " [[ 25.  25.  25.  25. 100.]\n",
      "  [ 75.  75.  75.  75.  75.]\n",
      "  [ 25.  75.   0.  75.  75.]]]\n"
     ]
    }
   ],
   "source": [
    "# your code here\n",
    "new_d = np.array([[[1.85836099, 1.67064465, 1.62576044, 1.40243961, 1.88454931],\n",
    "[1.75354326, 1.69403643, 1.36729252, 1.61415071, 1.12104981],\n",
    "[1.72201435, 1.1862918 , 1.87078449, 1.7726778 , 1.88180042]],\n",
    "[[1.44747908, 1.31673383, 1.02000951, 1.52218947, 1.97066381],\n",
    "[1.79129243, 1.74983003, 1.96028037, 1.85166831, 1.65450881],\n",
    "[1.18068344, 1.9587381 , 1.00656599, 1.93402165, 1.73514584]]])\n",
    "\n",
    "new_d_max = np.max(new_d)\n",
    "new_d_min = np.amin(new_d)\n",
    "new_d_mean = np.mean(new_d)\n",
    "\n",
    "new_f = np.empty([2,3,5])\n",
    "\n",
    "def values_to_new_f(new_f,new_d,new_d_min,new_d_max,new_d_mean):\n",
    "    for i in range(2):\n",
    "        for j in range(3):\n",
    "            for k in range(5):\n",
    "                if new_d[i,j,k] > new_d_min and new_d[i,j,k] < new_d_mean:\n",
    "                    new_f[i,j,k] = 25\n",
    "                elif new_d[i,j,k] > new_d_mean and new_d[i,j,k] < new_d_max:\n",
    "                    new_f[i,j,k] = 75\n",
    "                elif new_d[i,j,k] == new_d_mean:\n",
    "                    new_f[i,j,k] = 50\n",
    "                elif new_d[i,j,k] == new_d_min:\n",
    "                    new_f[i,j,k] = 0\n",
    "                elif new_d[i,j,k] == new_d_max:\n",
    "                    new_f[i,j,k] = 100\n",
    "\n",
    "values_to_new_f(new_f,new_d,new_d_min,new_d_max,new_d_mean)\n",
    "print(new_f)"
   ]
  },
  {
   "cell_type": "markdown",
   "metadata": {},
   "source": [
    "#### 18. Bonus question: instead of using numbers (i.e. 0, 25, 50, 75, and 100), use string values  (\"A\", \"B\", \"C\", \"D\", and \"E\") to label the array elements. For the example above, the expected result is:\n",
    "\n",
    "```python\n",
    "[[[ 'D',  'D',  'D',  'B',  'D'],\n",
    "[ 'D',  'D',  'B',  'B',  'B'],\n",
    "[ 'D',  'B',  'D',  'D',  'D']],\n",
    "[[ 'B',  'B',  'B',  'B',  'E'],\n",
    "[ 'D',  'D',  'D',  'D',  'D'],\n",
    "[ 'B',  'D',   'A',  'D', 'D']]]\n",
    "```\n",
    "**Note**: you don't have to use Numpy in this question."
   ]
  },
  {
   "cell_type": "code",
   "execution_count": 184,
   "metadata": {},
   "outputs": [
    {
     "name": "stdout",
     "output_type": "stream",
     "text": [
      "[[['D' 'D' 'D' 'B' 'D']\n",
      "  ['D' 'D' 'B' 'B' 'B']\n",
      "  ['D' 'B' 'D' 'D' 'D']]\n",
      "\n",
      " [['B' 'B' 'B' 'B' 'E']\n",
      "  ['D' 'D' 'D' 'D' 'D']\n",
      "  ['B' 'D' 'A' 'D' 'D']]]\n"
     ]
    }
   ],
   "source": [
    "#method 1\n",
    "new_f_letters = np.empty([2,3,5], dtype=str)\n",
    "def values_to_new_f(new_f_letters,new_d,new_d_min,new_d_max,new_d_mean):\n",
    "    for i in range(2):\n",
    "        for j in range(3):\n",
    "            for k in range(5):\n",
    "                if new_d[i,j,k] > new_d_min and new_d[i,j,k] < new_d_mean:\n",
    "                    new_f_letters[i,j,k] = \"B\"\n",
    "                elif new_d[i,j,k] > new_d_mean and new_d[i,j,k] < new_d_max:\n",
    "                    new_f_letters[i,j,k] = \"D\"\n",
    "                elif new_d[i,j,k] == new_d_mean:\n",
    "                    new_f_letters[i,j,k] = \"C\"\n",
    "                elif new_d[i,j,k] == new_d_min:\n",
    "                    new_f_letters[i,j,k] = \"A\"\n",
    "                elif new_d[i,j,k] == new_d_max:\n",
    "                    new_f_letters[i,j,k] = \"E\"\n",
    "values_to_new_f(new_f_letters,new_d,new_d_min,new_d_max,new_d_mean)\n",
    "print(new_f_letters)"
   ]
  },
  {
   "cell_type": "code",
   "execution_count": 185,
   "metadata": {},
   "outputs": [
    {
     "name": "stdout",
     "output_type": "stream",
     "text": [
      "[[[b'D' b'D' b'D' b'B' b'D']\n",
      "  [b'D' b'D' b'B' b'B' b'B']\n",
      "  [b'D' b'B' b'D' b'D' b'D']]\n",
      "\n",
      " [[b'B' b'B' b'B' b'B' b'E']\n",
      "  [b'D' b'D' b'D' b'D' b'D']\n",
      "  [b'B' b'D' b'A' b'D' b'D']]]\n"
     ]
    }
   ],
   "source": [
    "#method 2\n",
    "new_f_letters = np.chararray([2,3,5])\n",
    "def values_to_new_f(new_f_letters,new_d,new_d_min,new_d_max,new_d_mean):\n",
    "    for i in range(2):\n",
    "        for j in range(3):\n",
    "            for k in range(5):\n",
    "                if new_d[i,j,k] > new_d_min and new_d[i,j,k] < new_d_mean:\n",
    "                    new_f_letters[i,j,k] = \"B\"\n",
    "                elif new_d[i,j,k] > new_d_mean and new_d[i,j,k] < new_d_max:\n",
    "                    new_f_letters[i,j,k] = \"D\"\n",
    "                elif new_d[i,j,k] == new_d_mean:\n",
    "                    new_f_letters[i,j,k] = \"C\"\n",
    "                elif new_d[i,j,k] == new_d_min:\n",
    "                    new_f_letters[i,j,k] = \"A\"\n",
    "                elif new_d[i,j,k] == new_d_max:\n",
    "                    new_f_letters[i,j,k] = \"E\"\n",
    "values_to_new_f(new_f_letters,new_d,new_d_min,new_d_max,new_d_mean)\n",
    "print(new_f_letters)"
   ]
  }
 ],
 "metadata": {
  "kernelspec": {
   "display_name": "Python [conda env:ironhack]",
   "language": "python",
   "name": "conda-env-ironhack-py"
  },
  "language_info": {
   "codemirror_mode": {
    "name": "ipython",
    "version": 3
   },
   "file_extension": ".py",
   "mimetype": "text/x-python",
   "name": "python",
   "nbconvert_exporter": "python",
   "pygments_lexer": "ipython3",
   "version": "3.7.11"
  }
 },
 "nbformat": 4,
 "nbformat_minor": 2
}
