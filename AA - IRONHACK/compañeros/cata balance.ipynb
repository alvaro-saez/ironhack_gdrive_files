{
 "cells": [
  {
   "cell_type": "code",
   "execution_count": 1,
   "id": "58d4b4c9",
   "metadata": {},
   "outputs": [],
   "source": [
    "def balanced_num(number):\n",
    "    number = str(number)\n",
    "    long_number = len(number)\n",
    "    counter_left = 0\n",
    "    counter_right = 0\n",
    "    number_list = list (number)\n",
    "    if long_number == 2 or long_number == 1:\n",
    "        return \"Balanced\"\n",
    "    elif long_number % 2 == 0:\n",
    "        for i in range(0,(long_number//2)-1):\n",
    "            counter_left += int(number_list[i])\n",
    "        for e in range(long_number//2+1,long_number):\n",
    "            counter_right += int(number_list[e])\n",
    "        if counter_left == counter_right:\n",
    "            return \"Balanced\"\n",
    "        else:\n",
    "            return \"Not Balanced\"\n",
    "    else:\n",
    "        for i in range(0,(long_number-1)//2):\n",
    "            counter_left += int(number_list[i])\n",
    "        for e in range((long_number+1)//2,long_number):\n",
    "            counter_right += int(number_list[e])\n",
    "        if counter_left == counter_right:\n",
    "            return \"Balanced\"\n",
    "        else:\n",
    "            return \"Not Balanced\""
   ]
  },
  {
   "cell_type": "code",
   "execution_count": 2,
   "id": "a5697926",
   "metadata": {},
   "outputs": [
    {
     "data": {
      "text/plain": [
       "'Balanced'"
      ]
     },
     "execution_count": 2,
     "metadata": {},
     "output_type": "execute_result"
    }
   ],
   "source": [
    "balanced_num(959)"
   ]
  },
  {
   "cell_type": "markdown",
   "id": "1ac79a3a",
   "metadata": {},
   "source": [
    "Balanced number is the number that * The sum of all digits to the left of the middle digit(s) and the sum of all digits to the right of the middle digit(s) are equal*.\n",
    "\n",
    "Notes\n",
    "If the number has an odd number of digits then there is only one middle digit, e.g. 92645 has middle digit 6; otherwise, there are two middle digits , e.g. 1301 has middle digits 3 and 0\n",
    "\n",
    "The middle digit(s) should not be considered when determining whether a number is balanced or not, e.g 413023 is a balanced number because the left sum and right sum are both 5.\n",
    "\n",
    "Number passed is always Positive .\n",
    "\n",
    "Return the result as String\n",
    "\n",
    "Input >> Output Examples\n",
    "(balanced-num 7) ==> return \"Balanced\"\n",
    "Explanation:\n",
    "Since , The sum of all digits to the left of the middle digit (0)\n",
    "\n",
    "and the sum of all digits to the right of the middle digit (0) are equal , then It's Balanced\n",
    "\n",
    "(balanced-num 295591) ==> return \"Not Balanced\"\n",
    "Explanation:\n",
    "Since , The sum of all digits to the left of the middle digits (11)\n",
    "\n",
    "and the sum of all digits to the right of the middle digits (10) are Not equal , then It's Not Balanced\n",
    "\n",
    "Note : The middle digit(s) are 55 .\n",
    "\n",
    "(balanced-num 959) ==> return \"Balanced\"\n",
    "Explanation:\n",
    "Since , The sum of all digits to the left of the middle digits (9)\n",
    "\n",
    "and the sum of all digits to the right of the middle digits (9) are equal , then It's Balanced\n",
    "\n",
    "Note : The middle digit is 5 .\n",
    "\n"
   ]
  }
 ],
 "metadata": {
  "kernelspec": {
   "display_name": "Python 3",
   "language": "python",
   "name": "python3"
  },
  "language_info": {
   "codemirror_mode": {
    "name": "ipython",
    "version": 3
   },
   "file_extension": ".py",
   "mimetype": "text/x-python",
   "name": "python",
   "nbconvert_exporter": "python",
   "pygments_lexer": "ipython3",
   "version": "3.8.8"
  }
 },
 "nbformat": 4,
 "nbformat_minor": 5
}
