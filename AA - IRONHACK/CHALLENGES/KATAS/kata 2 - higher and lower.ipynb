{
 "cells": [
  {
   "cell_type": "code",
   "execution_count": 41,
   "id": "da99b7c0",
   "metadata": {},
   "outputs": [],
   "source": [
    "def sum_or_product(array, n):\n",
    "    array.sort() #ordenamos la lista\n",
    "    sum_or_products_new_list_lower =1 #creamos contador para multiplicar\n",
    "    sum_or_products_new_list_higher =0 #creamos contador para sumar\n",
    "    for i in range(0,n): #lower\n",
    "        sum_or_products_new_list_lower=sum_or_products_new_list_lower*array[i] #multiplicamos en cada iteracción\n",
    "    print(sum_or_products_new_list_lower)\n",
    "    for i in range(len(array)-n,len(array)): #higher\n",
    "        sum_or_products_new_list_higher+=array[i] #sumamos en cada iteracción\n",
    "    print(sum_or_products_new_list_higher)\n",
    "    if sum_or_products_new_list_higher > sum_or_products_new_list_lower:\n",
    "        return \"sum\"\n",
    "    elif sum_or_products_new_list_lower > sum_or_products_new_list_higher:\n",
    "        return \"product\"\n",
    "    else:\n",
    "        return \"same\""
   ]
  },
  {
   "cell_type": "code",
   "execution_count": 42,
   "id": "3412388b",
   "metadata": {},
   "outputs": [
    {
     "name": "stdout",
     "output_type": "stream",
     "text": [
      "60\n",
      "60\n"
     ]
    },
    {
     "data": {
      "text/plain": [
       "'same'"
      ]
     },
     "execution_count": 42,
     "metadata": {},
     "output_type": "execute_result"
    }
   ],
   "source": [
    "sum_or_product([10, 20, 3, 30, 5, 4], 3)"
   ]
  },
  {
   "cell_type": "code",
   "execution_count": null,
   "id": "8ccd2e00",
   "metadata": {},
   "outputs": [],
   "source": []
  }
 ],
 "metadata": {
  "kernelspec": {
   "display_name": "Python [conda env:ironhack]",
   "language": "python",
   "name": "conda-env-ironhack-py"
  },
  "language_info": {
   "codemirror_mode": {
    "name": "ipython",
    "version": 3
   },
   "file_extension": ".py",
   "mimetype": "text/x-python",
   "name": "python",
   "nbconvert_exporter": "python",
   "pygments_lexer": "ipython3",
   "version": "3.7.11"
  }
 },
 "nbformat": 4,
 "nbformat_minor": 5
}
