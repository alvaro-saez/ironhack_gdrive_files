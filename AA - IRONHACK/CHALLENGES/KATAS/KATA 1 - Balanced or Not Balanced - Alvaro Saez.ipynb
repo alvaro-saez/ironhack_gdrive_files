{
 "cells": [
  {
   "cell_type": "markdown",
   "id": "0ac7779c",
   "metadata": {},
   "source": [
    "Definition\n",
    "-- \n",
    "Balanced number is the number that * The sum of all digits to the left of the middle digit(s) and the sum of all digits to the right of the middle digit(s) are equal*.\n",
    "\n",
    "\n",
    "Notes\n",
    "-- \n",
    "- If the number has an odd number of digits (impar) then there is only one middle digit, e.g. 92645 has middle digit 6; --> WE HAVE TO \"REMOVE\" ONLY ONE DIGIT\n",
    "\n",
    "- otherwise, there are two middle digits , e.g. 1301 has middle digits 3 and 0 --> WE HAVE TO \"REMOVE\" TWO DIGITS\n",
    "\n",
    "The middle digit(s) should not be considered when determining whether a number is balanced or not, e.g 413023 is a balanced number because the left sum and right sum are both 5.\n",
    "\n",
    "Number passed is always Positive .\n",
    "\n",
    "Return the result as String"
   ]
  },
  {
   "cell_type": "code",
   "execution_count": 108,
   "id": "b64705b6",
   "metadata": {},
   "outputs": [],
   "source": [
    "#we have to use and DEFINE the next function\n",
    "def balanced_num(number):\n",
    "\n",
    "    #we convert the integer to string to can obtain its length\n",
    "    number_string = str(number).replace(\"-\",\"\") #to avoid negative number we convert the string into a positive number\n",
    "    number_lenght = len(number_string)\n",
    "\n",
    "    #we convert the str into a list\n",
    "    number_list = list (number_string)\n",
    "\n",
    "    #we are going to create counters to make both sums\n",
    "    number_sum_left = 0\n",
    "    number_sum_right = 0\n",
    "    if number_string.isdigit(): #if the variable number is not a digit we print a warning\n",
    "        #we have to know if the length is even or odd\n",
    "        if number_lenght%2 == 0: #even (so we can not consider the two middle digits)\n",
    "            print(\"log: \",\"even\")\n",
    "            even_division_left = number_lenght//2 - 1 # 0,1,2,3 (len=4) --> we want 0 index, so we need 1 and behind in the range\n",
    "            even_division_right = number_lenght//2 + 1 # 0,1,2,3 (len=4) --> we want 3 index, so we need 3 and forward\n",
    "            for i in range(0,even_division_left):\n",
    "                number_sum_left += int(number_list[i])\n",
    "            for e in range(even_division_right,number_lenght):\n",
    "                number_sum_right += int(number_list[e])\n",
    "            if number_sum_left == number_sum_right:\n",
    "                return \"Balanced\"\n",
    "            else:\n",
    "                return \"Not Balanced\"\n",
    "        else:#odd (so we can not consider the single middle digit)\n",
    "            print(\"log: \",\"odd\")\n",
    "            even_division_left = (number_lenght-1)//2 # 0,1,2 (len=3) --> we want 0 index, so we need 1 and behind in the range\n",
    "            even_division_right = (number_lenght+1)//2 # 0,1,2 (len=3) --> we want 2 index, so we need 2 and forward\n",
    "            for i in range(0,even_division_left):\n",
    "                number_sum_left += int(number_list[i])\n",
    "            for e in range(even_division_right,number_lenght):\n",
    "                number_sum_right += int(number_list[e])\n",
    "            if number_sum_left == number_sum_right:\n",
    "                return \"Balanced\"\n",
    "            else:\n",
    "                return \"Not Balanced\"\n",
    "    else:\n",
    "        print(\"log: no number in the function\")"
   ]
  },
  {
   "cell_type": "code",
   "execution_count": 122,
   "id": "c800a86f",
   "metadata": {},
   "outputs": [
    {
     "name": "stdout",
     "output_type": "stream",
     "text": [
      "log:  even\n"
     ]
    },
    {
     "data": {
      "text/plain": [
       "'Not Balanced'"
      ]
     },
     "execution_count": 122,
     "metadata": {},
     "output_type": "execute_result"
    }
   ],
   "source": [
    "balanced_num(9998)"
   ]
  },
  {
   "cell_type": "code",
   "execution_count": null,
   "id": "34e5e9c9",
   "metadata": {},
   "outputs": [],
   "source": []
  },
  {
   "cell_type": "code",
   "execution_count": null,
   "id": "b9b7f7d4",
   "metadata": {},
   "outputs": [],
   "source": []
  }
 ],
 "metadata": {
  "kernelspec": {
   "display_name": "Python 3",
   "language": "python",
   "name": "python3"
  },
  "language_info": {
   "codemirror_mode": {
    "name": "ipython",
    "version": 3
   },
   "file_extension": ".py",
   "mimetype": "text/x-python",
   "name": "python",
   "nbconvert_exporter": "python",
   "pygments_lexer": "ipython3",
   "version": "3.8.8"
  }
 },
 "nbformat": 4,
 "nbformat_minor": 5
}
