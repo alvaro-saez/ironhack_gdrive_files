{
 "cells": [
  {
   "cell_type": "code",
   "execution_count": 94,
   "id": "7089a171",
   "metadata": {},
   "outputs": [],
   "source": [
    "def count_deaf_rats(town):\n",
    "    import re\n",
    "    town_clean = re.sub(\" \",\"\",town)\n",
    "    \n",
    "    count_izq=0\n",
    "    count_der=0\n",
    "    \n",
    "    izq = town_clean.split(\"P\")[0].split(\",\")\n",
    "    der = town_clean.split(\"P\")[1].split(\",\")\n",
    "\n",
    "    for element_izq in izq:\n",
    "        for e in range(0,len(element_izq),2):\n",
    "            if e+1<len(element_izq):\n",
    "                if element_izq[e]+element_izq[e+1] == \"O~\":\n",
    "                    count_izq +=1\n",
    "    for element_der in der:\n",
    "        for h in range(0,len(element_der),2):\n",
    "            if h+1<len(element_der):\n",
    "                if element_der[h]+element_der[h+1] == \"~O\":\n",
    "                    count_der +=1\n",
    "    final_deaf=count_izq + count_der\n",
    "    return final_deaf\n",
    "    "
   ]
  },
  {
   "cell_type": "code",
   "execution_count": 95,
   "id": "0fcafc3d",
   "metadata": {},
   "outputs": [
    {
     "data": {
      "text/plain": [
       "1"
      ]
     },
     "execution_count": 95,
     "metadata": {},
     "output_type": "execute_result"
    }
   ],
   "source": [
    "count_deaf_rats(\"P O~ O~ ~O O~\")\n"
   ]
  },
  {
   "cell_type": "code",
   "execution_count": null,
   "id": "d89d4eef",
   "metadata": {},
   "outputs": [],
   "source": []
  }
 ],
 "metadata": {
  "kernelspec": {
   "display_name": "Python [conda env:ironhack]",
   "language": "python",
   "name": "conda-env-ironhack-py"
  },
  "language_info": {
   "codemirror_mode": {
    "name": "ipython",
    "version": 3
   },
   "file_extension": ".py",
   "mimetype": "text/x-python",
   "name": "python",
   "nbconvert_exporter": "python",
   "pygments_lexer": "ipython3",
   "version": "3.7.11"
  }
 },
 "nbformat": 4,
 "nbformat_minor": 5
}
