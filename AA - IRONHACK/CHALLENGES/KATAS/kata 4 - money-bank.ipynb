{
 "cells": [
  {
   "cell_type": "markdown",
   "id": "6b2d4d79",
   "metadata": {},
   "source": [
    "A company is opening a bank, but the coder who is designing the user class made some errors. They need you to help them.\n",
    "\n",
    "You must include the following:\n",
    "Note: These are NOT steps to code the class\n",
    "\n",
    "A withdraw method\n",
    "Subtracts money from balance\n",
    "One parameter, money to withdraw\n",
    "Raise a ValueError if there isn't enough money to withdraw\n",
    "Return a string with name and balance(see examples)\n",
    "A check method\n",
    "Adds money to balance\n",
    "Two parameters, other user and money\n",
    "Other user will always be valid\n",
    "Raise a ValueError if other user doesn't have enough money\n",
    "Raise a ValueError if checking_account isn't true for other user\n",
    "Return a string with name and balance plus other name and other balance(see examples)\n",
    "An add_cash method\n",
    "Adds money to balance\n",
    "One parameter, money to add\n",
    "Return a string with name and balance(see examples)\n",
    "Additional Notes:\n",
    "\n",
    "Checking_account should be stored as a boolean\n",
    "No input numbers will be negative\n",
    "Output must end with a period\n",
    "Float numbers will not be used so, balance should be integer\n",
    "No currency will be used"
   ]
  },
  {
   "cell_type": "code",
   "execution_count": 106,
   "id": "86d15c3b",
   "metadata": {},
   "outputs": [],
   "source": [
    "#creamos una clase\n",
    "class User(object):\n",
    "    def __init__(self, name, balance, checking_account):\n",
    "        self.name = name\n",
    "        self.balance = balance\n",
    "        self.checking_account = checking_account\n",
    "\n",
    "#atributos:\n",
    "#name --> str (joe)\n",
    "#balance --> int (70)\n",
    "#checking_account --> bool (true or false)\n",
    "\n",
    "\n",
    "#definir funciones ad-hoc\n",
    "    def withdraw(self,amount): #quita dinero al balance\n",
    "        if self.balance < amount:\n",
    "            raise ValueError(\"not enought balance\")\n",
    "        else:   \n",
    "            self.balance -= amount\n",
    "            return f\"{self.name} has {self.balance}.\"\n",
    "    \n",
    "    def check(self, name2, amount): #le quita la misma cantidad al otro usuario (name2)\n",
    "        if name2.balance < amount:\n",
    "            raise ValueError(\"not enought balance\")\n",
    "        elif self.checking_account == False or name2.checking_account == False:\n",
    "            raise ValueError(\"not enought balance\")\n",
    "        else:\n",
    "            self.balance += amount\n",
    "            name2.balance -= amount\n",
    "            return f\"{self.name} has {self.balance} and {name2.name} has {name2.balance}.\"\n",
    "    \n",
    "    def add_cash(self,amount): #añade dinero al balance\n",
    "        self.balance += amount\n",
    "        return f\"{self.name} has {self.balance}.\"\n",
    "        "
   ]
  },
  {
   "cell_type": "code",
   "execution_count": 108,
   "id": "9939d209",
   "metadata": {},
   "outputs": [],
   "source": [
    "#creamos los objetos de la clase:\n",
    "Jeff = User('Jeff', 70, True)\n",
    "Joe = User('Joe', 70, True)"
   ]
  },
  {
   "cell_type": "code",
   "execution_count": 109,
   "id": "2c432fea",
   "metadata": {},
   "outputs": [
    {
     "data": {
      "text/plain": [
       "'Jeff has 68.'"
      ]
     },
     "execution_count": 109,
     "metadata": {},
     "output_type": "execute_result"
    }
   ],
   "source": [
    "#lanzamos funcion1\n",
    "Jeff.withdraw(2)"
   ]
  },
  {
   "cell_type": "code",
   "execution_count": 110,
   "id": "3d664d77",
   "metadata": {},
   "outputs": [
    {
     "data": {
      "text/plain": [
       "'Jeff has 88.'"
      ]
     },
     "execution_count": 110,
     "metadata": {},
     "output_type": "execute_result"
    }
   ],
   "source": [
    "#lanzamos funcion2\n",
    "Jeff.add_cash(20)"
   ]
  },
  {
   "cell_type": "code",
   "execution_count": 111,
   "id": "96ebadfd",
   "metadata": {},
   "outputs": [
    {
     "data": {
      "text/plain": [
       "'Joe has 120 and Jeff has 38.'"
      ]
     },
     "execution_count": 111,
     "metadata": {},
     "output_type": "execute_result"
    }
   ],
   "source": [
    "#lanzamos funcion3\n",
    "Joe.check(Jeff, 50)"
   ]
  }
 ],
 "metadata": {
  "kernelspec": {
   "display_name": "Python [conda env:ironhack]",
   "language": "python",
   "name": "conda-env-ironhack-py"
  },
  "language_info": {
   "codemirror_mode": {
    "name": "ipython",
    "version": 3
   },
   "file_extension": ".py",
   "mimetype": "text/x-python",
   "name": "python",
   "nbconvert_exporter": "python",
   "pygments_lexer": "ipython3",
   "version": "3.7.11"
  }
 },
 "nbformat": 4,
 "nbformat_minor": 5
}
