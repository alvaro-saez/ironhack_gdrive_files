{
 "cells": [
  {
   "cell_type": "markdown",
   "id": "697a271d",
   "metadata": {},
   "source": [
    "# Enunciado"
   ]
  },
  {
   "cell_type": "code",
   "execution_count": 45,
   "id": "e20602f1",
   "metadata": {},
   "outputs": [
    {
     "name": "stdout",
     "output_type": "stream",
     "text": [
      "What is the maximal length of the triangle side? Enter a number: 15\n",
      "The longest side possible is 13\n",
      "Wall time: 5.73 s\n"
     ]
    }
   ],
   "source": [
    "\"\"\"\n",
    "Se le presenta un número entero mayor que 5. \n",
    "Su objetivo es identificar el lado más largo de un triángulo rectángulo \n",
    "        cuyos lados no sean más largos que el número que te dan.\n",
    "\n",
    "Por ejemplo, si te dan el número 15, hay 3 posibilidades para formar triángulos rectángulos:\n",
    "1. [3, 4, 5]\n",
    "2. [6, 8, 10]\n",
    "3. [5, 12, 13]\n",
    "\n",
    "La siguiente función muestra una forma de resolver el problema, pero el código no es ideal ni eficiente.\n",
    "Refactorice el código en función de lo que ha aprendido sobre la simplicidad y la eficiencia del código.\n",
    "\"\"\"\n",
    "\n",
    "def my_function(X):\n",
    "    solutions = []\n",
    "    for x in range(5, X):\n",
    "        for y in range(4, X):\n",
    "            for z in range(3, X):\n",
    "                if (x*x==y*y+z*z):\n",
    "                    solutions.append([x, y, z])\n",
    "    m = 0\n",
    "    for solution in solutions:\n",
    "        if m < max(solution):\n",
    "            m = max(solution)\n",
    "    return m\n",
    "\n",
    "X = input(\"What is the maximal length of the triangle side? Enter a number: \")\n",
    "\n",
    "print(\"The longest side possible is \" + str(my_function(int(X))))"
   ]
  },
  {
   "cell_type": "markdown",
   "id": "c0ecbe79",
   "metadata": {},
   "source": [
    " #### quitamos el input para ver cuanto tarda en ejecutarse"
   ]
  },
  {
   "cell_type": "code",
   "execution_count": 58,
   "id": "76055cee",
   "metadata": {},
   "outputs": [
    {
     "name": "stdout",
     "output_type": "stream",
     "text": [
      "The longest side possible is 13\n",
      "Wall time: 0 ns\n"
     ]
    }
   ],
   "source": [
    "%%time\n",
    "def my_function(X):\n",
    "    solutions = []\n",
    "    for x in range(5, X):\n",
    "        for y in range(4, X):\n",
    "            for z in range(3, X):\n",
    "                if (x*x==y*y+z*z):\n",
    "                    solutions.append([x, y, z])\n",
    "    m = 0\n",
    "    for solution in solutions:\n",
    "        if m < max(solution):\n",
    "            m = max(solution)\n",
    "    return m\n",
    "print(\"The longest side possible is \" + str(my_function(int(15))))"
   ]
  },
  {
   "cell_type": "markdown",
   "id": "4a302cd6",
   "metadata": {},
   "source": [
    "## Posible alternativa 1"
   ]
  },
  {
   "cell_type": "code",
   "execution_count": 41,
   "id": "dc7e762d",
   "metadata": {},
   "outputs": [
    {
     "name": "stdout",
     "output_type": "stream",
     "text": [
      "The longest side possible is 13\n",
      "Wall time: 859 µs\n"
     ]
    }
   ],
   "source": [
    "%%time\n",
    "def my_function(X):\n",
    "    solutions = [[x, y, z] for x in range(5, X) for y in range(4, X) for z in range(3, X) if (x*x==y*y+z*z)]\n",
    "    m = 0\n",
    "    for solution in solutions:\n",
    "        if m < max(solution):\n",
    "            m = max(solution)\n",
    "    return m\n",
    "print(\"The longest side possible is \" + str(my_function(int(15))))"
   ]
  },
  {
   "cell_type": "markdown",
   "id": "e26dda36",
   "metadata": {},
   "source": [
    "## solucion final (alternativa 2)"
   ]
  },
  {
   "cell_type": "code",
   "execution_count": 55,
   "id": "ce8ba00b",
   "metadata": {},
   "outputs": [
    {
     "name": "stdout",
     "output_type": "stream",
     "text": [
      "What is the maximal length of the triangle side? Enter a number: 15\n",
      "The longest side possible is 13\n",
      "Wall time: 1.54 s\n"
     ]
    }
   ],
   "source": [
    "%%time\n",
    "def my_function(X):\n",
    "    if X<=5:\n",
    "        return 0\n",
    "    else:\n",
    "        return max([max([x, y, z]) for x in range(5, X) for y in range(4, X) for z in range(3, X) if (x*x==y*y+z*z)])\n",
    "    \n",
    "X = input(\"What is the maximal length of the triangle side? Enter a number: \")\n",
    "\n",
    "print(\"The longest side possible is \" + str(my_function(int(X))))"
   ]
  },
  {
   "cell_type": "markdown",
   "id": "04999fab",
   "metadata": {},
   "source": [
    "#### quitamos el input para ver cuanto tarda en ejecutarse"
   ]
  },
  {
   "cell_type": "code",
   "execution_count": 59,
   "id": "9ab55d09",
   "metadata": {},
   "outputs": [
    {
     "name": "stdout",
     "output_type": "stream",
     "text": [
      "The longest side possible is 13\n",
      "Wall time: 997 µs\n"
     ]
    }
   ],
   "source": [
    "%%time\n",
    "def my_function(X):\n",
    "    if X<=5:\n",
    "        return 0\n",
    "    else:\n",
    "        return max([max([x, y, z]) for x in range(5, X) for y in range(4, X) for z in range(3, X) if (x*x==y*y+z*z)])\n",
    "print(\"The longest side possible is \" + str(my_function(int(15))))"
   ]
  },
  {
   "cell_type": "code",
   "execution_count": null,
   "id": "977e3279",
   "metadata": {},
   "outputs": [],
   "source": []
  }
 ],
 "metadata": {
  "kernelspec": {
   "display_name": "Python [conda env:ironhack]",
   "language": "python",
   "name": "conda-env-ironhack-py"
  },
  "language_info": {
   "codemirror_mode": {
    "name": "ipython",
    "version": 3
   },
   "file_extension": ".py",
   "mimetype": "text/x-python",
   "name": "python",
   "nbconvert_exporter": "python",
   "pygments_lexer": "ipython3",
   "version": "3.7.11"
  }
 },
 "nbformat": 4,
 "nbformat_minor": 5
}
