{
 "cells": [
  {
   "cell_type": "code",
   "execution_count": 197,
   "id": "e8d1f68d",
   "metadata": {},
   "outputs": [],
   "source": [
    "import re #import the library for regular expressions"
   ]
  },
  {
   "cell_type": "markdown",
   "id": "1929558b",
   "metadata": {},
   "source": [
    "# Challenge 1 - Combining Strings\n",
    "\n",
    "Combining strings is an important skill to acquire. There are multiple ways of combining strings in Python, as well as combining strings with variables. We will explore this in the first challenge. In the cell below, combine the strings in the list and add spaces between the strings (do not add a space after the last string). Insert a period after the last string."
   ]
  },
  {
   "cell_type": "code",
   "execution_count": 198,
   "id": "7793c85c",
   "metadata": {},
   "outputs": [],
   "source": [
    "str_list = ['Durante', 'un', 'tiempo', 'no', 'estuvo', 'segura', 'de', 'si', 'su', 'marido', 'era', 'su', 'marido']"
   ]
  },
  {
   "cell_type": "code",
   "execution_count": 199,
   "id": "21e4f3ac",
   "metadata": {},
   "outputs": [
    {
     "data": {
      "text/plain": [
       "'Durante un tiempo no estuvo segura de si su marido era su marido.'"
      ]
     },
     "execution_count": 199,
     "metadata": {},
     "output_type": "execute_result"
    }
   ],
   "source": [
    "# Your code here:\n",
    "\" \".join(str_list) + \".\""
   ]
  },
  {
   "cell_type": "markdown",
   "id": "5f477620",
   "metadata": {},
   "source": [
    "In the cell below, use the list of strings to create a grocery list. Start the list with the string `Grocery list: ` and include a comma and a space between each item except for the last one. Include a period at the end. Only include foods in the list that start with the letter 'b' and ensure all foods are lower case."
   ]
  },
  {
   "cell_type": "code",
   "execution_count": 200,
   "id": "8dc19f8d",
   "metadata": {},
   "outputs": [],
   "source": [
    "food_list = ['Bananas', 'Chocolate', 'bread', 'diapers', 'Ice Cream', 'Brownie Mix', 'broccoli']"
   ]
  },
  {
   "cell_type": "code",
   "execution_count": 201,
   "id": "ec20051d",
   "metadata": {},
   "outputs": [
    {
     "name": "stdout",
     "output_type": "stream",
     "text": [
      "bananas, chocolate, bread, diapers, ice cream, brownie mix, broccoli\n",
      "['bananas', 'bread', 'brownie', 'broccoli']\n",
      "Grocery list: bananas, bread, brownie, broccoli.\n"
     ]
    }
   ],
   "source": [
    "# Your code here:\n",
    "food_list_str = \", \".join(food_list).lower() #we pass it to a string and to lower case\n",
    "print(food_list_str)\n",
    "\n",
    "food_list_str_with_b = re.findall(\"b[a-z]*\",food_list_str) #we obtain only those values with start with b\n",
    "print(food_list_str_with_b)\n",
    "\n",
    "final_foof_list= \"Grocery list: \" + \", \".join(food_list_str_with_b) + \".\" \n",
    "print(final_foof_list)"
   ]
  },
  {
   "cell_type": "markdown",
   "id": "0f081882",
   "metadata": {},
   "source": [
    "In the cell below, write a function that computes the area of a circle using its radius. Compute the area of the circle and insert the radius and the area between the two strings. Make sure to include spaces between the variable and the strings.\n",
    "\n",
    "Note: You can use the techniques we have learned so far or use f-strings. F-strings allow us to embed code inside strings. You can read more about f-strings here."
   ]
  },
  {
   "cell_type": "code",
   "execution_count": 202,
   "id": "6ebbb9f1",
   "metadata": {},
   "outputs": [
    {
     "name": "stdout",
     "output_type": "stream",
     "text": [
      "The area of the circle with radius:4.5 is:63.61725123519331\n"
     ]
    }
   ],
   "source": [
    "import math\n",
    "\n",
    "string1 = \"The area of the circle with radius:\"\n",
    "string2  = \"is:\"\n",
    "radius = 4.5\n",
    "area = math.pi*radius*radius\n",
    "#final_result= string1 + str(radius) + \" \" + string2 + str(area)\n",
    "final_result= f\"{string1}\" + str(radius) +  f\" {string2}\" + str(area)\n",
    "print(final_result)\n",
    "\n",
    "def area(x, pi = math.pi):\n",
    "    \"\"\"\n",
    "    This function takes a radius and returns the area of a circle. \n",
    "    We also pass a default value for pi.\n",
    "    \n",
    "    Input: Float (and default value for pi)\n",
    "    Output: Float\n",
    "    \n",
    "    Sample input: 5.0\n",
    "    Sample Output: 78.53981633\n",
    "    \"\"\"\n",
    "    \n",
    "    # Your code here:\n",
    "    \n",
    "    \n",
    "# Your output string here:"
   ]
  },
  {
   "cell_type": "markdown",
   "id": "116a925a",
   "metadata": {},
   "source": [
    "# Challenge 2 - Splitting Strings\n",
    "\n",
    "We have first looked at combining strings into one long string. There are times where we need to do the opposite and split the string into smaller components for further analysis.\n",
    "\n",
    "In the cell below, split the string into a list of strings using the space delimiter. Count the frequency of each word in the string in a dictionary. Strip the periods, line breaks and commas from the text. Make sure to remove empty strings from your dictionary."
   ]
  },
  {
   "cell_type": "code",
   "execution_count": 247,
   "id": "76f1efba",
   "metadata": {},
   "outputs": [],
   "source": [
    "poem = \"\"\"Some say the world will end in fire,\n",
    "Some say in ice.\n",
    "From what I’ve tasted of desire\n",
    "I hold with those who favor fire.\n",
    "But if it had to perish twice,\n",
    "I think I know enough of hate\n",
    "To say that for destruction ice\n",
    "Is also great\n",
    "And would suffice.\"\"\"\n",
    "\n",
    "# Your code here:"
   ]
  },
  {
   "cell_type": "code",
   "execution_count": 248,
   "id": "9c4d710c",
   "metadata": {},
   "outputs": [
    {
     "name": "stdout",
     "output_type": "stream",
     "text": [
      "Some say the world will end in fire  Some say in ice  From what I’ve tasted of desire I hold with those who favor fire  But if it had to perish twice  I think I know enough of hate To say that for destruction ice Is also great And would suffice \n",
      "Some say the world will end in fire Some say in ice From what I’ve tasted of desire I hold with those who favor fire But if it had to perish twice I think I know enough of hate To say that for destruction ice Is also great And would suffice \n"
     ]
    }
   ],
   "source": [
    "# first, clean the data set --> periods, line breaks, commas\n",
    "poem_clean = re.sub(\",|\\.|\\n\",\" \",poem)\n",
    "print(poem_clean)\n",
    "poem_clean2 = re.sub(\"  \",\" \",poem_clean)\n",
    "print(poem_clean2)"
   ]
  },
  {
   "cell_type": "code",
   "execution_count": 249,
   "id": "bdb46245",
   "metadata": {},
   "outputs": [
    {
     "name": "stdout",
     "output_type": "stream",
     "text": [
      "['Some', 'say', 'the', 'world', 'will', 'end', 'in', 'fire', 'Some', 'say', 'in', 'ice', 'From', 'what', 'I’ve', 'tasted', 'of', 'desire', 'I', 'hold', 'with', 'those', 'who', 'favor', 'fire', 'But', 'if', 'it', 'had', 'to', 'perish', 'twice', 'I', 'think', 'I', 'know', 'enough', 'of', 'hate', 'To', 'say', 'that', 'for', 'destruction', 'ice', 'Is', 'also', 'great', 'And', 'would', 'suffice']\n"
     ]
    }
   ],
   "source": [
    "poem_clean2_list = poem_clean2.rstrip().split(\" \")\n",
    "print(poem_clean2_list)"
   ]
  },
  {
   "cell_type": "code",
   "execution_count": 250,
   "id": "1ae40deb",
   "metadata": {},
   "outputs": [
    {
     "name": "stdout",
     "output_type": "stream",
     "text": [
      "{'Some': 2, 'say': 3, 'the': 1, 'world': 1, 'will': 1, 'end': 1, 'in': 2, 'fire': 2, 'ice': 2, 'From': 1, 'what': 1, 'I’ve': 1, 'tasted': 1, 'of': 2, 'desire': 1, 'I': 3, 'hold': 1, 'with': 1, 'those': 1, 'who': 1, 'favor': 1, 'But': 1, 'if': 1, 'it': 1, 'had': 1, 'to': 1, 'perish': 1, 'twice': 1, 'think': 1, 'know': 1, 'enough': 1, 'hate': 1, 'To': 1, 'that': 1, 'for': 1, 'destruction': 1, 'Is': 1, 'also': 1, 'great': 1, 'And': 1, 'would': 1, 'suffice': 1}\n"
     ]
    }
   ],
   "source": [
    "poem_dic = {}\n",
    "for i in poem_clean2_list:\n",
    "    poem_dic[i] = poem_clean2_list.count(i)\n",
    "print(poem_dic)"
   ]
  },
  {
   "cell_type": "markdown",
   "id": "6c0d1ca3",
   "metadata": {},
   "source": [
    "In the cell below, find all the words that appear in the text and do not appear in the blacklist. You must parse the string but can choose any data structure you wish for the words that do not appear in the blacklist. Remove all non letter characters and convert all words to lower case."
   ]
  },
  {
   "cell_type": "code",
   "execution_count": 279,
   "id": "3f515c0c",
   "metadata": {},
   "outputs": [],
   "source": [
    "blacklist = ['and', 'as', 'an', 'a', 'the', 'in', 'it']\n",
    "\n",
    "poem_challenge_2 = \"\"\"I was angry with my friend; \n",
    "I told my wrath, my wrath did end.\n",
    "I was angry with my foe: \n",
    "I told it not, my wrath did grow. \n",
    "\n",
    "And I waterd it in fears,\n",
    "Night & morning with my tears: \n",
    "And I sunned it with smiles,\n",
    "And with soft deceitful wiles. \n",
    "\n",
    "And it grew both day and night. \n",
    "Till it bore an apple bright. \n",
    "And my foe beheld it shine,\n",
    "And he knew that it was mine. \n",
    "\n",
    "And into my garden stole, \n",
    "When the night had veild the pole; \n",
    "In the morning glad I see; \n",
    "My foe outstretched beneath the tree.\"\"\"\n",
    "\n",
    "# Your code here:"
   ]
  },
  {
   "cell_type": "code",
   "execution_count": 280,
   "id": "140f517b",
   "metadata": {},
   "outputs": [
    {
     "name": "stdout",
     "output_type": "stream",
     "text": [
      "i was angry with my friend i told my wrath my wrath did end i was angry with my foe i told it not my wrath did grow and i waterd it in fears night morning with my tears and i sunned it with smiles and with soft deceitful wiles and it grew both day and night till it bore an apple bright and my foe beheld it shine and he knew that it was mine and into my garden stole when the night had veild the pole in the morning glad i see my foe outstretched beneath the tree\n"
     ]
    }
   ],
   "source": [
    "# first, clean the data set --> Remove all non letter characters and convert all words to lower case.\n",
    "poem_challenge_2_clean = re.sub(\"\\W+\",\" \",poem_challenge_2).lower().rstrip()\n",
    "print(poem_challenge_2_clean)"
   ]
  },
  {
   "cell_type": "code",
   "execution_count": 282,
   "id": "73e8505a",
   "metadata": {},
   "outputs": [
    {
     "name": "stdout",
     "output_type": "stream",
     "text": [
      "['i', 'was', 'angry', 'with', 'my', 'friend', 'i', 'told', 'my', 'wrath', 'my', 'wrath', 'did', 'end', 'i', 'was', 'angry', 'with', 'my', 'foe', 'i', 'told', 'it', 'not', 'my', 'wrath', 'did', 'grow', 'and', 'i', 'waterd', 'it', 'in', 'fears', 'night', 'morning', 'with', 'my', 'tears', 'and', 'i', 'sunned', 'it', 'with', 'smiles', 'and', 'with', 'soft', 'deceitful', 'wiles', 'and', 'it', 'grew', 'both', 'day', 'and', 'night', 'till', 'it', 'bore', 'an', 'apple', 'bright', 'and', 'my', 'foe', 'beheld', 'it', 'shine', 'and', 'he', 'knew', 'that', 'it', 'was', 'mine', 'and', 'into', 'my', 'garden', 'stole', 'when', 'the', 'night', 'had', 'veild', 'the', 'pole', 'in', 'the', 'morning', 'glad', 'i', 'see', 'my', 'foe', 'outstretched', 'beneath', 'the', 'tree']\n"
     ]
    }
   ],
   "source": [
    "poem2_clean_list = poem_challenge_2_clean.split(\" \")\n",
    "print(poem2_clean_list)"
   ]
  },
  {
   "cell_type": "code",
   "execution_count": 285,
   "id": "76f5db50",
   "metadata": {},
   "outputs": [
    {
     "name": "stdout",
     "output_type": "stream",
     "text": [
      "['i', 'was', 'angry', 'with', 'my', 'friend', 'i', 'told', 'my', 'wrath', 'my', 'wrath', 'did', 'end', 'i', 'was', 'angry', 'with', 'my', 'foe', 'i', 'told', 'not', 'my', 'wrath', 'did', 'grow', 'i', 'waterd', 'fears', 'night', 'morning', 'with', 'my', 'tears', 'i', 'sunned', 'with', 'smiles', 'with', 'soft', 'deceitful', 'wiles', 'grew', 'both', 'day', 'night', 'till', 'bore', 'apple', 'bright', 'my', 'foe', 'beheld', 'shine', 'he', 'knew', 'that', 'was', 'mine', 'into', 'my', 'garden', 'stole', 'when', 'night', 'had', 'veild', 'pole', 'morning', 'glad', 'i', 'see', 'my', 'foe', 'outstretched', 'beneath', 'tree']\n"
     ]
    }
   ],
   "source": [
    "text_white_list = []\n",
    "for i in poem2_clean_list:\n",
    "    if i in blacklist:\n",
    "        nothing = \"nothing\"\n",
    "    else:\n",
    "        text_white_list.append(i)\n",
    "print(text_white_list)"
   ]
  },
  {
   "cell_type": "markdown",
   "id": "38cb0795",
   "metadata": {},
   "source": [
    "# Challenge 3 - Regular Expressions\n",
    "Sometimes, we would like to perform more complex manipulations of our string. This is where regular expressions come in handy. In the cell below, return all characters that are upper case from the string specified below."
   ]
  },
  {
   "cell_type": "code",
   "execution_count": 286,
   "id": "5be820d9",
   "metadata": {},
   "outputs": [],
   "source": [
    "poem = \"\"\"The apparition of these faces in the crowd;\n",
    "Petals on a wet, black bough.\"\"\"\n",
    "\n",
    "# Your code here:"
   ]
  },
  {
   "cell_type": "code",
   "execution_count": 288,
   "id": "68b9bbac",
   "metadata": {},
   "outputs": [
    {
     "name": "stdout",
     "output_type": "stream",
     "text": [
      "['T', 'P']\n"
     ]
    }
   ],
   "source": [
    "print(re.findall(\"[A-Z]\",poem))"
   ]
  },
  {
   "cell_type": "markdown",
   "id": "18218882",
   "metadata": {},
   "source": [
    "In the cell below, filter the list provided and return all elements of the list containing a number. To filter the list, use the re.search function. Check if the function does not return None. You can read more about the re.search function here"
   ]
  },
  {
   "cell_type": "code",
   "execution_count": 877,
   "id": "74c878f0",
   "metadata": {},
   "outputs": [
    {
     "name": "stdout",
     "output_type": "stream",
     "text": [
      "['123abc', 'abc123', 'JohnSmith1', 'ABBY4', 'JANE']\n"
     ]
    }
   ],
   "source": [
    "data = ['123abc', 'abc123', 'JohnSmith1', 'ABBY4', 'JANE']\n",
    "\n",
    "# Your code here\n",
    "data_string=str(data)\n",
    "print(data_string)"
   ]
  },
  {
   "cell_type": "code",
   "execution_count": 878,
   "id": "168860b6",
   "metadata": {},
   "outputs": [
    {
     "name": "stdout",
     "output_type": "stream",
     "text": [
      "['123abc', 'abc123', 'JohnSmith1', 'ABBY4']\n"
     ]
    }
   ],
   "source": [
    "print(re.findall(\"\\w*\\d+\\w*\",data_string))"
   ]
  },
  {
   "cell_type": "code",
   "execution_count": 879,
   "id": "0fad005c",
   "metadata": {},
   "outputs": [
    {
     "data": {
      "text/plain": [
       "['123abc', 'abc123', 'JohnSmith1', 'ABBY4']"
      ]
     },
     "execution_count": 879,
     "metadata": {},
     "output_type": "execute_result"
    }
   ],
   "source": [
    "var_search = re.search(\"(\\W*\\w*\\d+\\w*\\W*)+\",data_string.replace(\" \",\"\").replace(\"[\",\"\"))\n",
    "var_search_list = var_search.group().replace(\"'\",\"\").split(\",\")\n",
    "var_search_list[:len(var_search_list)-1]"
   ]
  },
  {
   "cell_type": "markdown",
   "id": "b669e549",
   "metadata": {},
   "source": [
    "# Bonus Challenge - Regular Expressions II\n",
    "In the cell below, filter the list provided to keep only strings containing at least one digit and at least one lower case letter. As in the previous question, use the re.search function and check that the result is not None.\n",
    "\n",
    "To read more about regular expressions, check out this link."
   ]
  },
  {
   "cell_type": "code",
   "execution_count": 859,
   "id": "f995a8f6",
   "metadata": {},
   "outputs": [],
   "source": [
    "data_bonus = ['123abc', 'abc123', 'JohnSmith1', 'ABBY4', 'JANE']\n",
    "# Your code here:\n"
   ]
  },
  {
   "cell_type": "code",
   "execution_count": 860,
   "id": "99f7ee33",
   "metadata": {},
   "outputs": [
    {
     "name": "stdout",
     "output_type": "stream",
     "text": [
      "['123abc', 'abc123', 'JohnSmith1']\n"
     ]
    }
   ],
   "source": [
    "data_bonus_string_findall=str(data_bonus)\n",
    "print(re.findall(\"\\w*[a-z]+\\d+|\\d+[a-z]+\\w*\",data_bonus_string_findall))"
   ]
  },
  {
   "cell_type": "code",
   "execution_count": 861,
   "id": "314b5977",
   "metadata": {},
   "outputs": [
    {
     "name": "stdout",
     "output_type": "stream",
     "text": [
      "123abc,abc123,JohnSmith1,\n",
      "['123abc', 'abc123', 'JohnSmith1']\n"
     ]
    }
   ],
   "source": [
    "data_bonus_string=str(data_bonus).replace(\"[\",\"\").replace(\"]\",\"\").replace(\" \",\"\").replace(\"'\",\"\")\n",
    "var_search2 = re.search(\"(\\W*\\w*(([a-z]+\\d+)|(\\d+[a-z]+))+\\w*\\W*)+\",data_bonus_string)\n",
    "print(var_search2.group())\n",
    "if var_search2.group().startswith(\",\") == True and var_search2.group().endswith(\",\") == True:\n",
    "    var_search_list2 = var_search2.group().split(\",\")\n",
    "    print(var_search_list2[1:len(var_search_list2)-1])\n",
    "elif var_search2.group().startswith(\",\") == True and var_search2.group().endswith(\",\") == False:\n",
    "    var_search_list2 = var_search2.group().split(\",\")\n",
    "    print(var_search_list2[1:len(var_search_list2)])\n",
    "elif var_search2.group().startswith(\",\") == False and var_search2.group().endswith(\",\") == True:\n",
    "    var_search_list2 = var_search2.group().split(\",\")\n",
    "    print(var_search_list2[0:len(var_search_list2)-1])\n",
    "elif var_search2.group().startswith(\",\") == False and var_search2.group().endswith(\",\") == False:\n",
    "    var_search_list2 = var_search2.group().split(\",\")\n",
    "    print(var_search_list2[:])\n",
    "else:\n",
    "    print(\"error\")"
   ]
  }
 ],
 "metadata": {
  "kernelspec": {
   "display_name": "Python [conda env:ironhack]",
   "language": "python",
   "name": "conda-env-ironhack-py"
  },
  "language_info": {
   "codemirror_mode": {
    "name": "ipython",
    "version": 3
   },
   "file_extension": ".py",
   "mimetype": "text/x-python",
   "name": "python",
   "nbconvert_exporter": "python",
   "pygments_lexer": "ipython3",
   "version": "3.7.11"
  }
 },
 "nbformat": 4,
 "nbformat_minor": 5
}
